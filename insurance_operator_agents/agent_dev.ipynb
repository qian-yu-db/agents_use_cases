{
 "cells": [
  {
   "metadata": {},
   "cell_type": "markdown",
   "source": "# Check Databricks Connect",
   "id": "9878d836327fff7a"
  },
  {
   "cell_type": "code",
   "id": "initial_id",
   "metadata": {
    "collapsed": true,
    "ExecuteTime": {
     "end_time": "2025-03-04T06:04:28.534342Z",
     "start_time": "2025-03-04T06:04:27.629616Z"
    }
   },
   "source": [
    "from databricks.connect import DatabricksSession\n",
    "spark = DatabricksSession.builder.getOrCreate()"
   ],
   "outputs": [],
   "execution_count": 1
  },
  {
   "metadata": {
    "ExecuteTime": {
     "end_time": "2025-03-04T06:04:35.172228Z",
     "start_time": "2025-03-04T06:04:33.788965Z"
    }
   },
   "cell_type": "code",
   "source": [
    "df = spark.table('fins_genai.agents.customer_profiles')\n",
    "df.show(5)"
   ],
   "id": "5bed3926d4679457",
   "outputs": [
    {
     "name": "stdout",
     "output_type": "stream",
     "text": [
      "+-------------+-------+----------+--------------+------------+---------------+---------+--------+----------+----------+------------------+----------+---------+--------------------+--------------+\n",
      "|policy_number|CUST_ID|POLICYTYPE|pol_issue_date|pol_eff_date|pol_expiry_date|     MAKE|   MODEL|MODEL_YEAR|   DRV_DOB|           address|first_name|last_name|               email|  phone_number|\n",
      "+-------------+-------+----------+--------------+------------+---------------+---------+--------+----------+----------+------------------+----------+---------+--------------------+--------------+\n",
      "|    102147963| 7957.0|      COMP|    2020-07-29|  2020-07-29|     2021-08-28| MERCEDES|    C200|    2016.0|02-04-2013|   QUEENS, 11355.0|   Ricardo|   Rogers| hartjoe@example.org|(802)-895-4032|\n",
      "|    102147937| 3304.0|      COMP|    2020-07-29|  2020-07-29|     2021-08-28|     AUDI|     A 3|    2019.0|30-10-2018|MANHATTAN, 10013.0|      Dawn|     Neal|  ssimon@example.org|(875)-209-8555|\n",
      "|    102148003| 5173.0|      COMP|    2020-07-30|  2020-07-30|     2021-08-29|CHEVROLET|TRAVERSE|    2019.0|29-07-2013|   QUEENS, 11417.0|   Ricardo|    Brown|micheal11@example...|(549)-289-1578|\n",
      "|    102148040|  693.0|      COMP|    2020-08-03|  2020-08-03|     2021-09-02|    LEXUS|   UX200|    2019.0|04-08-2015|    BRONX, 10475.0|      Cody|   Kaiser|george67@example.net|(720)-407-7001|\n",
      "|    102148048| 7957.0|      COMP|    2020-08-03|  2020-08-03|     2021-09-02|   NISSAN|  ALTIMA|    2011.0|01-06-2014| BROOKLYN, 11238.0|      Mike|    Clark|kelseymanning@exa...|(163)-217-5784|\n",
      "+-------------+-------+----------+--------------+------------+---------------+---------+--------+----------+----------+------------------+----------+---------+--------------------+--------------+\n",
      "only showing top 5 rows\n"
     ]
    }
   ],
   "execution_count": 2
  },
  {
   "metadata": {},
   "cell_type": "markdown",
   "source": "# Set up Env and MLFlow",
   "id": "1f4cb746e50b22e4"
  },
  {
   "metadata": {
    "ExecuteTime": {
     "end_time": "2025-03-04T05:44:38.472093Z",
     "start_time": "2025-03-04T05:44:35.948206Z"
    }
   },
   "cell_type": "code",
   "source": [
    "import mlflow\n",
    "from dotenv import load_dotenv\n",
    "load_dotenv('../.env')\n",
    "\n",
    "DATABRICKS_HOST = os.getenv('host')\n",
    "DATABRICKS_TOKEN = os.getenv('token')\n",
    "OPENAI_API_KEY = os.getenv('OPENAI_API_KEY')\n",
    "print(f\"host: {DATABRICKS_HOST}\")\n",
    "\n",
    "mlflow.set_tracking_uri(\"http://localhost:5000\")\n",
    "mlflow.set_registry_uri(\"http://localhost:5000\")\n",
    "mlflow.set_experiment(\"crewai_local_dev\")\n",
    "mlflow.crewai.autolog()"
   ],
   "id": "e8eae0a43750435d",
   "outputs": [
    {
     "name": "stdout",
     "output_type": "stream",
     "text": [
      "host: adb-984752964297111.11.azuredatabricks.net\n"
     ]
    },
    {
     "name": "stderr",
     "output_type": "stream",
     "text": [
      "2025/03/03 21:44:37 WARNING mlflow.utils.autologging_utils: MLflow autologging encountered a warning: \"/Users/q.yu/workspace/agents_use_cases/.venv/lib/python3.11/site-packages/pydantic/_internal/_config.py:345: UserWarning: Valid config keys have changed in V2:\n",
      "* 'fields' has been removed\"\n"
     ]
    }
   ],
   "execution_count": 4
  },
  {
   "metadata": {
    "ExecuteTime": {
     "end_time": "2025-03-04T05:44:44.915057Z",
     "start_time": "2025-03-04T05:44:44.895279Z"
    }
   },
   "cell_type": "code",
   "source": [
    "from unitycatalog.ai.core.base import set_uc_function_client\n",
    "from unitycatalog.ai.core.databricks import DatabricksFunctionClient\n",
    "\n",
    "client = DatabricksFunctionClient()\n",
    "set_uc_function_client(client)\n",
    "\n",
    "CATALOG = 'fins_genai'\n",
    "SCHEMA = 'agents'"
   ],
   "id": "21b0351103a8d17d",
   "outputs": [],
   "execution_count": 5
  },
  {
   "metadata": {},
   "cell_type": "markdown",
   "source": "# Create UC Tools",
   "id": "96f047cd49e2dc02"
  },
  {
   "metadata": {
    "ExecuteTime": {
     "end_time": "2025-03-04T00:32:42.318278Z",
     "start_time": "2025-03-04T00:32:40.828371Z"
    }
   },
   "cell_type": "code",
   "source": [
    "sql_function1 = \\\n",
    "f\"\"\"\n",
    "CREATE OR REPLACE FUNCTION {CATALOG}.{SCHEMA}.get_customer_transcripts_by_phone_number(\n",
    "  search_name STRING\n",
    ")\n",
    "RETURNS TABLE (\n",
    "  profile STRING\n",
    ")\n",
    "COMMENT 'Return a customer transcript with a given caller_id (phone number)'\n",
    "LANGUAGE SQL\n",
    "  RETURN\n",
    "  select\n",
    "    transcript\n",
    "  from {CATALOG}.{SCHEMA}.call_transcripts\n",
    "  where phone_number = search_name\n",
    ";\n",
    "\"\"\"\n",
    "sql_func_info = client.create_function(sql_function_body=sql_function1)\n",
    "print(sql_func_info)"
   ],
   "id": "e26d0aac76fa9b92",
   "outputs": [
    {
     "name": "stdout",
     "output_type": "stream",
     "text": [
      "FunctionInfo(browse_only=None, catalog_name='fins_genai', comment='Return a customer transcript with a given caller_id (phone number)', created_at=1741048361594, created_by='q.yu@databricks.com', data_type=<ColumnTypeName.TABLE_TYPE: 'TABLE_TYPE'>, external_language=None, external_name=None, full_data_type='(profile STRING)', full_name='fins_genai.agents.get_customer_transcripts_by_phone_number', function_id='0548fbb5-b5b6-4654-815e-11f11a41c345', input_params=FunctionParameterInfos(parameters=[FunctionParameterInfo(name='search_name', type_text='string', type_name=<ColumnTypeName.STRING: 'STRING'>, position=0, comment=None, parameter_default=None, parameter_mode=None, parameter_type=<FunctionParameterType.PARAM: 'PARAM'>, type_interval_type=None, type_json='{\"name\":\"search_name\",\"type\":\"string\",\"nullable\":true,\"metadata\":{}}', type_precision=0, type_scale=0)]), is_deterministic=True, is_null_call=None, metastore_id='b86c6879-8c55-4e70-a585-18d16a4fa6e9', name='get_customer_transcripts_by_phone_number', owner='q.yu@databricks.com', parameter_style=<FunctionInfoParameterStyle.S: 'S'>, properties='{\"sqlConfig.spark.databricks.sql.functions.aiFunctions.adaptiveThreadPool.taskWaitTimeInSeconds\":\"1000\",\"sqlConfig.spark.sql.ansi.enabled\":\"true\",\"sqlConfig.spark.databricks.sql.functions.aiFunctions.decimal.dataType.enabled\":\"true\",\"referredTempFunctionsNames\":\"[]\",\"sqlConfig.spark.sql.streaming.statefulOperator.stateRebalancing.enabled\":\"false\",\"sqlConfig.spark.databricks.sql.functions.aiFunctions.adaptiveThreadPool.dynamicPoolSizeEnabled\":\"false\",\"sqlConfig.spark.databricks.sql.functions.aiFunctions.adaptiveThreadPool.debugLogEnabled\":\"true\",\"catalogAndNamespace.part.0\":\"default\",\"sqlConfig.spark.databricks.sql.functions.aiFunctions.remoteHttpClient.maxConnections\":\"2048\",\"sqlConfig.spark.sql.legacy.createHiveTableByDefault\":\"false\",\"sqlConfig.spark.sql.streaming.stopTimeout\":\"15s\",\"sqlConfig.spark.databricks.sql.functions.aiFunctions.remoteHttpClient.timeoutInSeconds\":\"360\",\"referredTempViewNames\":\"[]\",\"sqlConfig.spark.databricks.sql.functions.aiFunctions.adaptiveThreadPool.enabled\":\"true\",\"sqlConfig.spark.sql.legacy.codingErrorAction\":\"true\",\"sqlConfig.spark.databricks.sql.functions.aiFunctions.adaptiveThreadPool.scaleUpThresholdCurrentQpsIncreaseRatio\":\"0.0\",\"sqlConfig.spark.databricks.sql.functions.aiFunctions.adaptiveThreadPool.scaleUpThresholdTotalQpsIncreaseRatio\":\"0.0\",\"catalogAndNamespace.part.1\":\"default\",\"sqlConfig.spark.databricks.sql.functions.aiFunctions.useDedicatedHttpClient\":\"true\",\"sqlConfig.spark.sql.readSideCharPadding\":\"true\",\"sqlConfig.spark.sql.variable.substitute\":\"false\",\"sqlConfig.spark.databricks.sql.functions.aiFunctions.adaptiveThreadPool.threadKeepAliveTimeInSeconds\":\"600\",\"sqlConfig.spark.databricks.sql.expression.aiFunctions.repartition\":\"0\",\"sqlConfig.spark.databricks.sql.functions.aiForecast.enabled\":\"false\",\"sqlConfig.spark.databricks.sql.functions.aiFunctions.adaptiveThreadPool.useDynamicTaskQueueExecutor\":\"false\",\"sqlConfig.spark.sql.sources.default\":\"delta\",\"sqlConfig.spark.sql.hive.convertCTAS\":\"true\",\"sqlConfig.spark.databricks.sql.functions.vectorSearch.enabled\":\"true\",\"sqlConfig.spark.databricks.sql.functions.aiFunctions.safe.inference.enabled\":\"true\",\"sqlConfig.spark.sql.scripting.enabled\":\"true\",\"sqlConfig.spark.databricks.sql.functions.aiFunctions.batch.aiQuery.embedding.request.size\":\"4\",\"referredTempVariableNames\":\"[]\",\"sqlConfig.spark.databricks.sql.functions.aiFunctions.batch.execution.size\":\"2048\",\"sqlConfig.spark.databricks.sql.functions.aiFunctions.adaptiveThreadPool.clusterSizeBasedGlobalParallelism.scaleFactor\":\"32.0\",\"sqlConfig.spark.databricks.sql.functions.aiGen.endpointName\":\"databricks-meta-llama-3-3-70b-instruct\",\"sqlConfig.spark.databricks.sql.functions.aiFunctions.embeddingsEndpointName\":\"databricks-bge-large-en\",\"sqlConfig.spark.databricks.sql.functions.aiFunctions.adaptiveThreadPool.maxPoolSize\":\"2048\",\"sqlConfig.spark.sql.sources.commitProtocolClass\":\"com.databricks.sql.transaction.directory.DirectoryAtomicCommitProtocol\",\"sqlConfig.spark.sql.functions.remoteHttpClient.retryOn400TimeoutError\":\"true\",\"sqlConfig.spark.databricks.sql.functions.aiFunctions.purposeBuiltFunctions.batch.execution.enabled\":\"false\",\"catalogAndNamespace.numParts\":\"2\",\"sqlConfig.spark.databricks.sql.functions.aiFunctions.adaptiveThreadPool.scaleUpThresholdSuccessRatio\":\"0.95\",\"sqlConfig.spark.databricks.sql.functions.aiFunctions.modelEndpointTypeParsing.enabled\":\"true\",\"sqlConfig.spark.databricks.sql.functions.aiFunctions.batchInferenceApi.enabled\":\"false\",\"sqlConfig.spark.sql.stableDerivedColumnAlias.enabled\":\"true\",\"sqlConfig.spark.sql.parquet.compression.codec\":\"snappy\",\"sqlConfig.spark.databricks.sql.functions.aiFunctions.model.parameters.enabled\":\"true\",\"sqlConfig.spark.sql.streaming.stateStore.providerClass\":\"com.databricks.sql.streaming.state.RocksDBStateStoreProvider\"}', return_params=FunctionParameterInfos(parameters=[FunctionParameterInfo(name='profile', type_text='string', type_name=<ColumnTypeName.STRING: 'STRING'>, position=0, comment=None, parameter_default=None, parameter_mode=None, parameter_type=<FunctionParameterType.COLUMN: 'COLUMN'>, type_interval_type=None, type_json='{\"name\":\"profile\",\"type\":\"string\",\"nullable\":true,\"metadata\":{}}', type_precision=0, type_scale=0)]), routine_body=<FunctionInfoRoutineBody.SQL: 'SQL'>, routine_definition='select\\n    transcript\\n  from fins_genai.agents.call_transcripts\\n  where phone_number = search_name', routine_dependencies=None, schema_name='agents', security_type=<FunctionInfoSecurityType.DEFINER: 'DEFINER'>, specific_name='get_customer_transcripts_by_phone_number', sql_data_access=<FunctionInfoSqlDataAccess.READS_SQL_DATA: 'READS_SQL_DATA'>, sql_path=None, updated_at=1741048361594, updated_by='q.yu@databricks.com')\n"
     ]
    },
    {
     "name": "stderr",
     "output_type": "stream",
     "text": [
      "/Users/q.yu/workspace/agents_use_cases/.venv/lib/python3.11/site-packages/unitycatalog/ai/core/databricks.py:308: UserWarning: The following parameters do not have descriptions: search_name for the function fins_genai.agents.get_customer_transcripts_by_phone_number. Using Unity Catalog functions that do not have parameter descriptions limits the functionality for an LLM to understand how to call your function. To improve tool calling accuracy, provide verbose parameter descriptions that fully explain what the expected usage of the function arguments are.\n",
      "  check_function_info(created_function_info)\n"
     ]
    }
   ],
   "execution_count": 16
  },
  {
   "metadata": {
    "ExecuteTime": {
     "end_time": "2025-03-04T00:43:17.313895Z",
     "start_time": "2025-03-04T00:43:15.319250Z"
    }
   },
   "cell_type": "code",
   "source": [
    "sql_function2 = \\\n",
    "f\"\"\"\n",
    "CREATE OR REPLACE FUNCTION {CATALOG}.{SCHEMA}.get_customer_profile_by_phone_number(\n",
    "  search_name STRING\n",
    ")\n",
    "RETURNS TABLE (\n",
    "  profile STRING\n",
    ")\n",
    "COMMENT 'Return a customer profile with a given phone number'\n",
    "LANGUAGE SQL\n",
    "  RETURN\n",
    "  SELECT\n",
    "    CONCAT(\"The customer \", first_name, \" \", last_name, \" lives in \", address, \" with email address \",\n",
    "           email, \" and phone number\", phone_number, \" owns a \", make, \" \", model_year, \" \", model, \" has a policy of \", policytype, \" (policy number:\", policy_number, \") issued on \", pol_issue_date, \" and expires on \", pol_expiry_date)\n",
    "  as profile\n",
    "  FROM {CATALOG}.{SCHEMA}.customer_profiles\n",
    "  where phone_number = search_name\n",
    ";\n",
    "\"\"\"\n",
    "sql_func_info = client.create_function(sql_function_body=sql_function2)\n",
    "print(sql_func_info)"
   ],
   "id": "4bc0e75efd856f7",
   "outputs": [
    {
     "name": "stdout",
     "output_type": "stream",
     "text": [
      "FunctionInfo(browse_only=None, catalog_name='fins_genai', comment='Return a customer profile with a given phone number', created_at=1741048996779, created_by='q.yu@databricks.com', data_type=<ColumnTypeName.TABLE_TYPE: 'TABLE_TYPE'>, external_language=None, external_name=None, full_data_type='(profile STRING)', full_name='fins_genai.agents.get_customer_profile_by_phone_number', function_id='e1628c1d-a034-48a9-a01e-5b678656bac2', input_params=FunctionParameterInfos(parameters=[FunctionParameterInfo(name='search_name', type_text='string', type_name=<ColumnTypeName.STRING: 'STRING'>, position=0, comment=None, parameter_default=None, parameter_mode=None, parameter_type=<FunctionParameterType.PARAM: 'PARAM'>, type_interval_type=None, type_json='{\"name\":\"search_name\",\"type\":\"string\",\"nullable\":true,\"metadata\":{}}', type_precision=0, type_scale=0)]), is_deterministic=True, is_null_call=None, metastore_id='b86c6879-8c55-4e70-a585-18d16a4fa6e9', name='get_customer_profile_by_phone_number', owner='q.yu@databricks.com', parameter_style=<FunctionInfoParameterStyle.S: 'S'>, properties='{\"sqlConfig.spark.databricks.sql.functions.aiFunctions.adaptiveThreadPool.taskWaitTimeInSeconds\":\"1000\",\"sqlConfig.spark.sql.ansi.enabled\":\"true\",\"sqlConfig.spark.databricks.sql.functions.aiFunctions.decimal.dataType.enabled\":\"true\",\"referredTempFunctionsNames\":\"[]\",\"sqlConfig.spark.sql.streaming.statefulOperator.stateRebalancing.enabled\":\"false\",\"sqlConfig.spark.databricks.sql.functions.aiFunctions.adaptiveThreadPool.dynamicPoolSizeEnabled\":\"false\",\"sqlConfig.spark.databricks.sql.functions.aiFunctions.adaptiveThreadPool.debugLogEnabled\":\"true\",\"catalogAndNamespace.part.0\":\"default\",\"sqlConfig.spark.databricks.sql.functions.aiFunctions.remoteHttpClient.maxConnections\":\"2048\",\"sqlConfig.spark.sql.legacy.createHiveTableByDefault\":\"false\",\"sqlConfig.spark.sql.streaming.stopTimeout\":\"15s\",\"sqlConfig.spark.databricks.sql.functions.aiFunctions.remoteHttpClient.timeoutInSeconds\":\"360\",\"referredTempViewNames\":\"[]\",\"sqlConfig.spark.databricks.sql.functions.aiFunctions.adaptiveThreadPool.enabled\":\"true\",\"sqlConfig.spark.sql.legacy.codingErrorAction\":\"true\",\"sqlConfig.spark.databricks.sql.functions.aiFunctions.adaptiveThreadPool.scaleUpThresholdCurrentQpsIncreaseRatio\":\"0.0\",\"sqlConfig.spark.databricks.sql.functions.aiFunctions.adaptiveThreadPool.scaleUpThresholdTotalQpsIncreaseRatio\":\"0.0\",\"catalogAndNamespace.part.1\":\"default\",\"sqlConfig.spark.databricks.sql.functions.aiFunctions.useDedicatedHttpClient\":\"true\",\"sqlConfig.spark.sql.readSideCharPadding\":\"true\",\"sqlConfig.spark.sql.variable.substitute\":\"false\",\"sqlConfig.spark.databricks.sql.functions.aiFunctions.adaptiveThreadPool.threadKeepAliveTimeInSeconds\":\"600\",\"sqlConfig.spark.databricks.sql.expression.aiFunctions.repartition\":\"0\",\"sqlConfig.spark.databricks.sql.functions.aiForecast.enabled\":\"false\",\"sqlConfig.spark.databricks.sql.functions.aiFunctions.adaptiveThreadPool.useDynamicTaskQueueExecutor\":\"false\",\"sqlConfig.spark.sql.sources.default\":\"delta\",\"sqlConfig.spark.sql.hive.convertCTAS\":\"true\",\"sqlConfig.spark.databricks.sql.functions.vectorSearch.enabled\":\"true\",\"sqlConfig.spark.databricks.sql.functions.aiFunctions.safe.inference.enabled\":\"true\",\"sqlConfig.spark.sql.scripting.enabled\":\"true\",\"sqlConfig.spark.databricks.sql.functions.aiFunctions.batch.aiQuery.embedding.request.size\":\"4\",\"referredTempVariableNames\":\"[]\",\"sqlConfig.spark.databricks.sql.functions.aiFunctions.batch.execution.size\":\"2048\",\"sqlConfig.spark.databricks.sql.functions.aiFunctions.adaptiveThreadPool.clusterSizeBasedGlobalParallelism.scaleFactor\":\"32.0\",\"sqlConfig.spark.databricks.sql.functions.aiGen.endpointName\":\"databricks-meta-llama-3-3-70b-instruct\",\"sqlConfig.spark.databricks.sql.functions.aiFunctions.embeddingsEndpointName\":\"databricks-bge-large-en\",\"sqlConfig.spark.databricks.sql.functions.aiFunctions.adaptiveThreadPool.maxPoolSize\":\"2048\",\"sqlConfig.spark.sql.sources.commitProtocolClass\":\"com.databricks.sql.transaction.directory.DirectoryAtomicCommitProtocol\",\"sqlConfig.spark.sql.functions.remoteHttpClient.retryOn400TimeoutError\":\"true\",\"sqlConfig.spark.databricks.sql.functions.aiFunctions.purposeBuiltFunctions.batch.execution.enabled\":\"false\",\"catalogAndNamespace.numParts\":\"2\",\"sqlConfig.spark.databricks.sql.functions.aiFunctions.adaptiveThreadPool.scaleUpThresholdSuccessRatio\":\"0.95\",\"sqlConfig.spark.databricks.sql.functions.aiFunctions.modelEndpointTypeParsing.enabled\":\"true\",\"sqlConfig.spark.databricks.sql.functions.aiFunctions.batchInferenceApi.enabled\":\"false\",\"sqlConfig.spark.sql.stableDerivedColumnAlias.enabled\":\"true\",\"sqlConfig.spark.sql.parquet.compression.codec\":\"snappy\",\"sqlConfig.spark.databricks.sql.functions.aiFunctions.model.parameters.enabled\":\"true\",\"sqlConfig.spark.sql.streaming.stateStore.providerClass\":\"com.databricks.sql.streaming.state.RocksDBStateStoreProvider\"}', return_params=FunctionParameterInfos(parameters=[FunctionParameterInfo(name='profile', type_text='string', type_name=<ColumnTypeName.STRING: 'STRING'>, position=0, comment=None, parameter_default=None, parameter_mode=None, parameter_type=<FunctionParameterType.COLUMN: 'COLUMN'>, type_interval_type=None, type_json='{\"name\":\"profile\",\"type\":\"string\",\"nullable\":true,\"metadata\":{}}', type_precision=0, type_scale=0)]), routine_body=<FunctionInfoRoutineBody.SQL: 'SQL'>, routine_definition='SELECT\\n    CONCAT(\"The customer \", first_name, \" \", last_name, \" lives in \", address, \" with email address \",\\n           email, \" and phone number\", phone_number, \" owns a \", make, \" \", model_year, \" \", model, \" has a policy of \", policytype, \" (policy number:\", policy_number, \") issued on \", pol_issue_date, \" and expires on \", pol_expiry_date)\\n  as profile\\n  FROM fins_genai.agents.customer_profiles\\n  where phone_number = search_name', routine_dependencies=None, schema_name='agents', security_type=<FunctionInfoSecurityType.DEFINER: 'DEFINER'>, specific_name='get_customer_profile_by_phone_number', sql_data_access=<FunctionInfoSqlDataAccess.READS_SQL_DATA: 'READS_SQL_DATA'>, sql_path=None, updated_at=1741048996779, updated_by='q.yu@databricks.com')\n"
     ]
    },
    {
     "name": "stderr",
     "output_type": "stream",
     "text": [
      "/Users/q.yu/workspace/agents_use_cases/.venv/lib/python3.11/site-packages/unitycatalog/ai/core/databricks.py:308: UserWarning: The following parameters do not have descriptions: search_name for the function fins_genai.agents.get_customer_profile_by_phone_number. Using Unity Catalog functions that do not have parameter descriptions limits the functionality for an LLM to understand how to call your function. To improve tool calling accuracy, provide verbose parameter descriptions that fully explain what the expected usage of the function arguments are.\n",
      "  check_function_info(created_function_info)\n"
     ]
    }
   ],
   "execution_count": 22
  },
  {
   "metadata": {
    "ExecuteTime": {
     "end_time": "2025-03-04T04:49:45.974919Z",
     "start_time": "2025-03-04T04:49:44.276271Z"
    }
   },
   "cell_type": "code",
   "source": [
    "sql_function3 = \\\n",
    "f\"\"\"\n",
    "CREATE OR REPLACE FUNCTION {CATALOG}.{SCHEMA}.search_policy(\n",
    "    query STRING\n",
    ")\n",
    "RETURNS TABLE (\n",
    "    policy STRING\n",
    ")\n",
    "COMMENT 'Return chunks from policy document for a given query'\n",
    "LANGUAGE SQL\n",
    "  RETURN\n",
    "  SELECT\n",
    "   chunked_text as policy\n",
    "  FROM vector_search(\n",
    "    index => 'fins_genai.agents.policy_docs_chunked_files_vs_index',\n",
    "    query_text => query,\n",
    "    num_results => 3\n",
    "  )\n",
    ";\n",
    "\"\"\"\n",
    "sql_func_info = client.create_function(sql_function_body=sql_function3)\n",
    "print(sql_func_info)\n"
   ],
   "id": "85ec2c785ddbadfd",
   "outputs": [
    {
     "name": "stdout",
     "output_type": "stream",
     "text": [
      "FunctionInfo(browse_only=None, catalog_name='fins_genai', comment='Return chunks from policy document for a given query', created_at=1741063785744, created_by='q.yu@databricks.com', data_type=<ColumnTypeName.TABLE_TYPE: 'TABLE_TYPE'>, external_language=None, external_name=None, full_data_type='(policy STRING)', full_name='fins_genai.agents.search_policy', function_id='b38022cb-893d-4212-a5f7-4dec93e6dad4', input_params=FunctionParameterInfos(parameters=[FunctionParameterInfo(name='query', type_text='string', type_name=<ColumnTypeName.STRING: 'STRING'>, position=0, comment=None, parameter_default=None, parameter_mode=None, parameter_type=<FunctionParameterType.PARAM: 'PARAM'>, type_interval_type=None, type_json='{\"name\":\"query\",\"type\":\"string\",\"nullable\":true,\"metadata\":{}}', type_precision=0, type_scale=0)]), is_deterministic=True, is_null_call=None, metastore_id='b86c6879-8c55-4e70-a585-18d16a4fa6e9', name='search_policy', owner='q.yu@databricks.com', parameter_style=<FunctionInfoParameterStyle.S: 'S'>, properties='{\"sqlConfig.spark.databricks.sql.functions.aiFunctions.adaptiveThreadPool.taskWaitTimeInSeconds\":\"1000\",\"sqlConfig.spark.sql.ansi.enabled\":\"true\",\"sqlConfig.spark.databricks.sql.functions.aiFunctions.decimal.dataType.enabled\":\"true\",\"referredTempFunctionsNames\":\"[]\",\"sqlConfig.spark.sql.streaming.statefulOperator.stateRebalancing.enabled\":\"false\",\"sqlConfig.spark.databricks.sql.functions.aiFunctions.adaptiveThreadPool.dynamicPoolSizeEnabled\":\"false\",\"sqlConfig.spark.databricks.sql.functions.aiFunctions.adaptiveThreadPool.debugLogEnabled\":\"true\",\"catalogAndNamespace.part.0\":\"default\",\"sqlConfig.spark.databricks.sql.functions.aiFunctions.remoteHttpClient.maxConnections\":\"2048\",\"sqlConfig.spark.sql.legacy.createHiveTableByDefault\":\"false\",\"sqlConfig.spark.sql.streaming.stopTimeout\":\"15s\",\"sqlConfig.spark.databricks.sql.functions.aiFunctions.remoteHttpClient.timeoutInSeconds\":\"360\",\"referredTempViewNames\":\"[]\",\"sqlConfig.spark.databricks.sql.functions.aiFunctions.adaptiveThreadPool.enabled\":\"true\",\"sqlConfig.spark.sql.legacy.codingErrorAction\":\"true\",\"sqlConfig.spark.databricks.sql.functions.aiFunctions.adaptiveThreadPool.scaleUpThresholdCurrentQpsIncreaseRatio\":\"0.0\",\"sqlConfig.spark.databricks.sql.functions.aiFunctions.adaptiveThreadPool.scaleUpThresholdTotalQpsIncreaseRatio\":\"0.0\",\"catalogAndNamespace.part.1\":\"default\",\"sqlConfig.spark.databricks.sql.functions.aiFunctions.useDedicatedHttpClient\":\"true\",\"sqlConfig.spark.sql.readSideCharPadding\":\"true\",\"sqlConfig.spark.sql.variable.substitute\":\"false\",\"sqlConfig.spark.databricks.sql.functions.aiFunctions.adaptiveThreadPool.threadKeepAliveTimeInSeconds\":\"600\",\"sqlConfig.spark.databricks.sql.expression.aiFunctions.repartition\":\"0\",\"sqlConfig.spark.databricks.sql.functions.aiForecast.enabled\":\"false\",\"sqlConfig.spark.databricks.sql.functions.aiFunctions.adaptiveThreadPool.useDynamicTaskQueueExecutor\":\"false\",\"sqlConfig.spark.sql.sources.default\":\"delta\",\"sqlConfig.spark.sql.hive.convertCTAS\":\"true\",\"sqlConfig.spark.databricks.sql.functions.vectorSearch.enabled\":\"true\",\"sqlConfig.spark.databricks.sql.functions.aiFunctions.safe.inference.enabled\":\"true\",\"sqlConfig.spark.sql.scripting.enabled\":\"true\",\"sqlConfig.spark.databricks.sql.functions.aiFunctions.batch.aiQuery.embedding.request.size\":\"4\",\"referredTempVariableNames\":\"[]\",\"sqlConfig.spark.databricks.sql.functions.aiFunctions.batch.execution.size\":\"2048\",\"sqlConfig.spark.databricks.sql.functions.aiFunctions.adaptiveThreadPool.clusterSizeBasedGlobalParallelism.scaleFactor\":\"32.0\",\"sqlConfig.spark.databricks.sql.functions.aiGen.endpointName\":\"databricks-meta-llama-3-3-70b-instruct\",\"sqlConfig.spark.databricks.sql.functions.aiFunctions.embeddingsEndpointName\":\"databricks-bge-large-en\",\"sqlConfig.spark.databricks.sql.functions.aiFunctions.adaptiveThreadPool.maxPoolSize\":\"2048\",\"sqlConfig.spark.sql.sources.commitProtocolClass\":\"com.databricks.sql.transaction.directory.DirectoryAtomicCommitProtocol\",\"sqlConfig.spark.sql.functions.remoteHttpClient.retryOn400TimeoutError\":\"true\",\"sqlConfig.spark.databricks.sql.functions.aiFunctions.purposeBuiltFunctions.batch.execution.enabled\":\"false\",\"catalogAndNamespace.numParts\":\"2\",\"sqlConfig.spark.databricks.sql.functions.aiFunctions.adaptiveThreadPool.scaleUpThresholdSuccessRatio\":\"0.95\",\"sqlConfig.spark.databricks.sql.functions.aiFunctions.modelEndpointTypeParsing.enabled\":\"true\",\"sqlConfig.spark.databricks.sql.functions.aiFunctions.batchInferenceApi.enabled\":\"false\",\"sqlConfig.spark.sql.stableDerivedColumnAlias.enabled\":\"true\",\"sqlConfig.spark.sql.parquet.compression.codec\":\"snappy\",\"sqlConfig.spark.databricks.sql.functions.aiFunctions.model.parameters.enabled\":\"true\",\"sqlConfig.spark.sql.streaming.stateStore.providerClass\":\"com.databricks.sql.streaming.state.RocksDBStateStoreProvider\"}', return_params=FunctionParameterInfos(parameters=[FunctionParameterInfo(name='policy', type_text='string', type_name=<ColumnTypeName.STRING: 'STRING'>, position=0, comment=None, parameter_default=None, parameter_mode=None, parameter_type=<FunctionParameterType.COLUMN: 'COLUMN'>, type_interval_type=None, type_json='{\"name\":\"policy\",\"type\":\"string\",\"nullable\":true,\"metadata\":{}}', type_precision=0, type_scale=0)]), routine_body=<FunctionInfoRoutineBody.SQL: 'SQL'>, routine_definition=\"SELECT\\n   chunked_text as policy\\n  FROM vector_search(\\n    index => 'fins_genai.agents.policy_docs_chunked_files_vs_index',\\n    query_text => query,\\n    num_results => 3\\n  )\", routine_dependencies=None, schema_name='agents', security_type=<FunctionInfoSecurityType.DEFINER: 'DEFINER'>, specific_name='search_policy', sql_data_access=<FunctionInfoSqlDataAccess.CONTAINS_SQL: 'CONTAINS_SQL'>, sql_path=None, updated_at=1741063785744, updated_by='q.yu@databricks.com')\n"
     ]
    }
   ],
   "execution_count": 6
  },
  {
   "metadata": {},
   "cell_type": "markdown",
   "source": "# Enable UC Tools",
   "id": "d1f7f28f088693a6"
  },
  {
   "metadata": {
    "ExecuteTime": {
     "end_time": "2025-03-04T05:44:58.762385Z",
     "start_time": "2025-03-04T05:44:56.199836Z"
    }
   },
   "cell_type": "code",
   "source": [
    "from unitycatalog.ai.crewai.toolkit import UCFunctionToolkit\n",
    "\n",
    "functions = [f\"{CATALOG}.{SCHEMA}.{func.name}\" for func in client.list_functions(catalog=CATALOG,\n",
    "                                                                                 schema=SCHEMA)\n",
    "             if func.name.endswith('phone_number') or func.name == 'search_policy']\n",
    "# Pass the UC function name that we created to the constructor\n",
    "toolkit = UCFunctionToolkit(function_names=functions)\n",
    "\n",
    "# Get the CrewAI-compatible tools definitions\n",
    "tools = toolkit.tools"
   ],
   "id": "8391d8c68c83207d",
   "outputs": [],
   "execution_count": 6
  },
  {
   "metadata": {
    "ExecuteTime": {
     "end_time": "2025-03-04T04:53:09.812679Z",
     "start_time": "2025-03-04T04:53:07.203121Z"
    }
   },
   "cell_type": "code",
   "source": "tools[0].fn(**{'search_name': '(875)-209-8555'})",
   "id": "885dae580c77ef9d",
   "outputs": [
    {
     "name": "stderr",
     "output_type": "stream",
     "text": [
      "/Users/q.yu/workspace/agents_use_cases/.venv/lib/python3.11/site-packages/unitycatalog/ai/core/databricks.py:680: UserWarning: The following parameters do not have descriptions: search_name for the function fins_genai.agents.get_customer_profile_by_phone_number. Using Unity Catalog functions that do not have parameter descriptions limits the functionality for an LLM to understand how to call your function. To improve tool calling accuracy, provide verbose parameter descriptions that fully explain what the expected usage of the function arguments are.\n",
      "  check_function_info(function_info)\n"
     ]
    },
    {
     "data": {
      "text/plain": [
       "'{\"format\": \"CSV\", \"value\": \"profile\\\\n\\\\\"The customer Dawn Neal lives in MANHATTAN, 10013.0 with email address ssimon@example.org and phone number(875)-209-8555 owns a AUDI 2019.0 A 3 has a policy of COMP (policy number:102147937) issued on 2020-07-29 and expires on 2021-08-28\\\\\"\\\\n\", \"truncated\": false}'"
      ]
     },
     "execution_count": 12,
     "metadata": {},
     "output_type": "execute_result"
    }
   ],
   "execution_count": 12
  },
  {
   "metadata": {
    "ExecuteTime": {
     "end_time": "2025-03-04T04:53:40.274245Z",
     "start_time": "2025-03-04T04:53:35.924364Z"
    }
   },
   "cell_type": "code",
   "source": "tools[2].fn(**{'query': 'change car insurance policy'})",
   "id": "739064e6d9a5ecce",
   "outputs": [
    {
     "name": "stderr",
     "output_type": "stream",
     "text": [
      "/Users/q.yu/workspace/agents_use_cases/.venv/lib/python3.11/site-packages/unitycatalog/ai/core/databricks.py:680: UserWarning: The following parameters do not have descriptions: query for the function fins_genai.agents.search_policy. Using Unity Catalog functions that do not have parameter descriptions limits the functionality for an LLM to understand how to call your function. To improve tool calling accuracy, provide verbose parameter descriptions that fully explain what the expected usage of the function arguments are.\n",
      "  check_function_info(function_info)\n"
     ]
    },
    {
     "data": {
      "text/plain": [
       "'{\"format\": \"CSV\", \"value\": \"policy\\\\n\\\\\"ACCIDENT, YOU MAY CHOOSE ANY SINGLE AUTO\\\\nSHOWN ONTHEPOLICY DECLARATIONS AND THE\\\\nCOVERAGE LIMITS APPLICABLE TOTHAT AUTO\\\\nWILL APPLY.\\\\nTHELIMITS AVAILABLE FOR ANY OTHER AUTO\\\\nCOVERED BYTHEPOLICY WILL NOT BEADDED TO\\\\nTHECOVERAGE FOR THEINVOLVED ORCHOSEN\\\\nAUTO.\\\\nTransfer\\\\nThispolicy can\\'t betransferred toanyone without our\\\\nwritten consent. However, ifyoudie,coverage will\\\\nbeprovided until theendofthepolicy period for:\\\\n1.your legal representative while acting assuch,\\\\nand\\\\n2.persons covered onthedate ofyour death.\\\\nCancellation\\\\nYoumay cancel thispolicy bywriting usthefuture\\\\ndate youwish tostop coverage.\\\\nAllstate may cancel partorallofthispolicy by\\\\nmailing notice toyouatyour lastknown address. If\\\\nwecancel because youdidn\\'t paythepremium, the\\\\ndate ofcancellation willbeatleast 10days after the\\\\ndate ofmailing. Ifwecancel foranyreason other\\\\nPage 2\\\\nS\\\\nA\\\\nM\\\\nP\\\\nL\\\\nE\\\\nD\\\\nO\\\\nC\\\\nU\\\\nM\\\\nE\\\\nN\\\\nTAllstate Insurance Company\\\\nthan non-payment ofpremium, wewillgiveyou\\\\nnotice asfollows:\\\\n1.During thefirst60days theoriginal policy isin\\\\neffect, wewillgiveyouatleast 10days notice of\\\\ncancellation.\\\\n2.After thefirst60days, wewillgiveyou30days\\\\nnotice ofcancellation.\\\\nProof ofmailing thenotice willbeproof ofnotice. A\\\\nrefund, ifdue, willbeproportional tothetime your\\\\npolicy hasbeen ineffect, butcancellation willbe\\\\neffective even iftherefund isnotmade immediately.\\\\nAfter your original policy hasbeen ineffect 60days,\\\\nAllstate won\\'t cancel your policy unless:\\\\n1.youdon\\'t paythepremium when it\\'sdue;\\\\n2.youoranymember ofyour household are\\\\nconvicted ofacrime duetoactswhich increase\\\\nthehazard weinsure against;\\\\n3.Fraud ormaterial misrepresentation isused in\\\\nobtaining thepolicy ormaking aclaim;\\\\n4.Anactoromission, oraviolation ofany\\\\ncondition ofthepolicy, occurs during thepolicy\\\\nperiod which substantially andmaterially\\\\nincreases thehazard weinsure against;\\\\n5.Amaterial change inthenature orextent ofthe\\\\nriskoccurs during thepolicy period which\\\\ncauses theriskoflosstobesubstantially and\\\\nmaterially increased; or\\\\n6.Allstate hasmailed notice within thefirst60\\\\ndays thatwedon\\'t intend tocontinue thepolicy.\\\\nIfwedon\\'t intend tocontinue thepolicy beyond the\\\\ncurrent policy period, wewillmail younotice atleast\\\\n30days before theendofthepolicy period.Part 1\\\\nAutomobile Liability Insurance\\\\nBodily Injury__Coverage AA\\\\nProperty Damage__Coverage\\\\nBB\\\\nAllstate willpayfordamages aninsured person is\\\\nlegally obligated topaybecause of:\\\\n1.bodily injury sustained byanyperson, and\\\\n2.damage to,ordestruction of,property.\\\\nUnder these coverages, your policy protects an\\\\ninsured person from liability fordamages arising out\\\\noftheownership, maintenance oruse, loading or\\\\nunloading ofaninsured auto.\\\\nWewilldefend aninsured person sued fordamages\\\\nwhich arecovered bythispolicy, even ifthesuitis\\\\ngroundless orfalse. Wewillchoose thecounsel.\\\\nWemay settle anyclaim orsuitifwebelieve itis\\\\nproper. Wewillnotdefend aninsured person sued\\\\nfordamages which arenotcovered bythispolicy.\\\\nAdditional Payments Allstate Will Make\\\\nWhen wedefend aninsured person under thispart,\\\\nwewillpay\\\\n1.upto$50adayforlossofwages orsalary ifwe\\\\naskthatperson toattend hearings ortrials to\\\\ndefend against abodily injury suit. Wewon\\'t\\\\npayforlossofother income. Wewillpayother\\\\nreasonable expenses incurred atourrequest.\\\\n2.court costs fordefense.\\\\n3.interest accruing ondamages awarded. Wewill\\\\npaythisinterest only until wehave paid, offered,\\\\nordeposited incourt theamount forwhich we\\\\nareliable under thispolicy. Wewillonly pay\\\\ninterest ondamages notexceeding ourlimits of\\\\nliability.\\\\n4.premiums onappeal bonds andonbonds to\\\\nrelease attachments, butnotinexcess ofour\\\\nlimit ofliability. Wearen\\'t required toapply for\\\\norfurnish these bonds.\\\\\"\\\\n\\\\\"purchased collision insurance.\\\\nb)theentire auto isstolen, andyouhave\\\\npurchased comprehensive insurance.\\\\nc)physical damage isdone totheauto andto\\\\ntheclothing andluggage caused by\\\\nearthquake, explosion, falling objects, fire,\\\\nlightning, orflood andyouhave purchased\\\\ncomprehensive insurance.\\\\n2.Allstate willrepay youupto$10forthecost of\\\\ntransportation from theplace oftheft ofyour\\\\ninsured auto ordisablement oftheauto toyour\\\\ndestination, if\\\\na)theentire auto isstolen andyouhave\\\\ncomprehensive coverage under thispolicy.\\\\nb)theauto isdisabled byacollision or\\\\ncomprehensive loss, andyouhave the\\\\ncoverage under thispolicy applicable tothe\\\\nloss.\\\\nThis provision does notapply iftheinsured auto\\\\nisatravel-trailer.\\\\n3.Ifyouhave comprehensive insurance under this\\\\npolicy, Allstate willrepay upto$10adaybutnot\\\\nmore than $300 foreach lossforthecost of\\\\ntransportation when theentire auto isstolen.\\\\nThis coverage begins 48hours after youreport\\\\nthetheft tous,butends when weoffer\\\\nsettlement oryour auto isreturned touse.\\\\n4.Ifyouhave purchased collision or\\\\ncomprehensive insurance under thispolicy,\\\\nAllstate willpaygeneral average andsalvage\\\\ncharges imposed when your insured auto is\\\\nbeing transported.\\\\nInsured Autos\\\\n1.Anyauto described onthePolicy Declarations.\\\\nThis includes thefourwheel private passenger\\\\nauto orutility auto youreplace itwith ifyou\\\\nnotify Allstate within 60days ofthereplacement\\\\nandpaytheadditional premium.\\\\n2.Anadditional fourwheel private passenger auto\\\\norutility auto youbecome theowner ofduring\\\\nthepolicy period. This auto willbecovered ifAllstate insures allother private passenger\\\\nautos orutility autos youown. Youmust,\\\\nhowever, telluswithin 60days ofacquiring the\\\\nauto.Youmust payanyadditional premium.\\\\n3.Asubstitute fourwheel private passenger auto\\\\norutility auto notowned byyouoraresident ,\\\\ntemporarily used with thepermission ofthe\\\\nowner while your insured auto isbeing serviced\\\\norrepaired, orifyour insured auto isstolen or\\\\ndestroyed.\\\\n4.Anon-owned fourwheel private passenger auto\\\\norutility auto used byyouoraresident relative\\\\nwiththeowner\\'s permission. This auto must\\\\nnotbeavailable orfurnished fortheregular use\\\\nofyouoranyresident .\\\\n5.Atrailer while attached toaninsured auto. This\\\\ntrailer must bedesigned forusewith aprivate\\\\npassenger auto.This trailer can\\'t beused for\\\\nbusiness purposes with other than aprivate\\\\npassenger auto orutility auto. Home, office,\\\\nstore, display, orpassenger trailers,\\\\ntravel-trailers orcamper units arenotcovered\\\\nunless described onthePolicy Declarations.\\\\nDefinitions\\\\n1.\\\\\"\\\\\"Allstate\\\\\"\\\\\", \\\\\"\\\\\"We\\\\\"\\\\\", \\\\\"\\\\\"Us\\\\\"\\\\\", or\\\\\"\\\\\"Our\\\\\"\\\\\"__means the\\\\nAllstate Insurance Company orAllstate\\\\nIndemnity Company asshown onthePolicy\\\\nDeclarations.\\\\n2.\\\\\"\\\\\"Auto\\\\\"\\\\\"__means aland motor vehicle designed\\\\nforuseonpublic roads.\\\\n3.\\\\\"\\\\\"Camper Unit\\\\\"\\\\\"__means ademountable unit\\\\ndesigned tobeused astemporary living\\\\nquarters, including allequipment and\\\\naccessories built intoandforming apermanent\\\\npartoftheunit. Acamper unitdoes notinclude:\\\\na)caps, tops orcanopies designed foruseas\\\\nprotection ofthecargo area ofautility auto;\\\\nor\\\\nb)radio ortelevision antennas, awnings,\\\\ncabanas, orequipment designed tocreate\\\\nadditional offhighway living facilities.\\\\n4.\\\\\"\\\\\"Motor Home\\\\\"\\\\\"__means aself-propelled vehicle\\\\nequipped, designed orused asaliving quarters.\\\\n5.\\\\\"\\\\\"Resident\\\\\"\\\\\"__means aperson who physically\\\\nresides inyour household with theintention of\\\\ncontinuing residence there. Your unmarried\\\\ndependent children while temporarily away from\\\\nPage 15\\\\nS\\\\nA\\\\nM\\\\nP\\\\nL\\\\nE\\\\nD\\\\nO\\\\nC\\\\nU\\\\nM\\\\nE\\\\nN\\\\nTAllstate Insurance Company\\\\nhome willbeconsidered residents ifthey intend\\\\ntoresume residing inyour household.\\\\n6.\\\\\"\\\\\"Sound System\\\\\"\\\\\"__means anydevice within the\\\\ninsured auto designed for:\\\\na)voice orvideo transmission, orforvoice,\\\\nvideo orradar signal reception; or\\\\nb)recording orplaying back recorded\\\\nmaterial; or\\\\nc)supplying power tocellular orsimilar\\\\ntelephone equipment,\\\\nandwhich isinstalled inalocation other than the\\\\nonedesigned bytheauto\\'s manufacturer forthat\\\\ndevice.\\\\n7.\\\\\"\\\\\"Travel-trailer\\\\\"\\\\\"__means atrailer ofthehouse,\\\\\"\\\\n\\\\\"INANY ONE MOTOR VEHICLE ACCIDENT. THIS\\\\nLIMIT ISSUBJECT TOTHELIMIT FOR \\\\\"\\\\\"EACH\\\\nPERSON\\\\\"\\\\\".\\\\nPage 11\\\\nS\\\\nA\\\\nM\\\\nP\\\\nL\\\\nE\\\\nD\\\\nO\\\\nC\\\\nU\\\\nM\\\\nE\\\\nN\\\\nTAllstate Insurance Company\\\\nTHESE LIMITS ARE THEMAXIMUM ALLSTATE\\\\nWILL PAY FORANY ONE MOTOR VEHICLE\\\\nACCIDENT REGARDLESS OFTHENUMBER OF:\\\\n1.CLAIMS MADE;\\\\n2.VEHICLES ORPERSONS SHOWN ONTHE\\\\nPOLICY DECLARATIONS; OR\\\\n3.VEHICLES INVOLVED INTHEACCIDENT.\\\\nDAMAGES PAYABLE WILL BEREDUCED BY\\\\n1.ALLAMOUNTS PAID BYTHEOWNER OR\\\\nOPERATOR OFTHEUNINSURED AUTO OR\\\\nANYONE ELSE RESPONSIBLE. THIS INCLUDES\\\\nALLSUMS PAID UNDER THEBODILY INJURY\\\\nLIABILITY COVERAGE OFTHIS ORANY OTHER\\\\nAUTO POLICY.\\\\n2.ALLAMOUNTS PAYABLE UNDER ANY\\\\nWORKERS COMPENSATION LAW, DISABILITY\\\\nBENEFITS LAW, ORSIMILAR LAW,\\\\nAUTOMOBILE MEDICAL PAYMENTS, ORANY\\\\nSIMILAR AUTOMOBILE MEDICAL PAYMENTS\\\\nCOVERAGE.\\\\nWEARE NOT OBLIGATED TOMAKE ANY PAYMENT\\\\nFORBODILY INJURY UNDER THIS COVERAGE\\\\nWHICH ARISES OUT OFTHEUSE OFAN\\\\nUNDERINSURED MOTOR VEHICLE UNTIL AFTER\\\\nTHELIMITS OFLIABILITY FOR ALLLIABILITY\\\\nPROTECTION INEFFECT AND APPLICABLE ATTHE\\\\nTIME OFTHEACCIDENT HAVE BEEN EXHAUSTED\\\\nBYPAYMENT OFJUDGMENTS ORSETTLEMENTS.\\\\nIFTHERE ISOTHER INSURANCE\\\\nIFTHEINSURED PERSON WAS IN,ON,GETTING\\\\nINTO OROUT OFAVEHICLE YOU DONOT OWN\\\\nWHICH ISINSURED FOR THIS COVERAGE UNDER\\\\nANOTHER POLICY, THIS COVERAGE WILL BE\\\\nEXCESS. THIS MEANS THAT WHEN THEINSURED\\\\nPERSON ISLEGALLY ENTITLED TORECOVER\\\\nDAMAGES INEXCESS OFTHEOTHER POLICY\\\\nLIMIT, WEWILL PAY UPTOYOUR POLICY LIMIT,\\\\nBUT ONLY AFTER THEOTHER INSURANCE HAS\\\\nBEEN EXHAUSTED.\\\\nIFMORE THAN ONE POLICY APPLIES TOTHE\\\\nACCIDENT ONAPRIMARY BASIS, THETOTAL\\\\nBENEFITS PAYABLE TOANY ONE PERSON WILL\\\\nNOT EXCEED THEMAXIMUM BENEFITS PAYABLE\\\\nBYTHEPOLICY WITH THEHIGHEST LIMIT FOR\\\\nUNINSURED MOTORISTS COVERAGE. WEWILL\\\\nBEAR OUR PROPORTIONATE SHARE WITH OTHER\\\\nUNINSURED MOTORISTS BENEFITS. THIS APPLIESNOMATTER HOW MANY AUTOS ORAUTO\\\\nPOLICIES MAY BEINVOLVED WHETHER WRITTEN\\\\nBYALLSTATE ORANOTHER COMPANY.\\\\nProof OfClaim; Medical Reports\\\\nAssoon aspossible, youoranyother person making\\\\nclaim must giveuswritten proof ofclaim, including\\\\nalldetails reasonably required byustodetermine the\\\\namounts payable. Wemay alsorequire anyperson\\\\nmaking claim tosubmit toquestioning under oath\\\\nandsign thetranscript.\\\\nTheinsured person may berequired totakemedical\\\\nexaminations byphysicians selected byus,asoften\\\\naswereasonably require. Theinsured person orthat\\\\nperson\\'s representative must authorize ustoobtain\\\\nmedical reports andcopies ofrecords.\\\\nAssistance AndCooperation\\\\nWemay require theinsured person totakeproper\\\\naction topreserve allrights torecover damages from\\\\nanyone responsible forthebodily injury .\\\\nTrust Agreement\\\\nWhen wepayanyperson under thiscoverage:\\\\n1.weareentitled torepayment ofamounts paid by\\\\nusandrelated collection expenses outofthe\\\\nproceeds ofanysettlement orjudgment that\\\\nperson recovers from anyresponsible party or\\\\ninsurer.\\\\n2.allrights ofrecovery against anyresponsible\\\\nparty orinsurer must bemaintained and\\\\npreserved forourbenefit.\\\\n3.insured persons, ifweask,must takeproper\\\\naction intheir name torecover damages from\\\\nanyresponsible party orinsurer. Wewillselect\\\\ntheattorney. Wewillpayallrelated costs and\\\\nfees.\\\\nWewillnotasktheinsured person tosuethe\\\\ninsured ofaninsolvent insurer.\\\\nPayment OfLoss ByAllstate\\\\nAnyamount dueispayable totheinsured person, to\\\\ntheparent orguardian ofaninjured minor, ortothe\\\\nspouse ofanyinsured person who dies. However,\\\\nwemay payanyperson orestate lawfully entitled to\\\\\"\\\\n\", \"truncated\": false}'"
      ]
     },
     "execution_count": 13,
     "metadata": {},
     "output_type": "execute_result"
    }
   ],
   "execution_count": 13
  },
  {
   "metadata": {},
   "cell_type": "markdown",
   "source": "# Create CrewAI Agents",
   "id": "c7c9e348a6d11132"
  },
  {
   "metadata": {
    "ExecuteTime": {
     "end_time": "2025-03-04T05:52:58.468872Z",
     "start_time": "2025-03-04T05:52:58.457358Z"
    }
   },
   "cell_type": "code",
   "source": [
    "import os\n",
    "from crewai import Agent, Task, Crew\n",
    "\n",
    "cs_profile_tool, find_transcript_tool, search_policy_tool = tools\n",
    "\n",
    "transcript_analyzer = Agent(\n",
    "    role=\"Transcript Analyzer\",\n",
    "    goal=\"Analyze the customer transcripts and detect the customer intent, concerns, sentiment \"\n",
    "         \"and questions based on his or her phone number: {phone_number}\",\n",
    "    backstory=\"The agent is responsible for analyzing the customer transcripts and identifying \"\n",
    "              \"the customer intent, concerns, sentiment, and questions.\",\n",
    "    tools=[find_transcript_tool],\n",
    "    verbose=True\n",
    ")\n",
    "\n",
    "customer_service = Agent(\n",
    "    role=\"Customer Service\",\n",
    "    goal=\"Address customer intents, concerns, answer general questions on policy, and provide \"\n",
    "         \"service to improve customer happiness\",\n",
    "    backstory=\"The agent is responsible for addressing customer intents, concerns, questions on \"\n",
    "              \"policy and providing service to improve customer sentiment.\",\n",
    "    tools=[cs_profile_tool, search_policy_tool],\n",
    "    verbose=True\n",
    ")\n",
    "\n",
    "analysis = Task(\n",
    "    description=\"Given a customer based on his or her phone number: {phone_number} analyze the call transcripts\"\n",
    "                \"carefully and detect the customer intent, concerns, and questions.\",\n",
    "    expected_output=\"A detailed analysis of customer intents, concerns, sentiment, and questions.\",\n",
    "    agent=transcript_analyzer\n",
    ")\n",
    "\n",
    "customer_service_task = Task(\n",
    "    description=\"Address customer intents, concerns, answer any general questions on policy using\"\n",
    "                \"the policy document, and provide service to improve customer sentiment \"\n",
    "                \"based on the analysis of the call transcripts.\",\n",
    "    expected_output=\"An personalized and politely written response to the customer intents, \"\n",
    "                    \"concerns, questions on policy.\",\n",
    "    agent=customer_service\n",
    ")\n",
    "\n",
    "crew = Crew(\n",
    "    agents=[transcript_analyzer, customer_service],\n",
    "    tasks=[analysis, customer_service_task],\n",
    "    verbose=True,\n",
    "    planning=True\n",
    ")\n"
   ],
   "id": "eb17bf67d5759faf",
   "outputs": [
    {
     "name": "stderr",
     "output_type": "stream",
     "text": [
      "WARNING:opentelemetry.trace:Overriding of current TracerProvider is not allowed\n"
     ]
    }
   ],
   "execution_count": 9
  },
  {
   "metadata": {
    "ExecuteTime": {
     "end_time": "2025-03-04T05:54:34.937607Z",
     "start_time": "2025-03-04T05:54:01.857681Z"
    }
   },
   "cell_type": "code",
   "source": [
    "with mlflow.start_run():\n",
    "    inputs = {\"phone_number\": \"(875)-209-8555\"}\n",
    "    result = crew.kickoff(inputs=inputs)"
   ],
   "id": "fd8dd135ebb47c94",
   "outputs": [
    {
     "name": "stderr",
     "output_type": "stream",
     "text": [
      "2025/03/03 21:54:04 WARNING mlflow.utils.autologging_utils: MLflow autologging encountered a warning: \"/Users/q.yu/workspace/agents_use_cases/.venv/lib/python3.11/site-packages/pydantic/functional_validators.py:787: UserWarning: Pydantic serializer warnings:\n",
      "  Expected `InstanceOf` but got `CrewAgentExecutor` with value `<crewai.agents.crew_agent...r object at 0x34089b550>` - serialized value may not be as expected\"\n"
     ]
    },
    {
     "name": "stdout",
     "output_type": "stream",
     "text": [
      "\u001B[1m\u001B[93m \n",
      "[2025-03-03 21:54:04][INFO]: Planning the crew execution\u001B[00m\n",
      "\u001B[1m\u001B[95m# Agent:\u001B[00m \u001B[1m\u001B[92mTranscript Analyzer\u001B[00m\n",
      "\u001B[95m## Task:\u001B[00m \u001B[92mGiven a customer based on his or her phone number: (875)-209-8555 analyze the call transcriptscarefully and detect the customer intent, concerns, and questions.1. Access the tool 'fins_genai__agents__get_customer_transcripts_by_phone_number'.\n",
      "2. Input the customer phone number '(875)-209-8555' into the tool arguments to retrieve the corresponding call transcripts.\n",
      "3. Once the transcripts are obtained, carefully read through each conversation. Look for key phrases that indicate the customer's intent, such as requests for information or assistance.\n",
      "4. Identify any concerns expressed by the customer, including specific problems or dissatisfaction noted during the call. Make a list of these concerns for reference.\n",
      "5. Analyze the tone of the customer's communication to determine the sentiment, whether it is positive, negative, or neutral.\n",
      "6. Catalog any questions raised by the customer, ensuring to note their context and relevance to the conversation.\n",
      "7. Compile the analysis into a detailed report summarizing the customer intents, concerns, sentiment, and questions, formatted for clarity and ease of understanding.\u001B[00m\n"
     ]
    },
    {
     "name": "stderr",
     "output_type": "stream",
     "text": [
      "/Users/q.yu/workspace/agents_use_cases/.venv/lib/python3.11/site-packages/unitycatalog/ai/core/databricks.py:680: UserWarning: The following parameters do not have descriptions: search_name for the function fins_genai.agents.get_customer_transcripts_by_phone_number. Using Unity Catalog functions that do not have parameter descriptions limits the functionality for an LLM to understand how to call your function. To improve tool calling accuracy, provide verbose parameter descriptions that fully explain what the expected usage of the function arguments are.\n",
      "  check_function_info(function_info)\n"
     ]
    },
    {
     "name": "stdout",
     "output_type": "stream",
     "text": [
      "\n",
      "\n",
      "\u001B[1m\u001B[95m# Agent:\u001B[00m \u001B[1m\u001B[92mTranscript Analyzer\u001B[00m\n",
      "\u001B[95m## Using tool:\u001B[00m \u001B[92mfins_genai__agents__get_customer_transcripts_by_phone_number\u001B[00m\n",
      "\u001B[95m## Tool Input:\u001B[00m \u001B[92m\n",
      "\"{\\\"search_name\\\": \\\"(875)-209-8555\\\"}\"\u001B[00m\n",
      "\u001B[95m## Tool Output:\u001B[00m \u001B[92m\n",
      "{\"format\": \"CSV\", \"value\": \"profile\\n\\\"I need to file a claim for fire damage in my kitchen from a cooking accident.,   Sorry to hear that, but let's get one thing straight: we don't pay for foolish mistakes. If you're dripped grease on the stove and set the kitchen on fire, that's not our problem. You're gonna need to prove this was some kind of freak accident before we pay up. What's the point of even having insurance if you're just gonna be reckless in the kitchen? Alright, let's get the details. What's the make and model of your vehicle? And what's your policy number?,    I understand your concerns, but I assure you, this was not a foolish mistake. I am a responsible homeowner and I take great care in my cooking. The fire was not caused by dripped grease, but rather a malfunction in my stove's electrical system. I have already had a professional inspect the stove and they have confirmed that it was not my fault.  I would appreciate it if you could take my claim seriously and not assume that I am being reckless. I have been a customer of your company for many years and I expect better service.  Now, can you please tell me what steps I need to take to file my claim? I have all the necessary documentation, including photos of the damage and a detailed list of the items that were damaged in the fire.  And by the way, my policy number is XXXXXXX, and my vehicle's make and model is XXXXXX.  I hope we can resolve this matter in a professional and respectful manner.,   Okay, okay, I get it. You're a responsible homeowner, and this was a legitimate accident. My apologies for assuming the worst. Let's get your claim processed, shall we?  First, I'll need you to provide me with some more information. Can you tell me the date and time of the incident, and a brief description of what happened? And please, spare me the details about the stove's electrical system. I'm not an expert, and I don't want to pretend to be one.  Also, I'll need you to submit your documentation, including the photos and list of damaged items. You can upload them to our website or send them to me via email. And please, make sure you include your policy number in the email. We can't process your claim without it.  Once I have all the necessary information, I'll be happy to assist you with your claim. And again, My apologies for my initial response. I'm here to help, and I'll do my best to make this process as smooth as possible for you.,  Thank you for your apology and for taking my claim seriously. I appreciate your professionalism and willingness to help.  The date and time of the incident was last Wednesday evening, around  30 pm. I was cooking dinner when I noticed that the stove was emitting a strange, burning smell. I quickly turned off the stove and unplugged it, but it was too late. The kitchen was already filled with smoke, and the flames were starting to spread. I called the fire department immediately, and they arrived within minutes to put out the fire.  As for the documentation, I have taken photos of the damaged area and have a list of the items that were damaged in the fire. I will upload them to your website as soon as possible. My policy number is XXXXXXX.  Thank you again for your help, and I look forward to hearing back from you soon., You're welcome. I'm glad to hear that you're taking steps to document the damage and submit your claim. Just to clarify, you mentioned that the stove was emitting a strange, burning smell before the fire started. Have you noticed any other issues with the stove prior to the incident? For example, did you notice any sparks or unusual noises coming from the stove?  Additionally, have you checked to see if there were any recalls on the stove or any similar models? It's possible that there was a manufacturing issue that contributed to the malfunction. We'll definitely want to look into that as part of our investigation.  Lastly, I'll need to know the value of the items that were damaged in the fire. This will help us determine the total amount of damage and process your claim accordingly.  Please keep in mind that this is a lot of information to process, and we'll need some time to investigate and process your claim. But rest assured, we'll do everything we can to make this process as smooth and efficient as possible.\\\"\\n\\\"I need to report a theft and file a claim for stolen items., I'm sorry to hear that you've experienced a theft and need to file a claim. I'll do my best to assist you with this process. To get started, I'll need some information from you. Can you please provide me with the date and time of the incident, a list of the stolen items, and a brief description of what happened? Once I have this information, I can help you file your claim and get the process started.  For future reference, if you have any questions about your policy or need to make any changes to your coverage, please don't hesitate to reach out to me or any of our other customer support agents. We're here to help!  Vehicle: 2020 Honda Civic Policy Number: A12345678  Incident Details:  * Date of Incident: 03/15/2023 * Time of Incident:  00 PM * Location of Incident: Home Address * Description of Incident: The vehicle was parked in the driveway and was broken into. The following items were stolen: a laptop, a tablet, and a set of golf clubs.  Please let me know if there is any additional information needed to file the claim. Thank you for your assistance., Thank you for providing me with the necessary information regarding the theft and the stolen items. I'm sorry to hear about what happened and I'll do my best to assist you with the claim process.  To file a claim, I will need some additional information from you. Can you please provide me with the following details:  * Your full name * Your contact information (phone number and email address) * The police report number (if you have already filed a report with the police)  Once I have this information, I can help you file the claim and get the process started. In the meantime, please make sure to keep any receipts or documentation related to the stolen items, as this will be helpful during the claim process.  Regarding your policy, I would be happy to help you with any questions or changes you may have. We understand that life can be unpredictable, and we want to make sure that you have the coverage you need to protect yourself and your belongings.  Please let me know if you have any questions or if there is anything else I can do to help.  Sincerely, [Agent Name] Customer Support Agent [Company Name],   Policyholder Information  * Name: John Doe * Contact Information: 123-456-7890, [john.doe@example.com](mailto:john.doe@example.com) * Police Report Number: 123456    Stolen Items:  * Laptop: $1,000 * Tablet: $500 * Golf Clubs: $1,500    Additional Information:  * The theft occurred at the policyholder's home address. * The vehicle was locked and parked in the driveway. * There were no signs of forced entry.  Please let me know if there is any additional information needed to file the claim. Thank you for your assistance.  Sincerely, [Agent Name] Customer Support Agent [Company Name],   Policyholder Information  * Name: John Doe * Contact Information: 123-456-7890, [john.doe@example.com](mailto:john.doe@example.com) * Police Report Number: 123456    Stolen Items:  * Laptop: $1,000 * Tablet: $500 * Golf Clubs: $1,500    Additional Information:  * The theft occurred at the policyholder's home address. * The vehicle was locked and parked in the driveway. * There were no signs of forced entry.  Thank you for providing me with the necessary information to file the claim. I will make sure to include all of the details you have provided in the claim report.  Once the claim is filed, a claims adjuster will be assigned to your case and will contact you to discuss the next steps. They may ask for additional information or documentation related to the stolen items, so please make sure to keep any receipts or other relevant paperwork.  In the meantime, if you have any questions or concerns, please don't hesitate to reach out to me or any of our other customer support agents. We're here to help!  Sincerely, [Agent Name] Customer Support Agent [Company Name],   Policyholder Information  * Name: John Doe * Contact Information: 123-456-7890, [john.doe@example.com](mailto:john.doe@example.com) * Police Report Number: 123456    Stolen Items:  * Laptop: $1,000 * Tablet: $500 * Golf Clubs: $1,500    Additional Information:  * The theft occurred at the policyholder's home address. * The vehicle was locked and parked in the driveway. * There were no signs of forced entry.  Thank you for your prompt response. I have all the necessary information to file the claim and I will make sure to include all the details you have provided in the claim report.  Once the claim is filed, a claims adjuster will be assigned to your case and will contact you to discuss the next steps. They may ask for additional information or documentation related to the stolen items, so please make sure to keep any receipts or other relevant paperwork.  In the meantime, if you have any questions or concerns, please don't hesitate to reach out to me or any of our other customer support agents. We're here to help!  Sincerely, [Agent Name] Customer Support Agent [Company Name]\\\"\\n\", \"truncated\": false}\u001B[00m\n",
      "\n",
      "\n",
      "\u001B[1m\u001B[95m# Agent:\u001B[00m \u001B[1m\u001B[92mTranscript Analyzer\u001B[00m\n",
      "\u001B[95m## Final Answer:\u001B[00m \u001B[92m\n",
      "```plaintext\n",
      "Customer Name: John Doe\n",
      "Phone Number: (875)-209-8555\n",
      "\n",
      "1. Customer Intent:\n",
      "   - Intending to file claims for both fire damage and theft.\n",
      "\n",
      "2. Customer Concerns:\n",
      "   - Frustration over initial judgment on the kitchen fire accident.\n",
      "   - Seeking serious consideration of their claims based on long-term customer status.\n",
      "   - Providing specific details for the theft claim and the need for proper documentation.\n",
      "\n",
      "3. Sentiment:\n",
      "   - Initial frustration and defensiveness, shifting to a more cooperative tone after receiving an apology from the agent.\n",
      "\n",
      "4. Questions Raised:\n",
      "   - For the fire damage claim: \"What steps do I need to take to file my claim?\"\n",
      "   - For the theft claim: \"Is there any additional information needed to file the claim?\"\n",
      "\n",
      "This comprehensive analysis highlights the customer's intent, concerns, sentiment, and questions from the transcripts.\n",
      "```\u001B[00m\n",
      "\n",
      "\n",
      "\u001B[1m\u001B[95m# Agent:\u001B[00m \u001B[1m\u001B[92mCustomer Service\u001B[00m\n",
      "\u001B[95m## Task:\u001B[00m \u001B[92mAddress customer intents, concerns, answer any general questions on policy usingthe policy document, and provide service to improve customer sentiment based on the analysis of the call transcripts.1. Utilize the tool 'fins_genai__agents__get_customer_profile_by_phone_number' to gather the customer's profile based on the phone number '(875)-209-8555'.\n",
      "2. Review the customer's profile to gain context about the customer’s history and previous interactions, which will help tailor the response.\n",
      "3. Access the call transcript analysis completed in Task Number 1. Identify specific intents, concerns, and questions that need to be addressed.\n",
      "4. Use the tool 'fins_genai__agents__search_policy' to find relevant policy documentation that answers the customer’s questions and clarifies any concerns.\n",
      "5. Draft a personalized response that addresses the identified intents and concerns, using polite language and a friendly tone.\n",
      "6. Provide clear answers to the customer's questions related to the policy, ensuring that they feel understood and valued.\n",
      "7. Suggest further actions or services that could improve the customer's sentiment based on the analysis, like addressing specific complaints or offering a follow-up for unresolved issues.\n",
      "8. Conclude the communication emphasizing the commitment to customer satisfaction, inviting the customer to reach out for further assistance if needed.\u001B[00m\n"
     ]
    },
    {
     "name": "stderr",
     "output_type": "stream",
     "text": [
      "/Users/q.yu/workspace/agents_use_cases/.venv/lib/python3.11/site-packages/unitycatalog/ai/core/databricks.py:680: UserWarning: The following parameters do not have descriptions: search_name for the function fins_genai.agents.get_customer_profile_by_phone_number. Using Unity Catalog functions that do not have parameter descriptions limits the functionality for an LLM to understand how to call your function. To improve tool calling accuracy, provide verbose parameter descriptions that fully explain what the expected usage of the function arguments are.\n",
      "  check_function_info(function_info)\n"
     ]
    },
    {
     "name": "stdout",
     "output_type": "stream",
     "text": [
      "\n",
      "\n",
      "\u001B[1m\u001B[95m# Agent:\u001B[00m \u001B[1m\u001B[92mCustomer Service\u001B[00m\n",
      "\u001B[95m## Thought:\u001B[00m \u001B[92mI need to gather the customer's profile using the phone number provided to understand John's history and any previous interactions, which will help me tailor my response.\u001B[00m\n",
      "\u001B[95m## Using tool:\u001B[00m \u001B[92mfins_genai__agents__get_customer_profile_by_phone_number\u001B[00m\n",
      "\u001B[95m## Tool Input:\u001B[00m \u001B[92m\n",
      "\"{\\\"search_name\\\": \\\"(875)-209-8555\\\"}\"\u001B[00m\n",
      "\u001B[95m## Tool Output:\u001B[00m \u001B[92m\n",
      "{\"format\": \"CSV\", \"value\": \"profile\\n\\\"The customer Dawn Neal lives in MANHATTAN, 10013.0 with email address ssimon@example.org and phone number(875)-209-8555 owns a AUDI 2019.0 A 3 has a policy of COMP (policy number:102147937) issued on 2020-07-29 and expires on 2021-08-28\\\"\\n\", \"truncated\": false}\u001B[00m\n"
     ]
    },
    {
     "name": "stderr",
     "output_type": "stream",
     "text": [
      "/Users/q.yu/workspace/agents_use_cases/.venv/lib/python3.11/site-packages/unitycatalog/ai/core/databricks.py:680: UserWarning: The following parameters do not have descriptions: query for the function fins_genai.agents.search_policy. Using Unity Catalog functions that do not have parameter descriptions limits the functionality for an LLM to understand how to call your function. To improve tool calling accuracy, provide verbose parameter descriptions that fully explain what the expected usage of the function arguments are.\n",
      "  check_function_info(function_info)\n"
     ]
    },
    {
     "name": "stdout",
     "output_type": "stream",
     "text": [
      "\n",
      "\n",
      "\u001B[1m\u001B[95m# Agent:\u001B[00m \u001B[1m\u001B[92mCustomer Service\u001B[00m\n",
      "\u001B[95m## Thought:\u001B[00m \u001B[92mThought: I have gathered the customer's profile, which includes essential details. Now, I will search the policy document for relevant information that addresses John's questions regarding the claims process and any other concerns raised.\u001B[00m\n",
      "\u001B[95m## Using tool:\u001B[00m \u001B[92mfins_genai__agents__search_policy\u001B[00m\n",
      "\u001B[95m## Tool Input:\u001B[00m \u001B[92m\n",
      "\"{\\\"query\\\": \\\"steps to file a claim for fire damage and theft claim process requirements\\\"}\"\u001B[00m\n",
      "\u001B[95m## Tool Output:\u001B[00m \u001B[92m\n",
      "{\"format\": \"CSV\", \"value\": \"policy\\n\\\"ANY COVERAGE ZADEDUCTIBLE WILL ALWAYS\\nAPPLY.Action Against Allstate\\nNoonemay sueusunder thiscoverage unless there\\nisfullcompliance with allthepolicy terms.\\nSubrogation Rights\\nWhen wepay,your rights ofrecovery from anyone\\nelsebecome ours uptotheamount wehave paid.\\nYoumust protect these rights andhelp usenforce\\nthem.\\nWhat YouMust DoIfThere IsALoss\\n1.Assoon aspossible, anyperson making claim\\nmust giveuswritten proof ofloss. Itmust\\ninclude alldetails reasonably required byus.\\nWehave theright toinspect thedamaged\\nproperty. Wemay require anyperson making\\nclaim tofilewith usasworn proof ofloss. We\\nmay alsorequire thatperson tosubmit to\\nexaminations under oath.\\n2.Protect theauto from further loss. Wewillpay\\nreasonable expenses toguard against further\\nloss. Ifyoudon't protect theauto, further loss\\nisnotcovered.\\n3.Report alltheft losses promptly tothepolice.\\nINWITNESS WHEREOF ,Allstate hascaused this\\npolicy tobesigned byitsSecretary anditsPresident\\natNorthbrook, Illinois, andifrequired bystate law,\\nthispolicy shall notbebinding unless countersigned\\nonthePolicy Declarations byanauthorized agent of\\nAllstate.\\nSecretary\\nPresident, Personal Lines\\nPage 17\\\"\\n\\\"premium isshown onthePolicy Declarations for\\ntherented vehicle.\\nRight ToAppraisal\\nBoth youandAllstate have aright todemand an\\nappraisal oftheloss. Each willappoint andpaya\\nqualified appraiser. Other appraisal expenses willbe\\nshared equally. Thetwoappraisers, orajudge ofa\\ncourt ofrecord, willchoose anumpire. Each\\nappraiser willstate theactual cash value andthe\\namount ofloss. Ifthey disagree, they'll submit their\\ndifferences totheumpire. Awritten decision byany\\ntwoofthese three persons willdetermine theamount\\noftheloss.\\nPayment OfLoss ByAllstate\\nAllstate may payforthelossinmoney, ormay repair\\norreplace thedamaged orstolen property. Wemay,\\natanytime before thelossispaid ortheproperty is\\nreplaced, return atourown expense anystolen\\nproperty, either toyouoratouroption totheaddress\\nshown onthePolicy Declarations, with payment for\\nanyresulting damage. Wemay takeallorpartofthe\\nproperty attheagreed orappraised value. Wemay\\nsettle anyclaim orlosseither with youortheowner\\noftheproperty.\\nPage 16\\nS\\nA\\nM\\nP\\nL\\nE\\nD\\nO\\nC\\nU\\nM\\nE\\nN\\nTAllstate Insurance Company\\nLIMITS OFLIABILITY\\nALLSTATE'S LIMIT OFLIABILITY ISTHEACTUAL\\nCASH VALUE OFTHEPROPERTY ORDAMAGED\\nPART OFTHEPROPERTY ATTHETIME OFLOSS.\\nTHEACTUAL CASH VALUE WILL BEREDUCED BY\\nTHEDEDUCTIBLE FOR EACH COVERAGE AS\\nSHOWN ONTHEPOLICY DECLARATIONS.\\nHOWEVER, OUR LIABILITY WILL NOT EXCEED\\nWHAT ITWOULD COST TOREPAIR ORREPLACE\\nTHEPROPERTY ORPART WITH OTHER OFLIKE\\nKIND AND QUALITY. THELIMIT FORLOSS TOANY\\nCOVERED TRAILER NOT DESCRIBED ONTHE\\nPOLICY DECLARATIONS IS$500.\\nANAUTO AND ATTACHED TRAILER ARE\\nCONSIDERED SEPARATE AUTOS, AND YOU MUST\\nPAY THEDEDUCTIBLE, IFANY, ONEACH. ONLY\\nONE DEDUCTIBLE WILL APPLY TOANAUTO WITH\\nAMOUNTED CAMPER UNIT. IFUNMOUNTED, A\\nSEPARATE DEDUCTIBLE WILL APPLY TOTHEAUTO\\nAND CAMPER UNIT.\\nIFTHERE ISOTHER INSURANCE\\nIFTHERE ISOTHER INSURANCE COVERING THE\\nLOSS ATTHETIME OFTHEACCIDENT, WEWILL\\nPAY ONLY OUR SHARE OFANY DAMAGES. OUR\\nSHARE ISDETERMINED BYADDING THELIMITS OF\\nTHIS INSURANCE TOTHELIMITS OFALLOTHER\\nINSURANCE THAT APPLIES ONTHESAME BASIS\\nAND FINDING THEPERCENTAGE OFTHETOTAL\\nTHAT OUR LIMITS REPRESENT.\\nWHEN THIS INSURANCE COVERS ASUBSTITUTE\\nAUTO ORNON-OWNED AUTO, WEWILL PAY ONLY\\nAFTER ALLOTHER COLLECTIBLE INSURANCE HAS\\nBEEN EXHAUSTED.\\nWHEN THIS INSURANCE COVERS AREPLACEMENT\\nAUTO ORADDITIONAL AUTO, THIS POLICY WON'T\\nAPPLY IFYOU HAVE OTHER COLLECTIBLE\\nINSURANCE.\\nWHEN MORE THAN ONE COVERAGE ISAPPLICABLE\\nTOTHELOSS, YOU MAY RECOVER UNDER THE\\nBROADEST COVERAGE BUT NOT BOTH. HOWEVER,\\nANY COVERAGE ZADEDUCTIBLE WILL ALWAYS\\nAPPLY.Action Against Allstate\\nNoonemay sueusunder thiscoverage unless there\\nisfullcompliance with allthepolicy terms.\\nSubrogation Rights\\nWhen wepay,your rights ofrecovery from anyone\\nelsebecome ours uptotheamount wehave paid.\\nYoumust protect these rights andhelp usenforce\\nthem.\\nWhat YouMust DoIfThere IsALoss\\n1.Assoon aspossible, anyperson making claim\\nmust giveuswritten proof ofloss. Itmust\\ninclude alldetails reasonably required byus.\\nWehave theright toinspect thedamaged\\nproperty. Wemay require anyperson making\\nclaim tofilewith usasworn proof ofloss. We\\nmay alsorequire thatperson tosubmit to\\nexaminations under oath.\\n2.Protect theauto from further loss. Wewillpay\\nreasonable expenses toguard against further\\nloss. Ifyoudon't protect theauto, further loss\\nisnotcovered.\\n3.Report alltheft losses promptly tothepolice.\\nINWITNESS WHEREOF ,Allstate hascaused this\\npolicy tobesigned byitsSecretary anditsPresident\\\"\\n\\\"action topreserve allrights torecover damages from\\nanyone responsible forthebodily injury .\\nTrust Agreement\\nWhen wepayanyperson under thiscoverage:\\n1.weareentitled torepayment ofamounts paid by\\nusandrelated collection expenses outofthe\\nproceeds ofanysettlement orjudgment that\\nperson recovers from anyresponsible party or\\ninsurer.\\n2.allrights ofrecovery against anyresponsible\\nparty orinsurer must bemaintained and\\npreserved forourbenefit.\\n3.insured persons, ifweask,must takeproper\\naction intheir name torecover damages from\\nanyresponsible party orinsurer. Wewillselect\\ntheattorney. Wewillpayallrelated costs and\\nfees.\\nWewillnotasktheinsured person tosuethe\\ninsured ofaninsolvent insurer.\\nPayment OfLoss ByAllstate\\nAnyamount dueispayable totheinsured person, to\\ntheparent orguardian ofaninjured minor, ortothe\\nspouse ofanyinsured person who dies. However,\\nwemay payanyperson orestate lawfully entitled to\\nrecover thedamages.\\nAction Against Allstate\\nNoonemay sueusunder thiscoverage unless there\\nisfullcompliance with allthepolicy terms.\\nPage 12\\nS\\nA\\nM\\nP\\nL\\nE\\nD\\nO\\nC\\nU\\nM\\nE\\nN\\nTAllstate Insurance Company\\nIfWeCannot Agree\\nIftheinsured person andwedon't agree onthat\\nperson's right toreceive damages onanyclaim\\ninvolving anamount of$3000 orless, thedispute will\\nbesettled byarbitration.\\nIftheinsured person andwedon't agree onthat\\nperson's right toreceive damages onanyclaim\\ninvolving anamount over $3000, then upon the\\nmutual consent oftheinsured person andAllstate\\nthedisagreement may besettled byarbitration. The\\ninsured person andwe,however, must mutually\\nagree toarbitrate thedisagreements. Iftheinsured\\nperson andwedonotagree toarbitrate, then the\\ndisagreement willberesolved inacourt ofcompetent\\njurisdiction.\\nUnless theinsured person orweobject, arbitration\\nwilltakeplace under therules oftheAmerican\\nArbitration Association.\\nIfeither party objects totheuseoftherules ofthe\\nAmerican Arbitration Association, thefollowing\\nalternative method ofarbitration willbeused. The\\ninsured person willselect onearbitrator andwewill\\nselect another. Thetwoarbitrators willselect athird.\\nIfthey can't agree onathird arbitrator within 30days,\\nthejudge ofthecourt ofrecord inthecounty of\\njurisdiction where arbitration ispending willappoint\\nthethird arbitrator. Thewritten decision ofanytwo\\narbitrators willdetermine theissues. Local rules\\ngoverning evidence andprocedure willapply. The\\ninsured person willpaythearbitrator thatperson\\nselects andwewillpaytheoneweselect. The\\nexpense ofthethird arbitrator andallother expenses\\nofarbitration willbeshared equally. However,\\nattorney feesandfeespaid tomedical orother expert\\nwitnesses arenotconsidered arbitration expenses\\nandaretobepaid bytheparty incurring them.\\nRegardless ofthemethod ofarbitration, either party\\nhasaright toatrialonallissues inacourt of\\ncompetent jurisdiction. Costs, including attorney\\nfees, aretobepaid bytheparty incurring them.\\nPart 6\\nProtection Against Loss ToThe\\nAuto\\nThefollowing coverages apply when indicated onthe\\nPolicy Declarations. Additional payments, autos\\ninsured, definitions, exclusions, andotherinformation applicable toallthese coverages appear\\nbeginning onpage 14.\\nCOVERAGE DD\\nAuto Collision Insurance\\nAllstate willpayfordirect andaccidental losstoyour\\ninsured auto oranon-owned auto (including insured\\nlosstoanattached trailer )from acollision with\\nanother object orbyupset ofthatauto ortrailer. The\\ndeductible amount won't besubtracted from theloss\\npayment incollisions involving your insured auto\\nandanother auto insured byus.\\nCOVERAGE DE\\nDiminishing Deductible Auto Collision\\nInsurance\\nIfthelossis$100 ormore, Allstate willpayfordirect\\nandaccidental losstoyour insured auto ora\\nnon-owned auto (including insured losstoan\\nattached trailer )from acollision with another object\\\"\\n\", \"truncated\": false}\u001B[00m\n",
      "\n",
      "\n",
      "\u001B[1m\u001B[95m# Agent:\u001B[00m \u001B[1m\u001B[92mCustomer Service\u001B[00m\n",
      "\u001B[95m## Final Answer:\u001B[00m \u001B[92m\n",
      "Dear John,\n",
      "\n",
      "Thank you for reaching out to us regarding your claims for fire damage and theft. We understand how important these matters are to you and appreciate your patience as we address your inquiries.\n",
      "\n",
      "To file your claim for the fire damage, please follow these steps:\n",
      "\n",
      "1. As soon as possible, provide us with written proof of loss. This should include all details reasonably required by us.\n",
      "2. We have the right to inspect the damaged property and may require you to file a sworn proof of loss.\n",
      "3. It's essential to protect the property from further damage, and we will cover reasonable expenses incurred to guard against additional loss.\n",
      "4. If there was a theft, please report it promptly to the police.\n",
      "\n",
      "Regarding your concern about our initial judgment on the kitchen fire accident, please know that your long-term status as a valued customer is important to us. We take every claim seriously and will ensure that your claim is thoroughly reviewed.\n",
      "\n",
      "For your theft claim, please ensure that you have also reported the incident to the police and provide us with any necessary documentation that may help in assessing your claim.\n",
      "\n",
      "If you have any further questions or need additional assistance as you prepare your claims, feel free to reach out. Your satisfaction is our priority, and we are here to help you through the process.\n",
      "\n",
      "Thank you for your trust in us, and please do not hesitate to contact us for any further assistance. We are committed to your satisfaction and look forward to resolving this for you.\n",
      "\n",
      "Best regards,\n",
      "\n",
      "[Your Name]  \n",
      "Customer Service Team  \n",
      "[Your Contact Information]\u001B[00m\n",
      "\n",
      "\n",
      "🏃 View run treasured-hound-860 at: https://adb-984752964297111.11.azuredatabricks.net/#/experiments/542504799033733429/runs/2a7a59bd175647eba1fafcf6bf612373\n",
      "🧪 View experiment at: https://adb-984752964297111.11.azuredatabricks.net/#/experiments/542504799033733429\n"
     ]
    },
    {
     "data": {
      "text/plain": [
       "Trace(request_id=98146d20c05d4607b6ccfc2eb7f20413)"
      ],
      "text/html": [
       "\n",
       "<div>\n",
       "  <style scoped>\n",
       "  button {\n",
       "    border: none;\n",
       "    border-radius: 4px;\n",
       "    background-color: rgb(34, 114, 180);\n",
       "    font-family: -apple-system, \"system-ui\", \"Segoe UI\", Roboto, \"Helvetica Neue\", Arial;\n",
       "    font-size: 13px;\n",
       "    color: white;\n",
       "    margin-top: 8px;\n",
       "    margin-bottom: 8px;\n",
       "    padding: 8px 16px;\n",
       "    cursor: pointer;\n",
       "  }\n",
       "  button:hover {\n",
       "    background-color: rgb(66, 153, 224);\n",
       "  }\n",
       "  </style>\n",
       "  <button\n",
       "    onclick=\"\n",
       "        const display = this.nextElementSibling.style.display;\n",
       "        const isCollapsed = display === 'none';\n",
       "        this.nextElementSibling.style.display = isCollapsed ? null : 'none';\n",
       "\n",
       "        const verb = isCollapsed ? 'Collapse' : 'Expand';\n",
       "        this.innerText = `${verb} MLflow Trace`;\n",
       "    \"\n",
       "  >Collapse MLflow Trace</button>\n",
       "  <iframe\n",
       "    id=\"trace-renderer\"\n",
       "    style=\"width: 100%; height: 500px; border: none; resize: vertical;\"\n",
       "    src=\"http://localhost:5000/static-files/lib/notebook-trace-renderer/index.html?trace_id=98146d20c05d4607b6ccfc2eb7f20413&amp;experiment_id=542504799033733429&amp;version=2.20.0\"\n",
       "  />\n",
       "</div>\n"
      ]
     },
     "metadata": {},
     "output_type": "display_data"
    }
   ],
   "execution_count": 10
  },
  {
   "metadata": {
    "ExecuteTime": {
     "end_time": "2025-03-04T05:57:19.892617Z",
     "start_time": "2025-03-04T05:57:19.889184Z"
    }
   },
   "cell_type": "code",
   "source": "print(result.raw)",
   "id": "2ad0731ff823a807",
   "outputs": [
    {
     "name": "stdout",
     "output_type": "stream",
     "text": [
      "Dear John,\n",
      "\n",
      "Thank you for reaching out to us regarding your claims for fire damage and theft. We understand how important these matters are to you and appreciate your patience as we address your inquiries.\n",
      "\n",
      "To file your claim for the fire damage, please follow these steps:\n",
      "\n",
      "1. As soon as possible, provide us with written proof of loss. This should include all details reasonably required by us.\n",
      "2. We have the right to inspect the damaged property and may require you to file a sworn proof of loss.\n",
      "3. It's essential to protect the property from further damage, and we will cover reasonable expenses incurred to guard against additional loss.\n",
      "4. If there was a theft, please report it promptly to the police.\n",
      "\n",
      "Regarding your concern about our initial judgment on the kitchen fire accident, please know that your long-term status as a valued customer is important to us. We take every claim seriously and will ensure that your claim is thoroughly reviewed.\n",
      "\n",
      "For your theft claim, please ensure that you have also reported the incident to the police and provide us with any necessary documentation that may help in assessing your claim.\n",
      "\n",
      "If you have any further questions or need additional assistance as you prepare your claims, feel free to reach out. Your satisfaction is our priority, and we are here to help you through the process.\n",
      "\n",
      "Thank you for your trust in us, and please do not hesitate to contact us for any further assistance. We are committed to your satisfaction and look forward to resolving this for you.\n",
      "\n",
      "Best regards,\n",
      "\n",
      "[Your Name]  \n",
      "Customer Service Team  \n",
      "[Your Contact Information]\n"
     ]
    }
   ],
   "execution_count": 15
  },
  {
   "metadata": {},
   "cell_type": "code",
   "outputs": [],
   "execution_count": null,
   "source": "",
   "id": "145a830bd9150232"
  }
 ],
 "metadata": {
  "kernelspec": {
   "display_name": "Python 3",
   "language": "python",
   "name": "python3"
  },
  "language_info": {
   "codemirror_mode": {
    "name": "ipython",
    "version": 2
   },
   "file_extension": ".py",
   "mimetype": "text/x-python",
   "name": "python",
   "nbconvert_exporter": "python",
   "pygments_lexer": "ipython2",
   "version": "2.7.6"
  }
 },
 "nbformat": 4,
 "nbformat_minor": 5
}
