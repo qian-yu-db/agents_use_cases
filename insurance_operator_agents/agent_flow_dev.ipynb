{
 "cells": [
  {
   "cell_type": "code",
   "id": "initial_id",
   "metadata": {
    "collapsed": true,
    "ExecuteTime": {
     "end_time": "2025-03-05T22:54:43.546917Z",
     "start_time": "2025-03-05T22:54:39.272267Z"
    }
   },
   "source": [
    "import mlflow\n",
    "from dotenv import load_dotenv\n",
    "from databricks.connect import DatabricksSession\n",
    "\n",
    "spark = DatabricksSession.builder.getOrCreate()\n",
    "load_dotenv('../.env')\n",
    "\n",
    "DATABRICKS_HOST = os.getenv('host')\n",
    "DATABRICKS_TOKEN = os.getenv('token')\n",
    "OPENAI_API_KEY = os.getenv('OPENAI_API_KEY')\n",
    "print(f\"host: {DATABRICKS_HOST}\")\n",
    "\n",
    "mlflow.set_tracking_uri(\"http://localhost:5000\")\n",
    "mlflow.set_registry_uri(\"http://localhost:5000\")\n",
    "mlflow.set_experiment(\"crewai_flow_local_dev\")\n",
    "mlflow.crewai.autolog()"
   ],
   "outputs": [
    {
     "name": "stdout",
     "output_type": "stream",
     "text": [
      "host: adb-984752964297111.11.azuredatabricks.net\n"
     ]
    },
    {
     "name": "stderr",
     "output_type": "stream",
     "text": [
      "2025/03/05 14:54:42 WARNING mlflow.utils.autologging_utils: MLflow autologging encountered a warning: \"/Users/q.yu/workspace/agents_use_cases/.venv/lib/python3.11/site-packages/pydantic/_internal/_config.py:345: UserWarning: Valid config keys have changed in V2:\n",
      "* 'fields' has been removed\"\n"
     ]
    }
   ],
   "execution_count": 1
  },
  {
   "metadata": {
    "ExecuteTime": {
     "end_time": "2025-03-05T22:55:08.532116Z",
     "start_time": "2025-03-05T22:55:08.516416Z"
    }
   },
   "cell_type": "code",
   "source": [
    "from unitycatalog.ai.core.base import set_uc_function_client\n",
    "from unitycatalog.ai.core.databricks import DatabricksFunctionClient\n",
    "\n",
    "client = DatabricksFunctionClient()\n",
    "set_uc_function_client(client)\n",
    "\n",
    "CATALOG = 'fins_genai'\n",
    "SCHEMA = 'agents'"
   ],
   "id": "4806f5458839710e",
   "outputs": [],
   "execution_count": 2
  },
  {
   "metadata": {
    "ExecuteTime": {
     "end_time": "2025-03-05T22:55:11.268795Z",
     "start_time": "2025-03-05T22:55:10.032747Z"
    }
   },
   "cell_type": "code",
   "source": [
    "df = spark.sql(f\"select distinct(intent) from {CATALOG}.{SCHEMA}.call_transcripts\")\n",
    "display(df.show())"
   ],
   "id": "28ebf9228129051c",
   "outputs": [
    {
     "name": "stdout",
     "output_type": "stream",
     "text": [
      "+-----------------+\n",
      "|           intent|\n",
      "+-----------------+\n",
      "|motocycle related|\n",
      "|    policy change|\n",
      "|     car accident|\n",
      "|    home accident|\n",
      "|            theft|\n",
      "| general question|\n",
      "+-----------------+\n",
      "\n"
     ]
    },
    {
     "data": {
      "text/plain": [
       "None"
      ]
     },
     "metadata": {},
     "output_type": "display_data"
    }
   ],
   "execution_count": 3
  },
  {
   "metadata": {
    "ExecuteTime": {
     "end_time": "2025-03-05T22:55:13.286492Z",
     "start_time": "2025-03-05T22:55:12.811757Z"
    }
   },
   "cell_type": "code",
   "source": [
    "uc_tools = [f\"{CATALOG}.{SCHEMA}.{func.name}\" for func in client.list_functions(catalog=CATALOG,\n",
    "                                                                                schema=SCHEMA)\n",
    "            if func.name.endswith('phone_number') or func.name == 'search_policy']\n",
    "print(uc_tools)"
   ],
   "id": "279b070111613b78",
   "outputs": [
    {
     "name": "stdout",
     "output_type": "stream",
     "text": [
      "['fins_genai.agents.get_customer_profile_by_phone_number', 'fins_genai.agents.get_customer_transcripts_by_phone_number', 'fins_genai.agents.search_policy']\n"
     ]
    }
   ],
   "execution_count": 4
  },
  {
   "metadata": {},
   "cell_type": "markdown",
   "source": [
    "# Create a Crew\n",
    "\n",
    "## Set tools"
   ],
   "id": "49ad7443a012e286"
  },
  {
   "metadata": {
    "ExecuteTime": {
     "end_time": "2025-03-05T22:55:19.248057Z",
     "start_time": "2025-03-05T22:55:17.108123Z"
    }
   },
   "cell_type": "code",
   "source": [
    "from unitycatalog.ai.crewai.toolkit import UCFunctionToolkit\n",
    "\n",
    "toolkit = UCFunctionToolkit(function_names=uc_tools)\n",
    "tools = toolkit.tools\n",
    "\n",
    "cs_profile_tool, find_transcript_tool, search_policy_tool = tools"
   ],
   "id": "5c62ee0b1398c640",
   "outputs": [],
   "execution_count": 5
  },
  {
   "metadata": {
    "ExecuteTime": {
     "end_time": "2025-03-05T22:55:19.303151Z",
     "start_time": "2025-03-05T22:55:19.292823Z"
    }
   },
   "cell_type": "code",
   "source": [
    "from crewai import Agent, Task, Crew\n",
    "\n",
    "# Intent detect crew\n",
    "# This can be a an user inputs\n",
    "intent_analyzer = Agent(\n",
    "    role=\"Transcript Analyzer\",\n",
    "    goal=\"Analyze the customer transcripts and detect the customer intent based on his or her phone number: {phone_number}\",\n",
    "    backstory=\"The agent is responsible for analyzing the customer transcripts and identifying the customer intent.\",\n",
    "    tools=[find_transcript_tool],\n",
    "    verbose=True\n",
    ")\n",
    "\n",
    "intent_analysis = Task(\n",
    "    description=\"Given a customer based on his or her phone number: {phone_number} analyze the call transcripts\"\n",
    "                \"carefully and detect the customer intent.\",\n",
    "    expected_output=\"customer intent in a few words\",\n",
    "    agent=intent_analyzer\n",
    ")\n",
    "\n",
    "intend_detect_crew = Crew(\n",
    "    agents=[intent_analyzer],\n",
    "    tasks=[intent_analysis],\n",
    "    verbose=True,\n",
    "    planning=True\n",
    ")\n",
    "\n",
    "claim_processor = Agent(\n",
    "    role=\"Insurance Claim Process\",\n",
    "    goal=\"Process the insurance claim by customer with phone number: {phone_number} based on the \"\n",
    "         \"customer's profile and call transcript information.\",\n",
    "    backstory=\"The agent is responsible for processing the insurance claim based \"\n",
    "              \"on the customer's profile and call transcript information.\",\n",
    "    tools=[cs_profile_tool, find_transcript_tool],\n",
    "    verbose=True\n",
    ")\n",
    "\n",
    "file_claim = Task(\n",
    "    description=\"Pull customer profile based on his or her phone number: {phone_number}. Use call\"\n",
    "                \" transcript as context to process the insurance claim.\",\n",
    "    expected_output=\"A processed insurance claim based on the customer's profile and call \"\n",
    "                    \"transcript information.\",\n",
    "    agent=claim_processor,\n",
    ")\n",
    "\n",
    "claim_processor_crew = Crew(\n",
    "    agents=[claim_processor],\n",
    "    tasks=[file_claim],\n",
    "    verbose=True,\n",
    "    planning=True\n",
    ")\n",
    "\n",
    "policy_helper = Agent(\n",
    "    role=\"Insurance Policy Helper\",\n",
    "    goal=\"Help to answer customer questions on policy or perform policy change tasks using policy \"\n",
    "         \"document as reference. Also refer to customer profile and transcripts\",\n",
    "    backstory=\"The agent is responsible for performing policy change tasks using policy\",\n",
    "    tools=[cs_profile_tool, find_transcript_tool, search_policy_tool],\n",
    "    verbose=True\n",
    ")\n",
    "\n",
    "search_retrieve_policy = Task(\n",
    "    description=\"Search for the policy based on the customer with phone number: {phone_number} 's\"\n",
    "                \" profile and transcript information.\",\n",
    "    expected_output=\"A detailed and polite response that addresses customer's inquery on policy.\",\n",
    "    agent=policy_helper\n",
    ")\n",
    "\n",
    "policy_answer_crew = Crew(\n",
    "    agents=[policy_helper],\n",
    "    tasks=[search_retrieve_policy],\n",
    "    verbose=True,\n",
    "    planning=True\n",
    ")\n"
   ],
   "id": "79e7298e7ab13302",
   "outputs": [
    {
     "name": "stderr",
     "output_type": "stream",
     "text": [
      "WARNING:opentelemetry.trace:Overriding of current TracerProvider is not allowed\n",
      "WARNING:opentelemetry.trace:Overriding of current TracerProvider is not allowed\n"
     ]
    }
   ],
   "execution_count": 6
  },
  {
   "metadata": {
    "ExecuteTime": {
     "end_time": "2025-03-05T23:01:19.464069Z",
     "start_time": "2025-03-05T23:01:19.448448Z"
    }
   },
   "cell_type": "code",
   "source": [
    "import asyncio\n",
    "from typing import List\n",
    "\n",
    "from crewai.flow.flow import Flow, listen, router, start\n",
    "from pydantic import BaseModel\n",
    "import re\n",
    "\n",
    "class InsuranceOperatorFlow(Flow):\n",
    "\n",
    "    @start()\n",
    "    def intend_triage(self):\n",
    "        if self.state['user_input']:\n",
    "            pattern = r\"\\(\\d{3}\\)-\\d{3}-\\d{4}\"\n",
    "            match = re.search(pattern, self.state['user_input'])\n",
    "            print(match)\n",
    "            if match:\n",
    "                self.state['intent'] = intend_detect_crew.kickoff({'phone_number': match.group()})\n",
    "            else:\n",
    "                self.state['intent'] = \"Cannot identify customer\"\n",
    "\n",
    "    @router(intend_triage)\n",
    "    def assign_task_to_crew(self):\n",
    "        if \"policy\" in self.state['intent']:\n",
    "            return \"policy\"\n",
    "        elif any(keyword in self.state['intent']\n",
    "                 for keyword in [\"accident\", \"theft\", \"claim\", \"motor\"]):\n",
    "            return \"claim\"\n",
    "        else:\n",
    "            return \"Cannot identify customer intent, terminate\"\n",
    "\n",
    "    @listen(\"claim\")\n",
    "    def file_a_claim(self):\n",
    "        claim_processor_crew.kickoff({'phone_number': self.state['user_input']})\n",
    "\n",
    "    @listen(\"policy\")\n",
    "    def policy_question(self):\n",
    "        policy_answer_crew.kickoff({'phone_number': self.state['user_input']})"
   ],
   "id": "8df67b03c0d8f6fb",
   "outputs": [],
   "execution_count": 23
  },
  {
   "metadata": {
    "ExecuteTime": {
     "end_time": "2025-03-05T23:01:20.077307Z",
     "start_time": "2025-03-05T23:01:20.065416Z"
    }
   },
   "cell_type": "code",
   "source": [
    "flow = InsuranceOperatorFlow()\n",
    "flow.plot()"
   ],
   "id": "3110a30368bdf56a",
   "outputs": [
    {
     "name": "stdout",
     "output_type": "stream",
     "text": [
      "Plot saved as crewai_flow.html\n"
     ]
    }
   ],
   "execution_count": 24
  },
  {
   "metadata": {
    "ExecuteTime": {
     "end_time": "2025-03-05T23:01:21.171458Z",
     "start_time": "2025-03-05T23:01:21.166363Z"
    }
   },
   "cell_type": "code",
   "source": [
    "from IPython.display import IFrame\n",
    "\n",
    "IFrame(src='./crewai_flow.html', width='100%', height=800)"
   ],
   "id": "59456b4279c24e09",
   "outputs": [
    {
     "data": {
      "text/plain": [
       "<IPython.lib.display.IFrame at 0x34279f890>"
      ],
      "text/html": [
       "\n",
       "        <iframe\n",
       "            width=\"100%\"\n",
       "            height=\"800\"\n",
       "            src=\"./crewai_flow.html\"\n",
       "            frameborder=\"0\"\n",
       "            allowfullscreen\n",
       "            \n",
       "        ></iframe>\n",
       "        "
      ]
     },
     "execution_count": 25,
     "metadata": {},
     "output_type": "execute_result"
    }
   ],
   "execution_count": 25
  },
  {
   "metadata": {
    "ExecuteTime": {
     "end_time": "2025-03-05T23:01:39.009715Z",
     "start_time": "2025-03-05T23:01:23.386956Z"
    }
   },
   "cell_type": "code",
   "source": [
    "result = await flow.kickoff_async(inputs={'user_input': 'my number is (875)-209-8555'})\n",
    "result"
   ],
   "id": "4ded83f0fadebec3",
   "outputs": [
    {
     "name": "stdout",
     "output_type": "stream",
     "text": [
      "<re.Match object; span=(13, 27), match='(875)-209-8555'>\n"
     ]
    },
    {
     "name": "stderr",
     "output_type": "stream",
     "text": [
      "2025/03/05 15:01:24 WARNING mlflow.utils.autologging_utils: MLflow autologging encountered a warning: \"/Users/q.yu/workspace/agents_use_cases/.venv/lib/python3.11/site-packages/pydantic/functional_validators.py:787: UserWarning: Pydantic serializer warnings:\n",
      "  Expected `InstanceOf` but got `CrewAgentExecutor` with value `<crewai.agents.crew_agent...r object at 0x33c2b5110>` - serialized value may not be as expected\"\n"
     ]
    },
    {
     "name": "stdout",
     "output_type": "stream",
     "text": [
      "\u001B[1m\u001B[93m \n",
      "[2025-03-05 15:01:24][INFO]: Planning the crew execution\u001B[00m\n",
      "\u001B[1m\u001B[95m# Agent:\u001B[00m \u001B[1m\u001B[92mTranscript Analyzer\u001B[00m\n",
      "\u001B[95m## Task:\u001B[00m \u001B[92mGiven a customer based on his or her phone number: (875)-209-8555 analyze the call transcriptscarefully and detect the customer intent.1. Start by identifying the customer phone number: (875)-209-8555. \n",
      "2. Utilize the available tool 'fins_genai__agents__get_customer_transcripts_by_phone_number' to retrieve the call transcript for the customer with that specific phone number. \n",
      "   2.1. Provide the input in the correct format, ensuring that the phone number is used as the 'search_name' argument in the tool. \n",
      "3. Execute the tool successfully and wait for the tool to return the customer transcript associated with the phone number. \n",
      "4. Once the transcript is retrieved, conduct a detailed analysis of the conversation by carefully reading through the entire text. \n",
      "5. Focus on identifying keywords, phrases, and overall context that indicate the purpose of the customer's call. \n",
      "6. Look for signals that might indicate the customer's needs, problems, or intentions such as inquiries, requests, complaints, or general feedback. \n",
      "7. Synthesize the findings into a concise summary that encapsulates the customer intent in a few words. \n",
      "8. Document the detected customer intent clearly, ensuring it aligns with the goals of the analysis. \n",
      "9. Complete the task by finalizing the report or record of the analysis, making it ready for any further actions or follow-ups required.\u001B[00m\n"
     ]
    },
    {
     "name": "stderr",
     "output_type": "stream",
     "text": [
      "/Users/q.yu/workspace/agents_use_cases/.venv/lib/python3.11/site-packages/unitycatalog/ai/core/databricks.py:680: UserWarning: The following parameters do not have descriptions: search_name for the function fins_genai.agents.get_customer_transcripts_by_phone_number. Using Unity Catalog functions that do not have parameter descriptions limits the functionality for an LLM to understand how to call your function. To improve tool calling accuracy, provide verbose parameter descriptions that fully explain what the expected usage of the function arguments are.\n",
      "  check_function_info(function_info)\n"
     ]
    },
    {
     "name": "stdout",
     "output_type": "stream",
     "text": [
      "\n",
      "\n",
      "\u001B[1m\u001B[95m# Agent:\u001B[00m \u001B[1m\u001B[92mTranscript Analyzer\u001B[00m\n",
      "\u001B[95m## Thought:\u001B[00m \u001B[92mI need to retrieve the customer transcript for the phone number (875)-209-8555.\u001B[00m\n",
      "\u001B[95m## Using tool:\u001B[00m \u001B[92mfins_genai__agents__get_customer_transcripts_by_phone_number\u001B[00m\n",
      "\u001B[95m## Tool Input:\u001B[00m \u001B[92m\n",
      "\"{\\\"search_name\\\": \\\"(875)-209-8555\\\"}\"\u001B[00m\n",
      "\u001B[95m## Tool Output:\u001B[00m \u001B[92m\n",
      "{\"format\": \"CSV\", \"value\": \"profile\\n\\\"I need to file a claim for fire damage in my kitchen from a cooking accident.,   Sorry to hear that, but let's get one thing straight: we don't pay for foolish mistakes. If you're dripped grease on the stove and set the kitchen on fire, that's not our problem. You're gonna need to prove this was some kind of freak accident before we pay up. What's the point of even having insurance if you're just gonna be reckless in the kitchen? Alright, let's get the details. What's the make and model of your vehicle? And what's your policy number?,    I understand your concerns, but I assure you, this was not a foolish mistake. I am a responsible homeowner and I take great care in my cooking. The fire was not caused by dripped grease, but rather a malfunction in my stove's electrical system. I have already had a professional inspect the stove and they have confirmed that it was not my fault.  I would appreciate it if you could take my claim seriously and not assume that I am being reckless. I have been a customer of your company for many years and I expect better service.  Now, can you please tell me what steps I need to take to file my claim? I have all the necessary documentation, including photos of the damage and a detailed list of the items that were damaged in the fire.  And by the way, my policy number is XXXXXXX, and my vehicle's make and model is XXXXXX.  I hope we can resolve this matter in a professional and respectful manner.,   Okay, okay, I get it. You're a responsible homeowner, and this was a legitimate accident. My apologies for assuming the worst. Let's get your claim processed, shall we?  First, I'll need you to provide me with some more information. Can you tell me the date and time of the incident, and a brief description of what happened? And please, spare me the details about the stove's electrical system. I'm not an expert, and I don't want to pretend to be one.  Also, I'll need you to submit your documentation, including the photos and list of damaged items. You can upload them to our website or send them to me via email. And please, make sure you include your policy number in the email. We can't process your claim without it.  Once I have all the necessary information, I'll be happy to assist you with your claim. And again, My apologies for my initial response. I'm here to help, and I'll do my best to make this process as smooth as possible for you.,  Thank you for your apology and for taking my claim seriously. I appreciate your professionalism and willingness to help.  The date and time of the incident was last Wednesday evening, around  30 pm. I was cooking dinner when I noticed that the stove was emitting a strange, burning smell. I quickly turned off the stove and unplugged it, but it was too late. The kitchen was already filled with smoke, and the flames were starting to spread. I called the fire department immediately, and they arrived within minutes to put out the fire.  As for the documentation, I have taken photos of the damaged area and have a list of the items that were damaged in the fire. I will upload them to your website as soon as possible. My policy number is XXXXXXX.  Thank you again for your help, and I look forward to hearing back from you soon., You're welcome. I'm glad to hear that you're taking steps to document the damage and submit your claim. Just to clarify, you mentioned that the stove was emitting a strange, burning smell before the fire started. Have you noticed any other issues with the stove prior to the incident? For example, did you notice any sparks or unusual noises coming from the stove?  Additionally, have you checked to see if there were any recalls on the stove or any similar models? It's possible that there was a manufacturing issue that contributed to the malfunction. We'll definitely want to look into that as part of our investigation.  Lastly, I'll need to know the value of the items that were damaged in the fire. This will help us determine the total amount of damage and process your claim accordingly.  Please keep in mind that this is a lot of information to process, and we'll need some time to investigate and process your claim. But rest assured, we'll do everything we can to make this process as smooth and efficient as possible.\\\"\\n\\\"I need to report a theft and file a claim for stolen items., I'm sorry to hear that you've experienced a theft and need to file a claim. I'll do my best to assist you with this process. To get started, I'll need some information from you. Can you please provide me with the date and time of the incident, a list of the stolen items, and a brief description of what happened? Once I have this information, I can help you file your claim and get the process started.  For future reference, if you have any questions about your policy or need to make any changes to your coverage, please don't hesitate to reach out to me or any of our other customer support agents. We're here to help!  Vehicle: 2020 Honda Civic Policy Number: A12345678  Incident Details:  * Date of Incident: 03/15/2023 * Time of Incident:  00 PM * Location of Incident: Home Address * Description of Incident: The vehicle was parked in the driveway and was broken into. The following items were stolen: a laptop, a tablet, and a set of golf clubs.  Please let me know if there is any additional information needed to file the claim. Thank you for your assistance., Thank you for providing me with the necessary information regarding the theft and the stolen items. I'm sorry to hear about what happened and I'll do my best to assist you with the claim process.  To file a claim, I will need some additional information from you. Can you please provide me with the following details:  * Your full name * Your contact information (phone number and email address) * The police report number (if you have already filed a report with the police)  Once I have this information, I can help you file the claim and get the process started. In the meantime, please make sure to keep any receipts or documentation related to the stolen items, as this will be helpful during the claim process.  Regarding your policy, I would be happy to help you with any questions or changes you may have. We understand that life can be unpredictable, and we want to make sure that you have the coverage you need to protect yourself and your belongings.  Please let me know if you have any questions or if there is anything else I can do to help.  Sincerely, [Agent Name] Customer Support Agent [Company Name],   Policyholder Information  * Name: John Doe * Contact Information: 123-456-7890, [john.doe@example.com](mailto:john.doe@example.com) * Police Report Number: 123456    Stolen Items:  * Laptop: $1,000 * Tablet: $500 * Golf Clubs: $1,500    Additional Information:  * The theft occurred at the policyholder's home address. * The vehicle was locked and parked in the driveway. * There were no signs of forced entry.  Please let me know if there is any additional information needed to file the claim. Thank you for your assistance.  Sincerely, [Agent Name] Customer Support Agent [Company Name],   Policyholder Information  * Name: John Doe * Contact Information: 123-456-7890, [john.doe@example.com](mailto:john.doe@example.com) * Police Report Number: 123456    Stolen Items:  * Laptop: $1,000 * Tablet: $500 * Golf Clubs: $1,500    Additional Information:  * The theft occurred at the policyholder's home address. * The vehicle was locked and parked in the driveway. * There were no signs of forced entry.  Thank you for providing me with the necessary information to file the claim. I will make sure to include all of the details you have provided in the claim report.  Once the claim is filed, a claims adjuster will be assigned to your case and will contact you to discuss the next steps. They may ask for additional information or documentation related to the stolen items, so please make sure to keep any receipts or other relevant paperwork.  In the meantime, if you have any questions or concerns, please don't hesitate to reach out to me or any of our other customer support agents. We're here to help!  Sincerely, [Agent Name] Customer Support Agent [Company Name],   Policyholder Information  * Name: John Doe * Contact Information: 123-456-7890, [john.doe@example.com](mailto:john.doe@example.com) * Police Report Number: 123456    Stolen Items:  * Laptop: $1,000 * Tablet: $500 * Golf Clubs: $1,500    Additional Information:  * The theft occurred at the policyholder's home address. * The vehicle was locked and parked in the driveway. * There were no signs of forced entry.  Thank you for your prompt response. I have all the necessary information to file the claim and I will make sure to include all the details you have provided in the claim report.  Once the claim is filed, a claims adjuster will be assigned to your case and will contact you to discuss the next steps. They may ask for additional information or documentation related to the stolen items, so please make sure to keep any receipts or other relevant paperwork.  In the meantime, if you have any questions or concerns, please don't hesitate to reach out to me or any of our other customer support agents. We're here to help!  Sincerely, [Agent Name] Customer Support Agent [Company Name]\\\"\\n\", \"truncated\": false}\u001B[00m\n",
      "\u001B[91m \n",
      "\n",
      "Action 'N/A' don't exist, these are the only available Actions:\n",
      "Tool Name: fins_genai__agents__get_customer_transcripts_by_phone_number\n",
      "Tool Arguments: {'search_name': {'description': '', 'type': 'Union[str, NoneType]'}}\n",
      "Tool Description: Return a customer transcript with a given caller_id (phone number)\n",
      "\u001B[00m\n",
      "\n",
      "\n",
      "\u001B[1m\u001B[95m# Agent:\u001B[00m \u001B[1m\u001B[92mTranscript Analyzer\u001B[00m\n",
      "\u001B[95m## Thought:\u001B[00m \u001B[92mThought: I have retrieved the customer transcript associated with the phone number (875)-209-8555. Now, I need to analyze the content to detect the customer intent.\u001B[00m\n",
      "\u001B[95m## Using tool:\u001B[00m \u001B[92mN/A\u001B[00m\n",
      "\u001B[95m## Tool Input:\u001B[00m \u001B[92m\n",
      "\"N/A\"\u001B[00m\n",
      "\u001B[95m## Tool Output:\u001B[00m \u001B[92m\n",
      "I encountered an error: Action 'N/A' don't exist, these are the only available Actions:\n",
      "Tool Name: fins_genai__agents__get_customer_transcripts_by_phone_number\n",
      "Tool Arguments: {'search_name': {'description': '', 'type': 'Union[str, NoneType]'}}\n",
      "Tool Description: Return a customer transcript with a given caller_id (phone number)\n",
      "Moving on then. I MUST either use a tool (use one at time) OR give my best final answer not both at the same time. To Use the following format:\n",
      "\n",
      "Thought: you should always think about what to do\n",
      "Action: the action to take, should be one of [fins_genai__agents__get_customer_transcripts_by_phone_number]\n",
      "Action Input: the input to the action, dictionary enclosed in curly braces\n",
      "Observation: the result of the action\n",
      "... (this Thought/Action/Action Input/Result can repeat N times)\n",
      "Thought: I now can give a great answer\n",
      "Final Answer: Your final answer must be the great and the most complete as possible, it must be outcome described\n",
      "\n",
      "\u001B[00m\n",
      "\n",
      "\n",
      "\u001B[1m\u001B[95m# Agent:\u001B[00m \u001B[1m\u001B[92mTranscript Analyzer\u001B[00m\n",
      "\u001B[95m## Final Answer:\u001B[00m \u001B[92m\n",
      "The customer intent is to file claims for fire damage and theft, ensuring serious attention and professional handling of the claims.\u001B[00m\n",
      "\n",
      "\n"
     ]
    },
    {
     "data": {
      "text/plain": [
       "'Cannot identify customer intent, terminate'"
      ]
     },
     "execution_count": 26,
     "metadata": {},
     "output_type": "execute_result"
    },
    {
     "data": {
      "text/plain": [
       "Trace(request_id=5e665487d4e74216a0305d63a8f9ad98)"
      ],
      "text/html": [
       "\n",
       "<div>\n",
       "  <style scoped>\n",
       "  button {\n",
       "    border: none;\n",
       "    border-radius: 4px;\n",
       "    background-color: rgb(34, 114, 180);\n",
       "    font-family: -apple-system, \"system-ui\", \"Segoe UI\", Roboto, \"Helvetica Neue\", Arial;\n",
       "    font-size: 13px;\n",
       "    color: white;\n",
       "    margin-top: 8px;\n",
       "    margin-bottom: 8px;\n",
       "    padding: 8px 16px;\n",
       "    cursor: pointer;\n",
       "  }\n",
       "  button:hover {\n",
       "    background-color: rgb(66, 153, 224);\n",
       "  }\n",
       "  </style>\n",
       "  <button\n",
       "    onclick=\"\n",
       "        const display = this.nextElementSibling.style.display;\n",
       "        const isCollapsed = display === 'none';\n",
       "        this.nextElementSibling.style.display = isCollapsed ? null : 'none';\n",
       "\n",
       "        const verb = isCollapsed ? 'Collapse' : 'Expand';\n",
       "        this.innerText = `${verb} MLflow Trace`;\n",
       "    \"\n",
       "  >Collapse MLflow Trace</button>\n",
       "  <iframe\n",
       "    id=\"trace-renderer\"\n",
       "    style=\"width: 100%; height: 500px; border: none; resize: vertical;\"\n",
       "    src=\"http://localhost:5000/static-files/lib/notebook-trace-renderer/index.html?trace_id=5e665487d4e74216a0305d63a8f9ad98&amp;experiment_id=352237047001838908&amp;version=2.20.0\"\n",
       "  />\n",
       "</div>\n"
      ]
     },
     "metadata": {},
     "output_type": "display_data"
    }
   ],
   "execution_count": 26
  },
  {
   "metadata": {},
   "cell_type": "code",
   "outputs": [],
   "execution_count": null,
   "source": "",
   "id": "81d2c1bad48d2de0"
  }
 ],
 "metadata": {
  "kernelspec": {
   "display_name": "Python 3",
   "language": "python",
   "name": "python3"
  },
  "language_info": {
   "codemirror_mode": {
    "name": "ipython",
    "version": 2
   },
   "file_extension": ".py",
   "mimetype": "text/x-python",
   "name": "python",
   "nbconvert_exporter": "python",
   "pygments_lexer": "ipython2",
   "version": "2.7.6"
  }
 },
 "nbformat": 4,
 "nbformat_minor": 5
}
