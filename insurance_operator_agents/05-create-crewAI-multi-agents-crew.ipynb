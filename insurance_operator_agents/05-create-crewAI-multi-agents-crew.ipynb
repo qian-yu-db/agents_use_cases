{
 "cells": [
  {
   "cell_type": "code",
   "execution_count": 0,
   "metadata": {
    "application/vnd.databricks.v1+cell": {
     "cellMetadata": {
      "byteLimit": 2048000,
      "rowLimit": 10000
     },
     "inputWidgets": {},
     "nuid": "1eebba08-85fc-4647-84b9-e58a6bc4a24a",
     "showTitle": false,
     "tableResultSettingsMap": {},
     "title": ""
    }
   },
   "outputs": [],
   "source": [
    "%pip install mlflow pydantic databricks-agents -U --quiet\n",
    "%pip install unitycatalog-crewai unitycatalog-crewai[databricks] -U --quiet\n",
    "%pip install crewai==0.102 crewai_tools langchain_community --quiet\n",
    "%restart_python"
   ]
  },
  {
   "cell_type": "code",
   "execution_count": 0,
   "metadata": {
    "application/vnd.databricks.v1+cell": {
     "cellMetadata": {
      "byteLimit": 2048000,
      "rowLimit": 10000
     },
     "inputWidgets": {},
     "nuid": "03ef7269-5a58-4d20-ac19-21dfe12debd6",
     "showTitle": false,
     "tableResultSettingsMap": {},
     "title": ""
    }
   },
   "outputs": [],
   "source": [
    "%load_ext autoreload\n",
    "%autoreload 2"
   ]
  },
  {
   "cell_type": "code",
   "execution_count": 0,
   "metadata": {
    "ExecuteTime": {
     "end_time": "2025-03-10T00:58:50.205122Z",
     "start_time": "2025-03-10T00:58:47.492151Z"
    },
    "application/vnd.databricks.v1+cell": {
     "cellMetadata": {
      "byteLimit": 2048000,
      "rowLimit": 10000
     },
     "inputWidgets": {},
     "nuid": "b6ea2140-4d0d-4eaa-949c-aec4feeac0b7",
     "showTitle": false,
     "tableResultSettingsMap": {},
     "title": ""
    },
    "collapsed": true
   },
   "outputs": [],
   "source": [
    "import mlflow\n",
    "from mlflow.tracking import MlflowClient\n",
    "from bs4.diagnose import profile\n",
    "from dotenv import load_dotenv\n",
    "from databricks.connect import DatabricksSession\n",
    "import os\n",
    "\n",
    "os.environ[\"DATABRICKS_API_KEY\"] = dbutils.secrets.get(\"databricks_token_qyu\", \"qyu_rag_sp_token\")\n",
    "os.environ[\"DATABRICKS_API_BASE\"] = (\n",
    "    f\"{dbutils.notebook.entry_point.getDbutils().notebook().getContext().apiUrl().get()}/serving-endpoints\"\n",
    ")\n",
    "\n",
    "mlflow.set_tracking_uri(\"databricks\")\n",
    "mlflow.set_registry_uri(\"databricks-uc\")\n",
    "\n",
    "\n",
    "experiment = \"/Workspace/Users/q.yu@databricks.com/ML_experiments/insurance_operation_crewai_agent\"\n",
    "mlflow.set_experiment(experiment)\n",
    "\n",
    "mlflow.crewai.autolog()"
   ]
  },
  {
   "cell_type": "code",
   "execution_count": 0,
   "metadata": {
    "ExecuteTime": {
     "end_time": "2025-03-10T00:58:53.236100Z",
     "start_time": "2025-03-10T00:58:51.764794Z"
    },
    "application/vnd.databricks.v1+cell": {
     "cellMetadata": {
      "byteLimit": 2048000,
      "rowLimit": 10000
     },
     "inputWidgets": {},
     "nuid": "75048bdf-062f-4cbe-ad05-72555ef3bb6f",
     "showTitle": false,
     "tableResultSettingsMap": {},
     "title": ""
    }
   },
   "outputs": [],
   "source": [
    "from unitycatalog.ai.core.base import set_uc_function_client\n",
    "from unitycatalog.ai.core.databricks import DatabricksFunctionClient\n",
    "\n",
    "client = DatabricksFunctionClient()\n",
    "set_uc_function_client(client)\n",
    "CATALOG = \"fins_genai\"\n",
    "SCHEMA = 'insurance_agent'\n",
    "\n",
    "spark.sql(f\"USE CATALOG {CATALOG}\")\n",
    "spark.sql(f\"USE SCHEMA {SCHEMA}\")"
   ]
  },
  {
   "cell_type": "code",
   "execution_count": 0,
   "metadata": {
    "application/vnd.databricks.v1+cell": {
     "cellMetadata": {
      "byteLimit": 2048000,
      "implicitDf": true,
      "rowLimit": 10000
     },
     "inputWidgets": {},
     "nuid": "637075aa-81b7-40e9-ad97-8509a22c251f",
     "showTitle": false,
     "tableResultSettingsMap": {},
     "title": ""
    }
   },
   "outputs": [],
   "source": [
    "%sql\n",
    "select *\n",
    "from fins_genai.insurance_agent.search_claims_details_by_policy_no(\"102070455\")"
   ]
  },
  {
   "cell_type": "code",
   "execution_count": 0,
   "metadata": {
    "application/vnd.databricks.v1+cell": {
     "cellMetadata": {
      "byteLimit": 2048000,
      "implicitDf": true,
      "rowLimit": 10000
     },
     "inputWidgets": {},
     "nuid": "ec9270fa-edd3-4da2-a934-c57b742ad224",
     "showTitle": false,
     "tableResultSettingsMap": {},
     "title": ""
    }
   },
   "outputs": [],
   "source": [
    "%sql\n",
    "select *\n",
    "from fins_genai.insurance_agent.policy_doc_vector_search(\"car accident\")"
   ]
  },
  {
   "cell_type": "markdown",
   "metadata": {
    "application/vnd.databricks.v1+cell": {
     "cellMetadata": {},
     "inputWidgets": {},
     "nuid": "865ced5a-f6af-453e-9c46-46e0bb963949",
     "showTitle": false,
     "tableResultSettingsMap": {},
     "title": ""
    }
   },
   "source": [
    "# Create a Crew\n",
    "\n",
    "## Set tools"
   ]
  },
  {
   "cell_type": "code",
   "execution_count": 0,
   "metadata": {
    "ExecuteTime": {
     "end_time": "2025-03-10T01:01:48.927038Z",
     "start_time": "2025-03-10T01:01:48.243851Z"
    },
    "application/vnd.databricks.v1+cell": {
     "cellMetadata": {
      "byteLimit": 2048000,
      "rowLimit": 10000
     },
     "inputWidgets": {},
     "nuid": "0a6fb00c-13fd-4226-9866-5501300a7816",
     "showTitle": false,
     "tableResultSettingsMap": {},
     "title": ""
    }
   },
   "outputs": [],
   "source": [
    "from unitycatalog.ai.crewai.toolkit import UCFunctionToolkit\n",
    "\n",
    "uc_tools = [f\"{CATALOG}.{SCHEMA}.{func.name}\" for func in client.list_functions(catalog=CATALOG,\n",
    "                                                                                schema=SCHEMA)\n",
    "            if func.name in ['policy_doc_vector_search', \n",
    "                             'search_claims_details_by_policy_no']]\n",
    "print(uc_tools)\n",
    "toolkit = UCFunctionToolkit(function_names=uc_tools)\n",
    "tools = toolkit.tools\n",
    "search_policy_doc_tool, search_claim_details_tool = tools"
   ]
  },
  {
   "cell_type": "code",
   "execution_count": 0,
   "metadata": {
    "application/vnd.databricks.v1+cell": {
     "cellMetadata": {
      "byteLimit": 2048000,
      "rowLimit": 10000
     },
     "inputWidgets": {},
     "nuid": "9333bab9-38cc-444b-8db0-9a24c8802a71",
     "showTitle": false,
     "tableResultSettingsMap": {},
     "title": ""
    }
   },
   "outputs": [],
   "source": [
    "from crewai import Agent, Task, Crew, Process\n",
    "from crewai import LLM\n",
    "from crewai.tools import BaseTool\n",
    "\n",
    "llm = LLM(model=\"databricks/databricks-meta-llama-3-3-70b-instruct\")\n",
    "#llm = LLM(model=\"databricks/databricks-llama-4-maverick\")\n",
    "# llm = LLM(model=\"databricks/databricks-claude-3-7-sonnet\")\n",
    "llm = LLM(model=\"databricks/doan-gpt-4o\")\n"
   ]
  },
  {
   "cell_type": "markdown",
   "metadata": {
    "application/vnd.databricks.v1+cell": {
     "cellMetadata": {},
     "inputWidgets": {},
     "nuid": "27e96093-1ad5-4b2f-9784-98da12c5964f",
     "showTitle": false,
     "tableResultSettingsMap": {},
     "title": ""
    }
   },
   "source": [
    "## Create Agents"
   ]
  },
  {
   "cell_type": "code",
   "execution_count": 0,
   "metadata": {
    "application/vnd.databricks.v1+cell": {
     "cellMetadata": {
      "byteLimit": 2048000,
      "rowLimit": 10000
     },
     "inputWidgets": {},
     "nuid": "c97daff4-90a9-4c75-98e4-358ccfe4a0a0",
     "showTitle": false,
     "tableResultSettingsMap": {},
     "title": ""
    }
   },
   "outputs": [],
   "source": [
    "triage_agent = Agent(\n",
    "    role=\"triage agent\",\n",
    "    goal=\"analysis customer query and delegate to appropriate specialist, if you cannot \"\n",
    "            \"identify the goal of query, ask user for clarification\",\n",
    "    backstory=\"The triage agent is responsible for analyzing the customer query and \"\n",
    "                \"delegate the task to the appropriate agent. If the goal query cannot be \"\n",
    "                \"identified, ask the user for clarification\",\n",
    "    verbose=False,\n",
    "    allow_delegation=True,\n",
    "    llm=llm\n",
    ")\n",
    "\n",
    "claim_agent = Agent(\n",
    "    role=\"claim agent\",\n",
    "    goal=\"Provide accurate and helpful information about customer policy and claims\",\n",
    "    backstory=\"\"\" You are an insurance claims specialist. \n",
    "        If you are speaking to a customer, you probably were transferred to you from the triage agent.\n",
    "        If the customer does not have a policy number, explain that you need it to access their claim information.\n",
    "        Your job is to:\n",
    "        1. answer customer inquiries related to claims\n",
    "        2. Look up customer profiles or retrieve claim information\n",
    "        3. Provide information on existing claims\n",
    "        \"\"\",\n",
    "    verbose=False,\n",
    "    allow_delegation=False,\n",
    "    tools=[search_claim_details_tool],\n",
    "    llm=llm\n",
    ")\n",
    "\n",
    "policy_agent = Agent(\n",
    "    role=\"policy agent\",\n",
    "    goal=\"handle policy related queries\",\n",
    "    backstory=\"\"\"You are a general policy FAQ agent.\n",
    "              If you are speaking to a customer, you probably were transferred to you from the triage agent.\n",
    "              Your job is to:\n",
    "             1. Identify the last question asked by the customer. \n",
    "             2. Use the search tools to answer the question. Do not rely on your own knowledge.\"\"\",\n",
    "    verbose=False,\n",
    "    allow_delegation=False,\n",
    "    tools=[search_policy_doc_tool],\n",
    "    llm=llm\n",
    ")"
   ]
  },
  {
   "cell_type": "markdown",
   "metadata": {
    "application/vnd.databricks.v1+cell": {
     "cellMetadata": {},
     "inputWidgets": {},
     "nuid": "07e0fe8f-b3ba-4710-932e-d1ad76257186",
     "showTitle": false,
     "tableResultSettingsMap": {},
     "title": ""
    }
   },
   "source": [
    "## Create Tasks"
   ]
  },
  {
   "cell_type": "code",
   "execution_count": 0,
   "metadata": {
    "application/vnd.databricks.v1+cell": {
     "cellMetadata": {
      "byteLimit": 2048000,
      "rowLimit": 10000
     },
     "inputWidgets": {},
     "nuid": "cb3e5182-187b-46c4-b9a9-ad7f799405f7",
     "showTitle": false,
     "tableResultSettingsMap": {},
     "title": ""
    }
   },
   "outputs": [],
   "source": [
    "triage_task = Task(\n",
    "    description=\"Analyze the customer query: {query} route to appropriate \"\n",
    "                \"specialist\",\n",
    "    expected_output=\"return the word claim, policy, or unknown\",\n",
    "    agent=triage_agent,\n",
    ")\n",
    "\n",
    "claim_task = Task(\n",
    "    description=(\n",
    "        \"\"\"Process this claim-related customer request based on: \n",
    "        query: {query}\n",
    "\n",
    "        If you have a policy number,\n",
    "        - use the search_claims_details_by_policy_no tool to retrieve existing claim information.\n",
    "        \n",
    "        Provide a helpful, detailed response about their claim.If you don't have their\n",
    "        policy_number, explain that you need it to access their claim information.\"\"\"\n",
    "    ),\n",
    "    expected_output=\"A helpful response to the customer's claim query\",\n",
    "    agent=claim_agent,\n",
    ")\n",
    "\n",
    "policy_task = Task(\n",
    "    description=\"Answer the general policy related query: {query}\",\n",
    "    expected_output=\"answer the general policy queries use the policy_docs_vector_search tool retrieve the policy document info\",\n",
    "    agent=policy_agent\n",
    ")"
   ]
  },
  {
   "cell_type": "markdown",
   "metadata": {
    "application/vnd.databricks.v1+cell": {
     "cellMetadata": {},
     "inputWidgets": {},
     "nuid": "4369c517-a591-4bea-83d9-2c1351ae2fd0",
     "showTitle": false,
     "tableResultSettingsMap": {},
     "title": ""
    }
   },
   "source": [
    "## Create a crew"
   ]
  },
  {
   "cell_type": "code",
   "execution_count": 0,
   "metadata": {
    "application/vnd.databricks.v1+cell": {
     "cellMetadata": {
      "byteLimit": 2048000,
      "rowLimit": 10000
     },
     "inputWidgets": {},
     "nuid": "47b9265e-e2eb-4605-9ac4-2ff2db9dd903",
     "showTitle": false,
     "tableResultSettingsMap": {},
     "title": ""
    }
   },
   "outputs": [],
   "source": [
    "crew = Crew(\n",
    "  agents=[triage_agent, claim_agent, policy_agent],\n",
    "  tasks=[triage_task, claim_task, policy_task],\n",
    "  process=Process.hierarchical,\n",
    "  manager_llm=llm,\n",
    "  verbose=False\n",
    ")"
   ]
  },
  {
   "cell_type": "markdown",
   "metadata": {
    "application/vnd.databricks.v1+cell": {
     "cellMetadata": {},
     "inputWidgets": {},
     "nuid": "a5ecf652-ff59-4578-973a-5d79c825bb14",
     "showTitle": false,
     "tableResultSettingsMap": {},
     "title": ""
    }
   },
   "source": [
    "# Running a insurance operation crew"
   ]
  },
  {
   "cell_type": "code",
   "execution_count": 0,
   "metadata": {
    "application/vnd.databricks.v1+cell": {
     "cellMetadata": {
      "byteLimit": 2048000,
      "rowLimit": 10000
     },
     "inputWidgets": {},
     "nuid": "44afe532-9979-4b13-9784-37628e4bdae5",
     "showTitle": false,
     "tableResultSettingsMap": {},
     "title": ""
    }
   },
   "outputs": [],
   "source": [
    "with mlflow.start_span(name=\"insurance_agent\", span_type=\"AGENT\") as span:\n",
    "    print(\"[AGENT] Hello! How may I assist you?\")\n",
    "    while True:\n",
    "        user_input = input(\"[USER]: \")\n",
    "        if user_input.lower() == \"exit\":  # Break loop if user types 'exit'\n",
    "            print(\"[AGENT]: Bye!\")\n",
    "            break\n",
    "        if not user_input:\n",
    "            continue\n",
    "        try:\n",
    "            result = crew.kickoff({\"query\": user_input})\n",
    "            print(\"\\n[AGENT]:\", result.raw)\n",
    "        except Exception as e:\n",
    "            print(f\"\\nError occurred: {str(e)}\")"
   ]
  },
  {
   "cell_type": "markdown",
   "metadata": {
    "application/vnd.databricks.v1+cell": {
     "cellMetadata": {},
     "inputWidgets": {},
     "nuid": "7ee87056-4302-4bc4-ae13-ca440a3b7fe7",
     "showTitle": false,
     "tableResultSettingsMap": {},
     "title": ""
    }
   },
   "source": [
    "# logging the crewAI workflow as ChatAgent"
   ]
  },
  {
   "cell_type": "code",
   "execution_count": 0,
   "metadata": {
    "application/vnd.databricks.v1+cell": {
     "cellMetadata": {},
     "inputWidgets": {},
     "nuid": "8f2ac1ef-1a1d-4d1b-ab80-6e3eddb93d30",
     "showTitle": false,
     "tableResultSettingsMap": {},
     "title": ""
    }
   },
   "outputs": [],
   "source": []
  }
 ],
 "metadata": {
  "application/vnd.databricks.v1+notebook": {
   "computePreferences": null,
   "dashboards": [],
   "environmentMetadata": null,
   "inputWidgetPreferences": null,
   "language": "python",
   "notebookMetadata": {
    "mostRecentlyExecutedCommandWithImplicitDF": {
     "commandId": 3675736245626473,
     "dataframes": [
      "_sqldf"
     ]
    },
    "pythonIndentUnit": 4
   },
   "notebookName": "05-create-crewAI-multi-agents-crew",
   "widgets": {}
  },
  "kernelspec": {
   "display_name": "Python 3",
   "language": "python",
   "name": "python3"
  },
  "language_info": {
   "name": "python"
  }
 },
 "nbformat": 4,
 "nbformat_minor": 0
}
