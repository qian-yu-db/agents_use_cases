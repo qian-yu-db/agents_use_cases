{
 "cells": [
  {
   "cell_type": "markdown",
   "metadata": {
    "application/vnd.databricks.v1+cell": {
     "cellMetadata": {},
     "inputWidgets": {},
     "nuid": "35e74158-4e5d-4d75-b3f4-3fd77c902735",
     "showTitle": false,
     "tableResultSettingsMap": {},
     "title": ""
    }
   },
   "source": [
    "# Create UC Functions"
   ]
  },
  {
   "cell_type": "code",
   "execution_count": 0,
   "metadata": {
    "ExecuteTime": {
     "end_time": "2025-03-09T07:09:26.955695Z",
     "start_time": "2025-03-09T07:09:25.408431Z"
    },
    "application/vnd.databricks.v1+cell": {
     "cellMetadata": {},
     "inputWidgets": {},
     "nuid": "1ca03216-86ce-4657-a271-e2b1cd77958f",
     "showTitle": false,
     "tableResultSettingsMap": {},
     "title": ""
    }
   },
   "outputs": [],
   "source": [
    "from databricks.connect import DatabricksSession\n",
    "import mlflow\n",
    "from dotenv import load_dotenv\n",
    "\n",
    "spark = DatabricksSession.builder.getOrCreate()\n",
    "load_dotenv('../.env')\n",
    "\n",
    "DATABRICKS_HOST = os.getenv('host')\n",
    "DATABRICKS_TOKEN = os.getenv('token')\n",
    "OPENAI_API_KEY = os.getenv('OPENAI_API_KEY')\n",
    "print(f\"host: {DATABRICKS_HOST}\")"
   ]
  },
  {
   "cell_type": "code",
   "execution_count": 0,
   "metadata": {
    "ExecuteTime": {
     "end_time": "2025-03-09T07:09:27.037029Z",
     "start_time": "2025-03-09T07:09:27.022634Z"
    },
    "application/vnd.databricks.v1+cell": {
     "cellMetadata": {},
     "inputWidgets": {},
     "nuid": "f08640b6-d6b0-4bf0-bc15-16ba873f3aa8",
     "showTitle": false,
     "tableResultSettingsMap": {},
     "title": ""
    }
   },
   "outputs": [],
   "source": [
    "from unitycatalog.ai.core.base import set_uc_function_client\n",
    "from unitycatalog.ai.core.databricks import DatabricksFunctionClient\n",
    "\n",
    "client = DatabricksFunctionClient()\n",
    "set_uc_function_client(client)\n",
    "\n",
    "CATALOG = 'fins_genai'\n",
    "SCHEMA = 'agents'"
   ]
  },
  {
   "cell_type": "code",
   "execution_count": 0,
   "metadata": {
    "ExecuteTime": {
     "end_time": "2025-03-09T07:20:45.562497Z",
     "start_time": "2025-03-09T07:20:45.557643Z"
    },
    "application/vnd.databricks.v1+cell": {
     "cellMetadata": {},
     "inputWidgets": {},
     "nuid": "f0fb4f6e-1c81-452f-9568-a6a9cab8827e",
     "showTitle": false,
     "tableResultSettingsMap": {},
     "title": ""
    }
   },
   "outputs": [],
   "source": [
    "# Create a new table with a markdown table that contains all the policy details\n",
    "from pyspark.sql.functions import to_json, col, struct, concat_ws, lit\n",
    "\n",
    "def create_md_col(df):\n",
    "    # Select all columns and create a new column with Markdown table format\n",
    "    header = \"| \" + \" | \".join([c.replace(\"_\", \" \") for c in df.columns]) + \" |\"\n",
    "    separator = \"| \" + \" | \".join([\"---\"] * len(df.columns)) + \" |\"\n",
    "\n",
    "    df_with_md = df.withColumn(\"policy_details\", concat_ws(\" | \", *[col(c).cast(\"string\") for c in df.columns]))\n",
    "    df_with_md = df_with_md.withColumn(\"policy_details\", concat_ws(\"\\n\", lit(header), lit(separator),\n",
    "                                                                   col(\"policy_details\")))\n",
    "\n",
    "    # Show the updated DataFrame\n",
    "    df_with_md.write.mode(\"overwrite\").option(\"overwriteSchema\", \"true\").saveAsTable(\"fins_genai.agents.insurance_customer_profiles\")"
   ]
  },
  {
   "cell_type": "markdown",
   "metadata": {
    "application/vnd.databricks.v1+cell": {
     "cellMetadata": {},
     "inputWidgets": {},
     "nuid": "04a2a185-1424-4188-a6ec-dd126a3d6af4",
     "showTitle": false,
     "tableResultSettingsMap": {},
     "title": ""
    }
   },
   "source": [
    "# Create UC Tools"
   ]
  },
  {
   "cell_type": "markdown",
   "metadata": {
    "application/vnd.databricks.v1+cell": {
     "cellMetadata": {},
     "inputWidgets": {},
     "nuid": "646fb6b5-babe-4aac-bfca-0bf62e6cc05a",
     "showTitle": false,
     "tableResultSettingsMap": {},
     "title": ""
    }
   },
   "source": [
    "## `search_policy_details_by_name()`"
   ]
  },
  {
   "cell_type": "code",
   "execution_count": 0,
   "metadata": {
    "ExecuteTime": {
     "end_time": "2025-03-09T07:19:51.961827Z",
     "start_time": "2025-03-09T07:19:49.740159Z"
    },
    "application/vnd.databricks.v1+cell": {
     "cellMetadata": {},
     "inputWidgets": {},
     "nuid": "c6dc76bb-dadb-458f-8204-b35cfb55e7f8",
     "showTitle": false,
     "tableResultSettingsMap": {},
     "title": ""
    }
   },
   "outputs": [],
   "source": [
    "sql_function = \\\n",
    "f\"\"\"\n",
    "CREATE OR REPLACE FUNCTION {CATALOG}.{SCHEMA}.search_policy_details_by_name(\n",
    "  search_name STRING\n",
    ")\n",
    "RETURNS TABLE (\n",
    "  policy_details STRING\n",
    ")\n",
    "COMMENT 'Return a customer policy details with a given customer name'\n",
    "LANGUAGE SQL\n",
    "  RETURN\n",
    "  SELECT\n",
    "    policy_details\n",
    "  FROM {CATALOG}.{SCHEMA}.insurance_customer_profiles\n",
    "  where (CONCAT(first_name, ' ', last_name) = search_name)\n",
    "  or (CONCAT(last_name, ' ', first_name) = search_name)\n",
    ";\n",
    "\"\"\"\n",
    "sql_func_info = client.create_function(sql_function_body=sql_function)\n",
    "spark.sql(\"select * from fins_genai.agents.search_policy_details_by_name('Gloria Cook')\").show(truncate=False)"
   ]
  },
  {
   "cell_type": "markdown",
   "metadata": {
    "application/vnd.databricks.v1+cell": {
     "cellMetadata": {},
     "inputWidgets": {},
     "nuid": "9b24913c-c78d-4c30-b1ca-97513d5334bd",
     "showTitle": false,
     "tableResultSettingsMap": {},
     "title": ""
    }
   },
   "source": [
    "## `search_policy_details_by_policy_number()`"
   ]
  },
  {
   "cell_type": "code",
   "execution_count": 0,
   "metadata": {
    "ExecuteTime": {
     "end_time": "2025-03-09T07:19:41.306778Z",
     "start_time": "2025-03-09T07:19:37.204174Z"
    },
    "application/vnd.databricks.v1+cell": {
     "cellMetadata": {},
     "inputWidgets": {},
     "nuid": "c5bcae4a-34b5-430e-8772-a7cb74e7ee5e",
     "showTitle": false,
     "tableResultSettingsMap": {},
     "title": ""
    }
   },
   "outputs": [],
   "source": [
    "sql_function = \\\n",
    "f\"\"\"\n",
    "CREATE OR REPLACE FUNCTION {CATALOG}.{SCHEMA}.search_policy_details_by_policy_number(\n",
    "  search_name STRING\n",
    ")\n",
    "RETURNS TABLE (\n",
    "  policy_details STRING\n",
    ")\n",
    "COMMENT 'Return a customer policy details with a given customer name'\n",
    "LANGUAGE SQL\n",
    "  RETURN\n",
    "  SELECT\n",
    "    policy_details\n",
    "  FROM {CATALOG}.{SCHEMA}.insurance_customer_profiles\n",
    "  where policy_number = search_name\n",
    ";\n",
    "\"\"\"\n",
    "sql_func_info = client.create_function(sql_function_body=sql_function)\n",
    "spark.sql(\"select * from fins_genai.agents.search_policy_details_by_policy_number('102147984')\") .show()"
   ]
  },
  {
   "cell_type": "markdown",
   "metadata": {
    "application/vnd.databricks.v1+cell": {
     "cellMetadata": {},
     "inputWidgets": {},
     "nuid": "8a5ae1be-a5d2-4d62-9570-532e592780e6",
     "showTitle": false,
     "tableResultSettingsMap": {},
     "title": ""
    }
   },
   "source": [
    "## `search_claims_details_by_policy_number()`"
   ]
  },
  {
   "cell_type": "code",
   "execution_count": 0,
   "metadata": {
    "ExecuteTime": {
     "end_time": "2025-03-09T07:23:00.492273Z",
     "start_time": "2025-03-09T07:22:57.388007Z"
    },
    "application/vnd.databricks.v1+cell": {
     "cellMetadata": {},
     "inputWidgets": {},
     "nuid": "eb9e7111-d9ea-4fef-9cab-1141615eb9de",
     "showTitle": false,
     "tableResultSettingsMap": {},
     "title": ""
    }
   },
   "outputs": [],
   "source": [
    "sql_function = \\\n",
    "f\"\"\"\n",
    "CREATE OR REPLACE FUNCTION {CATALOG}.{SCHEMA}.search_claims_details_by_policy_number(\n",
    "  search_name STRING\n",
    ")\n",
    "RETURNS TABLE (\n",
    "    clain_report STRING\n",
    ")\n",
    "COMMENT 'Return a claim details of a customer given policy number'\n",
    "LANGUAGE SQL\n",
    "  RETURN\n",
    "  SELECT claim_report\n",
    "  FROM {CATALOG}.{SCHEMA}.claims_details\n",
    "WHERE policy_number = search_name\n",
    ";\n",
    "\"\"\"\n",
    "sql_func_info = client.create_function(sql_function_body=sql_function)\n",
    "spark.sql(\"select * from fins_genai.agents.search_claims_details_by_policy_number('102148040')\").show()"
   ]
  },
  {
   "cell_type": "markdown",
   "metadata": {
    "application/vnd.databricks.v1+cell": {
     "cellMetadata": {},
     "inputWidgets": {},
     "nuid": "3f67b3b5-f205-4df0-aa86-de78be8c5e63",
     "showTitle": false,
     "tableResultSettingsMap": {},
     "title": ""
    }
   },
   "source": [
    "## `search_policy_doc()`"
   ]
  },
  {
   "cell_type": "code",
   "execution_count": 0,
   "metadata": {
    "ExecuteTime": {
     "end_time": "2025-03-09T06:42:13.224778Z",
     "start_time": "2025-03-09T06:42:08.653607Z"
    },
    "application/vnd.databricks.v1+cell": {
     "cellMetadata": {},
     "inputWidgets": {},
     "nuid": "4b28936a-5200-4545-b02d-619a8d0a748f",
     "showTitle": false,
     "tableResultSettingsMap": {},
     "title": ""
    }
   },
   "outputs": [],
   "source": [
    "sql_function = \\\n",
    "f\"\"\"\n",
    "CREATE OR REPLACE FUNCTION {CATALOG}.{SCHEMA}.search_policy_doc(\n",
    "    query STRING\n",
    ")\n",
    "RETURNS TABLE (\n",
    "    policy STRING\n",
    ")\n",
    "COMMENT 'Perform search on insurance policy document to retrieve most relevant text for a given input query'\n",
    "LANGUAGE SQL\n",
    "  RETURN\n",
    "  SELECT\n",
    "   chunked_text as policy\n",
    "  FROM vector_search(\n",
    "    index => 'fins_genai.agents.policy_docs_chunked_files_vs_index',\n",
    "    query_text => query,\n",
    "    num_results => 3\n",
    "  )\n",
    ";\n",
    "\"\"\"\n",
    "sql_func_info = client.create_function(sql_function_body=sql_function)\n",
    "spark.sql(\"select * from fins_genai.agents.search_policy_doc('accident claim')\").show()"
   ]
  }
 ],
 "metadata": {
  "application/vnd.databricks.v1+notebook": {
   "computePreferences": null,
   "dashboards": [],
   "environmentMetadata": null,
   "inputWidgetPreferences": null,
   "language": "python",
   "notebookMetadata": {
    "pythonIndentUnit": 4
   },
   "notebookName": "03-create-UC-tools",
   "widgets": {}
  },
  "kernelspec": {
   "display_name": "Python 3",
   "language": "python",
   "name": "python3"
  },
  "language_info": {
   "name": "python"
  }
 },
 "nbformat": 4,
 "nbformat_minor": 0
}
