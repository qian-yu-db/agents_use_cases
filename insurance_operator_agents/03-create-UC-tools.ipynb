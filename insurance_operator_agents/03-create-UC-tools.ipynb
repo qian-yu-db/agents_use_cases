{
 "cells": [
  {
   "cell_type": "markdown",
   "metadata": {
    "application/vnd.databricks.v1+cell": {
     "cellMetadata": {},
     "inputWidgets": {},
     "nuid": "35e74158-4e5d-4d75-b3f4-3fd77c902735",
     "showTitle": false,
     "tableResultSettingsMap": {},
     "title": ""
    }
   },
   "source": [
    "# Create UC Functions"
   ]
  },
  {
   "metadata": {},
   "cell_type": "code",
   "outputs": [],
   "execution_count": null,
   "source": [
    "from insurance_operator_agents.crewai.crews import catalog, schema\n",
    "%pip install -r ../requirements.txt --quiet\n",
    "%restart_python"
   ]
  },
  {
   "metadata": {
    "ExecuteTime": {
     "end_time": "2025-05-11T23:11:25.040617Z",
     "start_time": "2025-05-11T23:11:25.017894Z"
    }
   },
   "cell_type": "code",
   "source": [
    "%load_ext autoreload\n",
    "%autoreload 2"
   ],
   "outputs": [
    {
     "name": "stdout",
     "output_type": "stream",
     "text": [
      "The autoreload extension is already loaded. To reload it, use:\n",
      "  %reload_ext autoreload\n"
     ]
    }
   ],
   "execution_count": 27
  },
  {
   "metadata": {
    "ExecuteTime": {
     "end_time": "2025-05-11T23:11:49.613805Z",
     "start_time": "2025-05-11T23:11:49.588332Z"
    }
   },
   "cell_type": "code",
   "source": [
    "from shared.helper import *\n",
    "\n",
    "in_workspace = is_running_in_databricks()\n",
    "global_config = get_global_config(path='../global_config/.yaml')\n",
    "\n",
    "if not in_workspace:\n",
    "    from databricks.connect import DatabricksSession\n",
    "    from dotenv import load_dotenv\n",
    "    import os\n",
    "\n",
    "    spark = DatabricksSession.builder.getOrCreate()\n",
    "    load_dotenv('../.env')\n",
    "\n",
    "    DATABRICKS_HOST = os.getenv('host')\n",
    "    DATABRICKS_TOKEN = os.getenv('token')\n",
    "else:\n",
    "    DATABRICKS_HOST = dbutils.notebook.entry_point.getDbutils().notebook().getContext().apiUrl().get()\n",
    "\n",
    "print(f\"host: {DATABRICKS_HOST}\")"
   ],
   "outputs": [
    {
     "name": "stderr",
     "output_type": "stream",
     "text": [
      "INFO:helper:{'catalog': 'fins_genai', 'schema_agents': 'agents', 'schema_insurance_agents': 'insurance_agent', 'llm_endpoint_llama3p3_70B': 'databricks/databricks-meta-llama-3-3-70b-instruct', 'llm_endpoint_llama4_maverick': 'databricks/databricks-llama-4-maverick', 'llm_endpoint_sonnet_3p7': 'databricks/databricks-claude-3-7-sonnet'}\n",
      "INFO:databricks.sdk:loading DEFAULT profile from ~/.databrickscfg: host, serverless_compute_id, connection_timeout_seconds, token\n"
     ]
    },
    {
     "name": "stdout",
     "output_type": "stream",
     "text": [
      "host: adb-984752964297111.11.azuredatabricks.net\n"
     ]
    }
   ],
   "execution_count": 29
  },
  {
   "cell_type": "code",
   "metadata": {
    "application/vnd.databricks.v1+cell": {
     "cellMetadata": {},
     "inputWidgets": {},
     "nuid": "f08640b6-d6b0-4bf0-bc15-16ba873f3aa8",
     "showTitle": false,
     "tableResultSettingsMap": {},
     "title": ""
    },
    "ExecuteTime": {
     "end_time": "2025-05-11T22:36:56.828567Z",
     "start_time": "2025-05-11T22:36:56.810784Z"
    }
   },
   "source": [
    "from unitycatalog.ai.core.base import set_uc_function_client\n",
    "from unitycatalog.ai.core.databricks import DatabricksFunctionClient\n",
    "\n",
    "client = DatabricksFunctionClient()\n",
    "set_uc_function_client(client)\n",
    "\n",
    "CATALOG = global_config['catalog']\n",
    "SCHEMA = global_config['schema_insurance_agents']\n",
    "print(f\"Catalog: {CATALOG} | Schema: {SCHEMA}\")"
   ],
   "outputs": [
    {
     "name": "stderr",
     "output_type": "stream",
     "text": [
      "INFO:databricks.sdk:loading DEFAULT profile from ~/.databrickscfg: host, serverless_compute_id, connection_timeout_seconds, token\n"
     ]
    },
    {
     "name": "stdout",
     "output_type": "stream",
     "text": [
      "Catalog: fins_genai | Schema: insurance_agent\n"
     ]
    }
   ],
   "execution_count": 19
  },
  {
   "cell_type": "markdown",
   "metadata": {
    "application/vnd.databricks.v1+cell": {
     "cellMetadata": {},
     "inputWidgets": {},
     "nuid": "04a2a185-1424-4188-a6ec-dd126a3d6af4",
     "showTitle": false,
     "tableResultSettingsMap": {},
     "title": ""
    }
   },
   "source": [
    "# Create UC Tools"
   ]
  },
  {
   "cell_type": "markdown",
   "metadata": {
    "application/vnd.databricks.v1+cell": {
     "cellMetadata": {},
     "inputWidgets": {},
     "nuid": "646fb6b5-babe-4aac-bfca-0bf62e6cc05a",
     "showTitle": false,
     "tableResultSettingsMap": {},
     "title": ""
    }
   },
   "source": "## `search_claims_details_by_policy_no()`"
  },
  {
   "cell_type": "code",
   "metadata": {
    "application/vnd.databricks.v1+cell": {
     "cellMetadata": {},
     "inputWidgets": {},
     "nuid": "c6dc76bb-dadb-458f-8204-b35cfb55e7f8",
     "showTitle": false,
     "tableResultSettingsMap": {},
     "title": ""
    },
    "ExecuteTime": {
     "end_time": "2025-05-11T22:37:12.286759Z",
     "start_time": "2025-05-11T22:37:08.950708Z"
    }
   },
   "source": [
    "sql_function = \\\n",
    "f\"\"\"\n",
    "create or replace function {CATALOG}.{SCHEMA}.search_claims_details_by_policy_no(\n",
    "  input_policy_no STRING comment 'policy Number'\n",
    ")\n",
    "RETURNS table\n",
    "COMMENT 'Returns claims details about a customer given policy number'\n",
    "RETURN\n",
    "SELECT *\n",
    "FROM {CATALOG}.{SCHEMA}.claims_table\n",
    "WHERE policy_no = input_policy_no\n",
    ";\n",
    "\"\"\"\n",
    "sql_func_info = client.create_function(sql_function_body=sql_function)\n",
    "(spark.sql(f\"select * from {CATALOG}.{SCHEMA}.search_claims_details_by_policy_no('102070455')\")\n",
    " .show\n",
    " (truncate=False))"
   ],
   "outputs": [
    {
     "name": "stderr",
     "output_type": "stream",
     "text": [
      "INFO:unitycatalog.ai.core.utils.retry_utils:Successfully re-acquired connection to a serverless instance.\n"
     ]
    },
    {
     "name": "stdout",
     "output_type": "stream",
     "text": [
      "+----------+------------------------------------+-------------------+---------+-------------------+---------------------+------------------+--------------------+-------------------------------------+---------------+----------+---------------------------+-------------------------+-------------+-------------+-----------------+------------------------+\n",
      "|claim_date|claim_no                            |number_of_witnesses|policy_no|claim_amount_injury|claim_amount_property|claim_amount_total|claim_amount_vehicle|collision_number_of_vehicles_involved|collision_type |driver_age|driver_insured_relationship|driver_license_issue_date|incident_date|incident_hour|incident_severity|incident_type           |\n",
      "+----------+------------------------------------+-------------------+---------+-------------------+---------------------+------------------+--------------------+-------------------------------------+---------------+----------+---------------------------+-------------------------+-------------+-------------+-----------------+------------------------+\n",
      "|2017-01-09|f82bf191-fb74-483c-81c6-8ae9c5cdd778|3                  |102070455|15500              |7750                 |85250             |62000               |1                                    |Side Collision |28.0      |husband                    |2015-08-02               |2017-01-06   |4            |Minor Damage     |Single Vehicle Collision|\n",
      "|2017-01-09|1c1187c0-d6fb-44ca-9b89-19d6b37ed015|2                  |102070455|7530               |15060                |82830             |60240               |1                                    |Front Collision|43.0      |other-relative             |2013-11-14               |2017-01-07   |23           |Minor Damage     |Single Vehicle Collision|\n",
      "+----------+------------------------------------+-------------------+---------+-------------------+---------------------+------------------+--------------------+-------------------------------------+---------------+----------+---------------------------+-------------------------+-------------+-------------+-----------------+------------------------+\n",
      "\n"
     ]
    }
   ],
   "execution_count": 20
  },
  {
   "cell_type": "markdown",
   "metadata": {
    "application/vnd.databricks.v1+cell": {
     "cellMetadata": {},
     "inputWidgets": {},
     "nuid": "9b24913c-c78d-4c30-b1ca-97513d5334bd",
     "showTitle": false,
     "tableResultSettingsMap": {},
     "title": ""
    }
   },
   "source": "## `policy_doc_vector_search()`"
  },
  {
   "cell_type": "code",
   "metadata": {
    "application/vnd.databricks.v1+cell": {
     "cellMetadata": {},
     "inputWidgets": {},
     "nuid": "c5bcae4a-34b5-430e-8772-a7cb74e7ee5e",
     "showTitle": false,
     "tableResultSettingsMap": {},
     "title": ""
    },
    "ExecuteTime": {
     "end_time": "2025-05-11T22:44:15.962858Z",
     "start_time": "2025-05-11T22:44:11.720730Z"
    }
   },
   "source": [
    "sql_function = \\\n",
    "f\"\"\"\n",
    "CREATE OR REPLACE FUNCTION {CATALOG}.{SCHEMA}.policy_doc_vector_search(\n",
    "  query STRING comment 'The query string for searching insurance policy documentation.'\n",
    ")\n",
    "RETURNS TABLE\n",
    "COMMENT 'Executes a search on insurance policy documentation to retrieve text documents most relevant to the input query.'\n",
    "RETURN\n",
    "SELECT\n",
    "  chunked_text as page_content,\n",
    "  map('doc_path', path, 'chunk_id', chunk_id) as metadata\n",
    "FROM\n",
    "  vector_search(\n",
    "    index => '{CATALOG}.agents.policy_docs_chunked_files_vs_index',\n",
    "    query => query,\n",
    "    num_results => 3\n",
    "  )\n",
    "\"\"\"\n",
    "sql_func_info = client.create_function(sql_function_body=sql_function)\n",
    "(spark.sql(f\"select * from {CATALOG}.{SCHEMA}.policy_doc_vector_search('car accident coverage')\")\n",
    " .show())"
   ],
   "outputs": [
    {
     "name": "stderr",
     "output_type": "stream",
     "text": [
      "INFO:unitycatalog.ai.core.utils.retry_utils:Successfully re-acquired connection to a serverless instance.\n"
     ]
    },
    {
     "name": "stdout",
     "output_type": "stream",
     "text": [
      "+--------------------+--------------------+\n",
      "|        page_content|            metadata|\n",
      "+--------------------+--------------------+\n",
      "|MOTOR VEHICLE ACC...|{doc_path -> dbfs...|\n",
      "|WHEN THIS COVERAG...|{doc_path -> dbfs...|\n",
      "|P\\nL\\nE\\nD\\nO\\nC\\...|{doc_path -> dbfs...|\n",
      "+--------------------+--------------------+\n",
      "\n"
     ]
    }
   ],
   "execution_count": 24
  }
 ],
 "metadata": {
  "application/vnd.databricks.v1+notebook": {
   "computePreferences": null,
   "dashboards": [],
   "environmentMetadata": null,
   "inputWidgetPreferences": null,
   "language": "python",
   "notebookMetadata": {
    "pythonIndentUnit": 4
   },
   "notebookName": "03-create-UC-tools",
   "widgets": {}
  },
  "kernelspec": {
   "display_name": "Python 3",
   "language": "python",
   "name": "python3"
  },
  "language_info": {
   "name": "python"
  }
 },
 "nbformat": 4,
 "nbformat_minor": 0
}
