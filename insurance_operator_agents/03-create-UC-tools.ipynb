{
 "cells": [
  {
   "metadata": {},
   "cell_type": "markdown",
   "source": "# Create UC Function Tools",
   "id": "1f4cb746e50b22e4"
  },
  {
   "metadata": {
    "ExecuteTime": {
     "end_time": "2025-03-09T07:09:26.955695Z",
     "start_time": "2025-03-09T07:09:25.408431Z"
    }
   },
   "cell_type": "code",
   "source": [
    "from databricks.connect import DatabricksSession\n",
    "import mlflow\n",
    "from dotenv import load_dotenv\n",
    "\n",
    "spark = DatabricksSession.builder.getOrCreate()\n",
    "load_dotenv('../.env')\n",
    "\n",
    "DATABRICKS_HOST = os.getenv('host')\n",
    "DATABRICKS_TOKEN = os.getenv('token')\n",
    "OPENAI_API_KEY = os.getenv('OPENAI_API_KEY')\n",
    "print(f\"host: {DATABRICKS_HOST}\")"
   ],
   "id": "e8eae0a43750435d",
   "outputs": [
    {
     "name": "stdout",
     "output_type": "stream",
     "text": [
      "host: adb-984752964297111.11.azuredatabricks.net\n"
     ]
    }
   ],
   "execution_count": 1
  },
  {
   "metadata": {
    "ExecuteTime": {
     "end_time": "2025-03-09T07:09:27.037029Z",
     "start_time": "2025-03-09T07:09:27.022634Z"
    }
   },
   "cell_type": "code",
   "source": [
    "from unitycatalog.ai.core.base import set_uc_function_client\n",
    "from unitycatalog.ai.core.databricks import DatabricksFunctionClient\n",
    "\n",
    "client = DatabricksFunctionClient()\n",
    "set_uc_function_client(client)\n",
    "\n",
    "CATALOG = 'fins_genai'\n",
    "SCHEMA = 'agents'"
   ],
   "id": "21b0351103a8d17d",
   "outputs": [],
   "execution_count": 2
  },
  {
   "metadata": {
    "ExecuteTime": {
     "end_time": "2025-03-09T07:20:45.562497Z",
     "start_time": "2025-03-09T07:20:45.557643Z"
    }
   },
   "cell_type": "code",
   "source": [
    "# Create a new table with a markdown table that contains all the policy details\n",
    "from pyspark.sql.functions import to_json, col, struct, concat_ws, lit\n",
    "\n",
    "def create_md_col(df):\n",
    "    # Select all columns and create a new column with Markdown table format\n",
    "    header = \"| \" + \" | \".join([c.replace(\"_\", \" \") for c in df.columns]) + \" |\"\n",
    "    separator = \"| \" + \" | \".join([\"---\"] * len(df.columns)) + \" |\"\n",
    "\n",
    "    df_with_md = df.withColumn(\"policy_details\", concat_ws(\" | \", *[col(c).cast(\"string\") for c in df.columns]))\n",
    "    df_with_md = df_with_md.withColumn(\"policy_details\", concat_ws(\"\\n\", lit(header), lit(separator),\n",
    "                                                                   col(\"policy_details\")))\n",
    "\n",
    "    # Show the updated DataFrame\n",
    "    df_with_md.write.mode(\"overwrite\").option(\"overwriteSchema\", \"true\").saveAsTable(\"fins_genai.agents.insurance_customer_profiles\")"
   ],
   "id": "a78c061188017051",
   "outputs": [],
   "execution_count": 10
  },
  {
   "metadata": {},
   "cell_type": "markdown",
   "source": "# Create UC Tools",
   "id": "96f047cd49e2dc02"
  },
  {
   "metadata": {},
   "cell_type": "markdown",
   "source": "## `search_policy_details_by_name()`",
   "id": "d8cfcd740d0cab8b"
  },
  {
   "metadata": {
    "ExecuteTime": {
     "end_time": "2025-03-09T07:19:51.961827Z",
     "start_time": "2025-03-09T07:19:49.740159Z"
    }
   },
   "cell_type": "code",
   "source": [
    "sql_function = \\\n",
    "f\"\"\"\n",
    "CREATE OR REPLACE FUNCTION {CATALOG}.{SCHEMA}.search_policy_details_by_name(\n",
    "  search_name STRING\n",
    ")\n",
    "RETURNS TABLE (\n",
    "  policy_details STRING\n",
    ")\n",
    "COMMENT 'Return a customer policy details with a given customer name'\n",
    "LANGUAGE SQL\n",
    "  RETURN\n",
    "  SELECT\n",
    "    policy_details\n",
    "  FROM {CATALOG}.{SCHEMA}.insurance_customer_profiles\n",
    "  where (CONCAT(first_name, ' ', last_name) = search_name)\n",
    "  or (CONCAT(last_name, ' ', first_name) = search_name)\n",
    ";\n",
    "\"\"\"\n",
    "sql_func_info = client.create_function(sql_function_body=sql_function)\n",
    "spark.sql(\"select * from fins_genai.agents.search_policy_details_by_name('Gloria Cook')\").show(truncate=False)"
   ],
   "id": "4bc0e75efd856f7",
   "outputs": [
    {
     "name": "stderr",
     "output_type": "stream",
     "text": [
      "/Users/q.yu/workspace/agents_use_cases/.venv/lib/python3.11/site-packages/unitycatalog/ai/core/databricks.py:308: UserWarning: The following parameters do not have descriptions: search_name for the function fins_genai.agents.search_policy_details_by_name. Using Unity Catalog functions that do not have parameter descriptions limits the functionality for an LLM to understand how to call your function. To improve tool calling accuracy, provide verbose parameter descriptions that fully explain what the expected usage of the function arguments are.\n",
      "  check_function_info(created_function_info)\n"
     ]
    },
    {
     "name": "stdout",
     "output_type": "stream",
     "text": [
      "+------------------------------------------------------------------------------------------------------------------------------------------------------------------------------------------------------------------------------------------------------------------------------------------------------------------------------------------------------------------------------------------------------------------------------------------------------------------------------------------------------------------------------------------------------------------------------------------------------------------+\n",
      "|policy_details                                                                                                                                                                                                                                                                                                                                                                                                                                                                                                                                                                                                    |\n",
      "+------------------------------------------------------------------------------------------------------------------------------------------------------------------------------------------------------------------------------------------------------------------------------------------------------------------------------------------------------------------------------------------------------------------------------------------------------------------------------------------------------------------------------------------------------------------------------------------------------------------+\n",
      "|| policy number | policy type | issue date | effective date | expiration date | make | model | model year | driver dob | chassis no | use of vehicle | sum insured | premium | deductable | address | first name | last name | email | phone number |\\n| --- | --- | --- | --- | --- | --- | --- | --- | --- | --- | --- | --- | --- | --- | --- | --- | --- | --- | --- |\\n102147984 | COMP | 2023-11-18 | 2023-11-18 | 2024-11-17 | NISSAN | MICROBUS | 2019.0 | 16-05-2005 | JN6BE6DS7K9062371 | COMMERCIAL | 78000.0 | 2030.0 | 500 | QUEENS, 11374.0 | Gloria | Cook | matthew21@example.com | (659)-529-7821|\n",
      "|| policy number | policy type | issue date | effective date | expiration date | make | model | model year | driver dob | chassis no | use of vehicle | sum insured | premium | deductable | address | first name | last name | email | phone number |\\n| --- | --- | --- | --- | --- | --- | --- | --- | --- | --- | --- | --- | --- | --- | --- | --- | --- | --- | --- |\\n102147984 | COMP | 2023-11-18 | 2023-11-18 | 2024-11-17 | NISSAN | MICROBUS | 2019.0 | 16-05-2005 | JN6BE6DS7K9062371 | COMMERCIAL | 78000.0 | 2030.0 | 500 | QUEENS, 11374.0 | Gloria | Cook | matthew21@example.com | (659)-529-7821|\n",
      "+------------------------------------------------------------------------------------------------------------------------------------------------------------------------------------------------------------------------------------------------------------------------------------------------------------------------------------------------------------------------------------------------------------------------------------------------------------------------------------------------------------------------------------------------------------------------------------------------------------------+\n",
      "\n"
     ]
    }
   ],
   "execution_count": 9
  },
  {
   "metadata": {},
   "cell_type": "markdown",
   "source": "## `search_policy_details_by_policy_number()`",
   "id": "30fed619db490e78"
  },
  {
   "metadata": {
    "ExecuteTime": {
     "end_time": "2025-03-09T07:19:41.306778Z",
     "start_time": "2025-03-09T07:19:37.204174Z"
    }
   },
   "cell_type": "code",
   "source": [
    "sql_function = \\\n",
    "f\"\"\"\n",
    "CREATE OR REPLACE FUNCTION {CATALOG}.{SCHEMA}.search_policy_details_by_policy_number(\n",
    "  search_name STRING\n",
    ")\n",
    "RETURNS TABLE (\n",
    "  policy_details STRING\n",
    ")\n",
    "COMMENT 'Return a customer policy details with a given customer name'\n",
    "LANGUAGE SQL\n",
    "  RETURN\n",
    "  SELECT\n",
    "    policy_details\n",
    "  FROM {CATALOG}.{SCHEMA}.insurance_customer_profiles\n",
    "  where policy_number = search_name\n",
    ";\n",
    "\"\"\"\n",
    "sql_func_info = client.create_function(sql_function_body=sql_function)\n",
    "spark.sql(\"select * from fins_genai.agents.search_policy_details_by_policy_number('102147984')\") .show()"
   ],
   "id": "e0096dd1c263ca7b",
   "outputs": [
    {
     "name": "stderr",
     "output_type": "stream",
     "text": [
      "/Users/q.yu/workspace/agents_use_cases/.venv/lib/python3.11/site-packages/unitycatalog/ai/core/databricks.py:308: UserWarning: The following parameters do not have descriptions: search_name for the function fins_genai.agents.search_policy_details_by_policy_number. Using Unity Catalog functions that do not have parameter descriptions limits the functionality for an LLM to understand how to call your function. To improve tool calling accuracy, provide verbose parameter descriptions that fully explain what the expected usage of the function arguments are.\n",
      "  check_function_info(created_function_info)\n"
     ]
    },
    {
     "name": "stdout",
     "output_type": "stream",
     "text": [
      "+--------------------+\n",
      "|      policy_details|\n",
      "+--------------------+\n",
      "|| policy number |...|\n",
      "|| policy number |...|\n",
      "+--------------------+\n",
      "\n"
     ]
    }
   ],
   "execution_count": 8
  },
  {
   "metadata": {},
   "cell_type": "markdown",
   "source": "## `search_claims_details_by_policy_number()`",
   "id": "3bcb3e24b235379b"
  },
  {
   "metadata": {
    "ExecuteTime": {
     "end_time": "2025-03-09T07:23:00.492273Z",
     "start_time": "2025-03-09T07:22:57.388007Z"
    }
   },
   "cell_type": "code",
   "source": [
    "sql_function = \\\n",
    "f\"\"\"\n",
    "CREATE OR REPLACE FUNCTION {CATALOG}.{SCHEMA}.search_claims_details_by_policy_number(\n",
    "  search_name STRING\n",
    ")\n",
    "RETURNS TABLE (\n",
    "    clain_report STRING\n",
    ")\n",
    "COMMENT 'Return a claim details of a customer given policy number'\n",
    "LANGUAGE SQL\n",
    "  RETURN\n",
    "  SELECT claim_report\n",
    "  FROM {CATALOG}.{SCHEMA}.claims_details\n",
    "WHERE policy_number = search_name\n",
    ";\n",
    "\"\"\"\n",
    "sql_func_info = client.create_function(sql_function_body=sql_function)\n",
    "spark.sql(\"select * from fins_genai.agents.search_claims_details_by_policy_number('102148040')\").show()"
   ],
   "id": "244795ad52836986",
   "outputs": [
    {
     "name": "stdout",
     "output_type": "stream",
     "text": [
      "+--------------------+\n",
      "|        clain_report|\n",
      "+--------------------+\n",
      "|Policy #: 1021422...|\n",
      "+--------------------+\n",
      "\n"
     ]
    }
   ],
   "execution_count": 13
  },
  {
   "metadata": {},
   "cell_type": "markdown",
   "source": "## `search_policy_doc()`",
   "id": "c1f81c23e4ebe46f"
  },
  {
   "metadata": {
    "ExecuteTime": {
     "end_time": "2025-03-09T06:42:13.224778Z",
     "start_time": "2025-03-09T06:42:08.653607Z"
    }
   },
   "cell_type": "code",
   "source": [
    "sql_function = \\\n",
    "f\"\"\"\n",
    "CREATE OR REPLACE FUNCTION {CATALOG}.{SCHEMA}.search_policy_doc(\n",
    "    query STRING\n",
    ")\n",
    "RETURNS TABLE (\n",
    "    policy STRING\n",
    ")\n",
    "COMMENT 'Perform search on insurance policy document to retrieve most relevant text for a given input query'\n",
    "LANGUAGE SQL\n",
    "  RETURN\n",
    "  SELECT\n",
    "   chunked_text as policy\n",
    "  FROM vector_search(\n",
    "    index => 'fins_genai.agents.policy_docs_chunked_files_vs_index',\n",
    "    query_text => query,\n",
    "    num_results => 3\n",
    "  )\n",
    ";\n",
    "\"\"\"\n",
    "sql_func_info = client.create_function(sql_function_body=sql_function)\n",
    "spark.sql(\"select * from fins_genai.agents.search_policy_doc('accident claim')\").show()"
   ],
   "id": "85ec2c785ddbadfd",
   "outputs": [
    {
     "name": "stderr",
     "output_type": "stream",
     "text": [
      "/Users/q.yu/workspace/agents_use_cases/.venv/lib/python3.11/site-packages/unitycatalog/ai/core/databricks.py:308: UserWarning: The following parameters do not have descriptions: query for the function fins_genai.agents.search_policy_doc. Using Unity Catalog functions that do not have parameter descriptions limits the functionality for an LLM to understand how to call your function. To improve tool calling accuracy, provide verbose parameter descriptions that fully explain what the expected usage of the function arguments are.\n",
      "  check_function_info(created_function_info)\n"
     ]
    },
    {
     "name": "stdout",
     "output_type": "stream",
     "text": [
      "+--------------------+\n",
      "|              policy|\n",
      "+--------------------+\n",
      "|INANY ONE MOTOR V...|\n",
      "|bodily injury toa...|\n",
      "|hasaright toatria...|\n",
      "+--------------------+\n",
      "\n"
     ]
    }
   ],
   "execution_count": 21
  }
 ],
 "metadata": {
  "kernelspec": {
   "display_name": "Python 3",
   "language": "python",
   "name": "python3"
  },
  "language_info": {
   "codemirror_mode": {
    "name": "ipython",
    "version": 2
   },
   "file_extension": ".py",
   "mimetype": "text/x-python",
   "name": "python",
   "nbconvert_exporter": "python",
   "pygments_lexer": "ipython2",
   "version": "2.7.6"
  }
 },
 "nbformat": 4,
 "nbformat_minor": 5
}
