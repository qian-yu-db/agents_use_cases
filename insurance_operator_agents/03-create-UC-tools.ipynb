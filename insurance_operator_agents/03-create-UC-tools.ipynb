{
 "cells": [
  {
   "cell_type": "markdown",
   "metadata": {
    "application/vnd.databricks.v1+cell": {
     "cellMetadata": {},
     "inputWidgets": {},
     "nuid": "35e74158-4e5d-4d75-b3f4-3fd77c902735",
     "showTitle": false,
     "tableResultSettingsMap": {},
     "title": ""
    }
   },
   "source": [
    "# Create UC Functions"
   ]
  },
  {
   "cell_type": "code",
   "execution_count": 0,
   "metadata": {
    "application/vnd.databricks.v1+cell": {
     "cellMetadata": {
      "byteLimit": 2048000,
      "rowLimit": 10000
     },
     "inputWidgets": {},
     "nuid": "35b19b65-494d-4f77-adda-dbea99d01122",
     "showTitle": false,
     "tableResultSettingsMap": {},
     "title": ""
    }
   },
   "outputs": [],
   "source": [
    "%pip install -r ../requirements.txt --quiet\n",
    "%restart_python"
   ]
  },
  {
   "cell_type": "code",
   "execution_count": 0,
   "metadata": {
    "ExecuteTime": {
     "end_time": "2025-05-11T23:11:25.040617Z",
     "start_time": "2025-05-11T23:11:25.017894Z"
    },
    "application/vnd.databricks.v1+cell": {
     "cellMetadata": {
      "byteLimit": 2048000,
      "rowLimit": 10000
     },
     "inputWidgets": {},
     "nuid": "2ea032d6-d10b-4745-b02b-dff1bdf8b5dd",
     "showTitle": false,
     "tableResultSettingsMap": {},
     "title": ""
    }
   },
   "outputs": [],
   "source": [
    "%load_ext autoreload\n",
    "%autoreload 2"
   ]
  },
  {
   "cell_type": "code",
   "execution_count": 0,
   "metadata": {
    "ExecuteTime": {
     "end_time": "2025-05-11T23:11:49.613805Z",
     "start_time": "2025-05-11T23:11:49.588332Z"
    },
    "application/vnd.databricks.v1+cell": {
     "cellMetadata": {
      "byteLimit": 2048000,
      "rowLimit": 10000
     },
     "inputWidgets": {},
     "nuid": "5d9150f2-649c-48ce-a578-435fd5830aae",
     "showTitle": false,
     "tableResultSettingsMap": {},
     "title": ""
    }
   },
   "outputs": [],
   "source": [
    "from shared.helper import *\n",
    "\n",
    "in_workspace = is_running_in_databricks()\n",
    "global_config = get_global_config(path='../global_config/databricks_config.yaml')\n",
    "\n",
    "if not in_workspace:\n",
    "    from databricks.connect import DatabricksSession\n",
    "    from dotenv import load_dotenv\n",
    "    import os\n",
    "\n",
    "    print(\"Running the notebook locally ...\")\n",
    "    spark = DatabricksSession.builder.getOrCreate()\n",
    "    load_dotenv('../.env')\n",
    "\n",
    "    DATABRICKS_HOST = os.getenv('host')\n",
    "    DATABRICKS_TOKEN = os.getenv('token')\n",
    "else:\n",
    "    print(\"Running the notebook in Databricks workspace ...\")\n",
    "    DATABRICKS_HOST = dbutils.notebook.entry_point.getDbutils().notebook().getContext().apiUrl().get()\n",
    "\n",
    "print(f\"host: {DATABRICKS_HOST}\")"
   ]
  },
  {
   "cell_type": "code",
   "execution_count": 0,
   "metadata": {
    "ExecuteTime": {
     "end_time": "2025-05-11T22:36:56.828567Z",
     "start_time": "2025-05-11T22:36:56.810784Z"
    },
    "application/vnd.databricks.v1+cell": {
     "cellMetadata": {
      "byteLimit": 2048000,
      "rowLimit": 10000
     },
     "inputWidgets": {},
     "nuid": "f08640b6-d6b0-4bf0-bc15-16ba873f3aa8",
     "showTitle": false,
     "tableResultSettingsMap": {},
     "title": ""
    }
   },
   "outputs": [],
   "source": [
    "from unitycatalog.ai.core.base import set_uc_function_client\n",
    "from unitycatalog.ai.core.databricks import DatabricksFunctionClient\n",
    "\n",
    "client = DatabricksFunctionClient()\n",
    "set_uc_function_client(client)\n",
    "\n",
    "CATALOG = global_config['catalog']\n",
    "SCHEMA = global_config['schema_insurance_agents']\n",
    "print(f\"Catalog: {CATALOG} | Schema: {SCHEMA}\")"
   ]
  },
  {
   "cell_type": "markdown",
   "metadata": {
    "application/vnd.databricks.v1+cell": {
     "cellMetadata": {},
     "inputWidgets": {},
     "nuid": "04a2a185-1424-4188-a6ec-dd126a3d6af4",
     "showTitle": false,
     "tableResultSettingsMap": {},
     "title": ""
    }
   },
   "source": [
    "# Create UC Tools"
   ]
  },
  {
   "cell_type": "markdown",
   "metadata": {
    "application/vnd.databricks.v1+cell": {
     "cellMetadata": {},
     "inputWidgets": {},
     "nuid": "646fb6b5-babe-4aac-bfca-0bf62e6cc05a",
     "showTitle": false,
     "tableResultSettingsMap": {},
     "title": ""
    }
   },
   "source": [
    "## `search_claims_details_by_policy_no()`"
   ]
  },
  {
   "cell_type": "code",
   "execution_count": 0,
   "metadata": {
    "ExecuteTime": {
     "end_time": "2025-05-11T22:37:12.286759Z",
     "start_time": "2025-05-11T22:37:08.950708Z"
    },
    "application/vnd.databricks.v1+cell": {
     "cellMetadata": {
      "byteLimit": 2048000,
      "rowLimit": 10000
     },
     "inputWidgets": {},
     "nuid": "c6dc76bb-dadb-458f-8204-b35cfb55e7f8",
     "showTitle": false,
     "tableResultSettingsMap": {},
     "title": ""
    }
   },
   "outputs": [],
   "source": [
    "sql_function = \\\n",
    "f\"\"\"\n",
    "create or replace function {CATALOG}.{SCHEMA}.search_claims_details_by_policy_no(\n",
    "  input_policy_no STRING comment 'policy Number'\n",
    ")\n",
    "RETURNS table\n",
    "COMMENT 'Returns claims details about a customer given policy number'\n",
    "RETURN\n",
    "SELECT *\n",
    "FROM {CATALOG}.{SCHEMA}.claims_table\n",
    "WHERE policy_no = input_policy_no\n",
    ";\n",
    "\"\"\"\n",
    "sql_func_info = client.create_function(sql_function_body=sql_function)\n",
    "(spark.sql(f\"select * from {CATALOG}.{SCHEMA}.search_claims_details_by_policy_no('102070455')\")\n",
    " .show\n",
    " (truncate=False))"
   ]
  },
  {
   "cell_type": "markdown",
   "metadata": {
    "application/vnd.databricks.v1+cell": {
     "cellMetadata": {},
     "inputWidgets": {},
     "nuid": "9b24913c-c78d-4c30-b1ca-97513d5334bd",
     "showTitle": false,
     "tableResultSettingsMap": {},
     "title": ""
    }
   },
   "source": [
    "## `policy_doc_vector_search()`"
   ]
  },
  {
   "cell_type": "code",
   "execution_count": 0,
   "metadata": {
    "ExecuteTime": {
     "end_time": "2025-05-11T22:44:15.962858Z",
     "start_time": "2025-05-11T22:44:11.720730Z"
    },
    "application/vnd.databricks.v1+cell": {
     "cellMetadata": {
      "byteLimit": 2048000,
      "rowLimit": 10000
     },
     "inputWidgets": {},
     "nuid": "c5bcae4a-34b5-430e-8772-a7cb74e7ee5e",
     "showTitle": false,
     "tableResultSettingsMap": {},
     "title": ""
    }
   },
   "outputs": [],
   "source": [
    "sql_function = \\\n",
    "f\"\"\"\n",
    "CREATE OR REPLACE FUNCTION {CATALOG}.{SCHEMA}.policy_doc_vector_search(\n",
    "  query STRING comment 'The query string for searching insurance policy documentation.'\n",
    ")\n",
    "RETURNS TABLE\n",
    "COMMENT 'Executes a search on insurance policy documentation to retrieve text documents most relevant to the input query.'\n",
    "RETURN\n",
    "SELECT\n",
    "  chunked_text as page_content,\n",
    "  map('doc_path', path, 'chunk_id', chunk_id) as metadata\n",
    "FROM\n",
    "  vector_search(\n",
    "    index => '{CATALOG}.agents.policy_docs_chunked_files_vs_index',\n",
    "    query => query,\n",
    "    num_results => 3\n",
    "  )\n",
    "\"\"\"\n",
    "sql_func_info = client.create_function(sql_function_body=sql_function)\n",
    "(spark.sql(f\"select * from {CATALOG}.{SCHEMA}.policy_doc_vector_search('car accident coverage')\")\n",
    " .show())"
   ]
  },
  {
   "cell_type": "code",
   "execution_count": 0,
   "metadata": {
    "application/vnd.databricks.v1+cell": {
     "cellMetadata": {},
     "inputWidgets": {},
     "nuid": "d4aef968-cbfa-4365-b2c3-9ccc33203726",
     "showTitle": false,
     "tableResultSettingsMap": {},
     "title": ""
    }
   },
   "outputs": [],
   "source": []
  }
 ],
 "metadata": {
  "application/vnd.databricks.v1+notebook": {
   "computePreferences": null,
   "dashboards": [],
   "environmentMetadata": null,
   "inputWidgetPreferences": null,
   "language": "python",
   "notebookMetadata": {
    "pythonIndentUnit": 4
   },
   "notebookName": "03-create-UC-tools",
   "widgets": {}
  },
  "kernelspec": {
   "display_name": "Python 3",
   "language": "python",
   "name": "python3"
  },
  "language_info": {
   "name": "python"
  }
 },
 "nbformat": 4,
 "nbformat_minor": 0
}
