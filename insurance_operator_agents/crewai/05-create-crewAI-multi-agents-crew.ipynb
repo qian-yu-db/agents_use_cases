{
 "cells": [
  {
   "metadata": {},
   "cell_type": "code",
   "source": [
    "%pip install mlflow pydantic databricks-agents -U --quiet\n",
    "%pip install unitycatalog-crewai unitycatalog-crewai[databricks] -U --quiet\n",
    "%pip install crewai==0.102 crewai_tools langchain_community --quiet\n",
    "%restart_python"
   ],
   "outputs": [],
   "execution_count": null
  },
  {
   "metadata": {},
   "cell_type": "code",
   "outputs": [],
   "execution_count": null,
   "source": [
    "%load_ext autoreload\n",
    "%autoreload 2"
   ]
  },
  {
   "metadata": {},
   "cell_type": "code",
   "outputs": [],
   "execution_count": null,
   "source": [
    "import mlflow\n",
    "from mlflow.tracking import MlflowClient\n",
    "from bs4.diagnose import profile\n",
    "from dotenv import load_dotenv\n",
    "from databricks.connect import DatabricksSession\n",
    "import os\n",
    "\n",
    "os.environ[\"DATABRICKS_API_KEY\"] = dbutils.secrets.get(\"databricks_token_qyu\", \"qyu_rag_sp_token\")\n",
    "os.environ[\"DATABRICKS_API_BASE\"] = (\n",
    "    f\"{dbutils.notebook.entry_point.getDbutils().notebook().getContext().apiUrl().get()}/serving-endpoints\"\n",
    ")\n",
    "\n",
    "mlflow.set_tracking_uri(\"databricks\")\n",
    "mlflow.set_registry_uri(\"databricks-uc\")\n",
    "\n",
    "\n",
    "experiment = \"/Workspace/Users/q.yu@databricks.com/ML_experiments/insurance_operation_crewai_agent\"\n",
    "mlflow.set_experiment(experiment)\n",
    "\n",
    "mlflow.crewai.autolog()"
   ]
  },
  {
   "metadata": {},
   "cell_type": "code",
   "outputs": [],
   "execution_count": null,
   "source": [
    "from unitycatalog.ai.core.base import set_uc_function_client\n",
    "from unitycatalog.ai.core.databricks import DatabricksFunctionClient\n",
    "\n",
    "client = DatabricksFunctionClient()\n",
    "set_uc_function_client(client)\n",
    "CATALOG = \"fins_genai\"\n",
    "SCHEMA = 'insurance_agent'\n",
    "\n",
    "spark.sql(f\"USE CATALOG {CATALOG}\")\n",
    "spark.sql(f\"USE SCHEMA {SCHEMA}\")"
   ]
  },
  {
   "metadata": {},
   "cell_type": "code",
   "outputs": [],
   "execution_count": null,
   "source": [
    "%sql\n",
    "select *\n",
    "from fins_genai.insurance_agent.search_claims_details_by_policy_no(\"102070455\")"
   ]
  },
  {
   "metadata": {},
   "cell_type": "code",
   "outputs": [],
   "execution_count": null,
   "source": [
    "%sql\n",
    "select *\n",
    "from fins_genai.insurance_agent.policy_doc_vector_search(\"car accident\")"
   ]
  },
  {
   "metadata": {},
   "cell_type": "markdown",
   "source": [
    "# Create a Crew\n",
    "\n",
    "## Set tools"
   ]
  },
  {
   "metadata": {},
   "cell_type": "code",
   "outputs": [],
   "execution_count": null,
   "source": [
    "from unitycatalog.ai.crewai.toolkit import UCFunctionToolkit\n",
    "\n",
    "uc_tools = [f\"{CATALOG}.{SCHEMA}.{func.name}\" for func in client.list_functions(catalog=CATALOG,\n",
    "                                                                                schema=SCHEMA)\n",
    "            if func.name in ['policy_doc_vector_search', \n",
    "                             'search_claims_details_by_policy_no']]\n",
    "print(uc_tools)\n",
    "toolkit = UCFunctionToolkit(function_names=uc_tools)\n",
    "tools = toolkit.tools\n",
    "search_policy_doc_tool, search_claim_details_tool = tools"
   ]
  },
  {
   "metadata": {},
   "cell_type": "code",
   "outputs": [],
   "execution_count": null,
   "source": [
    "from crewai import Agent, Task, Crew, Process\n",
    "from crewai import LLM\n",
    "from crewai.tools import BaseTool\n",
    "\n",
    "llm = LLM(model=\"databricks/databricks-meta-llama-3-3-70b-instruct\")\n",
    "#llm = LLM(model=\"databricks/databricks-llama-4-maverick\")\n",
    "# llm = LLM(model=\"databricks/databricks-claude-3-7-sonnet\")\n",
    "llm = LLM(model=\"databricks/doan-gpt-4o\")\n"
   ]
  },
  {
   "metadata": {},
   "cell_type": "markdown",
   "source": "## Create Agents"
  },
  {
   "metadata": {},
   "cell_type": "code",
   "outputs": [],
   "execution_count": null,
   "source": [
    "triage_agent = Agent(\n",
    "    role=\"triage agent\",\n",
    "    goal=\"analysis customer query and delegate to appropriate specialist, if you cannot \"\n",
    "            \"identify the goal of query, ask user for clarification\",\n",
    "    backstory=\"The triage agent is responsible for analyzing the customer query and \"\n",
    "                \"delegate the task to the appropriate agent. If the goal query cannot be \"\n",
    "                \"identified, ask the user for clarification\",\n",
    "    verbose=False,\n",
    "    allow_delegation=True,\n",
    "    llm=llm\n",
    ")\n",
    "\n",
    "claim_agent = Agent(\n",
    "    role=\"claim agent\",\n",
    "    goal=\"Provide accurate and helpful information about customer policy and claims\",\n",
    "    backstory=\"\"\" You are an insurance claims specialist. \n",
    "        If you are speaking to a customer, you probably were transferred to you from the triage agent.\n",
    "        If the customer does not have a policy number, explain that you need it to access their claim information.\n",
    "        Your job is to:\n",
    "        1. answer customer inquiries related to claims\n",
    "        2. Look up customer profiles or retrieve claim information\n",
    "        3. Provide information on existing claims\n",
    "        \"\"\",\n",
    "    verbose=False,\n",
    "    allow_delegation=False,\n",
    "    tools=[search_claim_details_tool],\n",
    "    llm=llm\n",
    ")\n",
    "\n",
    "policy_agent = Agent(\n",
    "    role=\"policy agent\",\n",
    "    goal=\"handle policy related queries\",\n",
    "    backstory=\"\"\"You are a general policy FAQ agent.\n",
    "              If you are speaking to a customer, you probably were transferred to you from the triage agent.\n",
    "              Your job is to:\n",
    "             1. Identify the last question asked by the customer. \n",
    "             2. Use the search tools to answer the question. Do not rely on your own knowledge.\"\"\",\n",
    "    verbose=False,\n",
    "    allow_delegation=False,\n",
    "    tools=[search_policy_doc_tool],\n",
    "    llm=llm\n",
    ")"
   ]
  },
  {
   "metadata": {},
   "cell_type": "markdown",
   "source": "## Create Tasks"
  },
  {
   "metadata": {},
   "cell_type": "code",
   "outputs": [],
   "execution_count": null,
   "source": [
    "triage_task = Task(\n",
    "    description=\"Analyze the customer query: {query} route to appropriate \"\n",
    "                \"specialist\",\n",
    "    expected_output=\"return the word claim, policy, or unknown\",\n",
    "    agent=triage_agent,\n",
    ")\n",
    "\n",
    "claim_task = Task(\n",
    "    description=(\n",
    "        \"\"\"Process this claim-related customer request based on: \n",
    "        query: {query}\n",
    "\n",
    "        If you have a policy number,\n",
    "        - use the search_claims_details_by_policy_no tool to retrieve existing claim information.\n",
    "        \n",
    "        Provide a helpful, detailed response about their claim.If you don't have their\n",
    "        policy_number, explain that you need it to access their claim information.\"\"\"\n",
    "    ),\n",
    "    expected_output=\"A helpful response to the customer's claim query\",\n",
    "    agent=claim_agent,\n",
    ")\n",
    "\n",
    "policy_task = Task(\n",
    "    description=\"Answer the general policy related query: {query}\",\n",
    "    expected_output=\"answer the general policy queries use the policy_docs_vector_search tool retrieve the policy document info\",\n",
    "    agent=policy_agent\n",
    ")"
   ]
  },
  {
   "metadata": {},
   "cell_type": "markdown",
   "source": "## Create a crew"
  },
  {
   "metadata": {},
   "cell_type": "code",
   "outputs": [],
   "execution_count": null,
   "source": [
    "crew = Crew(\n",
    "  agents=[triage_agent, claim_agent, policy_agent],\n",
    "  tasks=[triage_task, claim_task, policy_task],\n",
    "  process=Process.hierarchical,\n",
    "  manager_llm=llm,\n",
    "  verbose=False\n",
    ")"
   ]
  },
  {
   "metadata": {},
   "cell_type": "markdown",
   "source": "# Running a insurance operation crew"
  },
  {
   "metadata": {},
   "cell_type": "code",
   "outputs": [],
   "execution_count": null,
   "source": [
    "with mlflow.start_span(name=\"insurance_agent\", span_type=\"AGENT\") as span:\n",
    "    print(\"[AGENT] Hello! How may I assist you?\")\n",
    "    while True:\n",
    "        user_input = input(\"[USER]: \")\n",
    "        if user_input.lower() == \"exit\":  # Break loop if user types 'exit'\n",
    "            print(\"[AGENT]: Bye!\")\n",
    "            break\n",
    "        if not user_input:\n",
    "            continue\n",
    "        try:\n",
    "            result = crew.kickoff({\"query\": user_input})\n",
    "            print(\"\\n[AGENT]:\", result.raw)\n",
    "        except Exception as e:\n",
    "            print(f\"\\nError occurred: {str(e)}\")"
   ]
  },
  {
   "metadata": {},
   "cell_type": "markdown",
   "source": "# logging the crewAI workflow as ChatAgent"
  }
 ],
 "metadata": {
  "application/vnd.databricks.v1+notebook": {
   "computePreferences": null,
   "dashboards": [],
   "environmentMetadata": null,
   "inputWidgetPreferences": null,
   "language": "python",
   "notebookMetadata": {
    "mostRecentlyExecutedCommandWithImplicitDF": {
     "commandId": 3675736245626473,
     "dataframes": [
      "_sqldf"
     ]
    },
    "pythonIndentUnit": 4
   },
   "notebookName": "05-create-crewAI-multi-agents-crew",
   "widgets": {}
  },
  "kernelspec": {
   "display_name": "Python 3",
   "language": "python",
   "name": "python3"
  },
  "language_info": {
   "name": "python"
  }
 },
 "nbformat": 4,
 "nbformat_minor": 0
}
