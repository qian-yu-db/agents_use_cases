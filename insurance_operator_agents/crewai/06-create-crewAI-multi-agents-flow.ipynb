{
 "cells": [
  {
   "cell_type": "code",
   "execution_count": 0,
   "metadata": {
    "application/vnd.databricks.v1+cell": {
     "cellMetadata": {
      "byteLimit": 2048000,
      "rowLimit": 10000
     },
     "inputWidgets": {},
     "nuid": "1eebba08-85fc-4647-84b9-e58a6bc4a24a",
     "showTitle": false,
     "tableResultSettingsMap": {},
     "title": ""
    }
   },
   "outputs": [],
   "source": [
    "%pip install mlflow pydantic databricks-agents -U --quiet\n",
    "%pip install unitycatalog-crewai unitycatalog-crewai[databricks] -U --quiet\n",
    "%pip install crewai>=0.67.1 crewai_tools langchain_community --quiet\n",
    "%restart_python"
   ]
  },
  {
   "cell_type": "code",
   "execution_count": 0,
   "metadata": {
    "application/vnd.databricks.v1+cell": {
     "cellMetadata": {
      "byteLimit": 2048000,
      "rowLimit": 10000
     },
     "inputWidgets": {},
     "nuid": "03ef7269-5a58-4d20-ac19-21dfe12debd6",
     "showTitle": false,
     "tableResultSettingsMap": {},
     "title": ""
    }
   },
   "outputs": [],
   "source": [
    "%load_ext autoreload\n",
    "%autoreload 2"
   ]
  },
  {
   "cell_type": "code",
   "execution_count": 0,
   "metadata": {
    "ExecuteTime": {
     "end_time": "2025-03-10T00:58:50.205122Z",
     "start_time": "2025-03-10T00:58:47.492151Z"
    },
    "application/vnd.databricks.v1+cell": {
     "cellMetadata": {
      "byteLimit": 2048000,
      "rowLimit": 10000
     },
     "inputWidgets": {},
     "nuid": "b6ea2140-4d0d-4eaa-949c-aec4feeac0b7",
     "showTitle": false,
     "tableResultSettingsMap": {},
     "title": ""
    },
    "collapsed": true
   },
   "outputs": [],
   "source": [
    "import mlflow\n",
    "from mlflow.tracking import MlflowClient\n",
    "from bs4.diagnose import profile\n",
    "from dotenv import load_dotenv\n",
    "from databricks.connect import DatabricksSession\n",
    "import os\n",
    "\n",
    "os.environ[\"DATABRICKS_API_KEY\"] = dbutils.secrets.get(\"databricks_token_qyu\", \"qyu_rag_sp_token\")\n",
    "os.environ[\"DATABRICKS_API_BASE\"] = (\n",
    "    f\"{dbutils.notebook.entry_point.getDbutils().notebook().getContext().apiUrl().get()}/serving-endpoints\"\n",
    ")\n",
    "\n",
    "mlflow.set_tracking_uri(\"databricks\")\n",
    "mlflow.set_registry_uri(\"databricks-uc\")\n",
    "\n",
    "\n",
    "experiment = \"/Workspace/Users/q.yu@databricks.com/ML_experiments/insurance_operation_crewai_agent_flow\"\n",
    "mlflow.set_experiment(experiment)\n",
    "\n",
    "mlflow.crewai.autolog()"
   ]
  },
  {
   "cell_type": "code",
   "execution_count": 0,
   "metadata": {
    "ExecuteTime": {
     "end_time": "2025-03-10T00:58:53.236100Z",
     "start_time": "2025-03-10T00:58:51.764794Z"
    },
    "application/vnd.databricks.v1+cell": {
     "cellMetadata": {
      "byteLimit": 2048000,
      "rowLimit": 10000
     },
     "inputWidgets": {},
     "nuid": "75048bdf-062f-4cbe-ad05-72555ef3bb6f",
     "showTitle": false,
     "tableResultSettingsMap": {},
     "title": ""
    }
   },
   "outputs": [],
   "source": [
    "from unitycatalog.ai.core.base import set_uc_function_client\n",
    "from unitycatalog.ai.core.databricks import DatabricksFunctionClient\n",
    "\n",
    "client = DatabricksFunctionClient()\n",
    "set_uc_function_client(client)\n",
    "CATALOG = 'dhuang'\n",
    "SCHEMA = 'insurance_agent'\n",
    "\n",
    "spark.sql(f\"USE CATALOG {CATALOG}\")\n",
    "spark.sql(f\"USE SCHEMA {SCHEMA}\")"
   ]
  },
  {
   "cell_type": "markdown",
   "metadata": {
    "application/vnd.databricks.v1+cell": {
     "cellMetadata": {},
     "inputWidgets": {},
     "nuid": "865ced5a-f6af-453e-9c46-46e0bb963949",
     "showTitle": false,
     "tableResultSettingsMap": {},
     "title": ""
    }
   },
   "source": [
    "# Create a Crew\n",
    "\n",
    "## Set tools"
   ]
  },
  {
   "cell_type": "code",
   "execution_count": 0,
   "metadata": {
    "ExecuteTime": {
     "end_time": "2025-03-10T01:01:48.927038Z",
     "start_time": "2025-03-10T01:01:48.243851Z"
    },
    "application/vnd.databricks.v1+cell": {
     "cellMetadata": {
      "byteLimit": 2048000,
      "rowLimit": 10000
     },
     "inputWidgets": {},
     "nuid": "0a6fb00c-13fd-4226-9866-5501300a7816",
     "showTitle": false,
     "tableResultSettingsMap": {},
     "title": ""
    }
   },
   "outputs": [],
   "source": [
    "from unitycatalog.ai.crewai.toolkit import UCFunctionToolkit\n",
    "\n",
    "uc_tools = [f\"{CATALOG}.{SCHEMA}.{func.name}\" for func in client.list_functions(catalog=CATALOG,\n",
    "                                                                                schema=SCHEMA)\n",
    "            if 'search' in func.name]\n",
    "print(uc_tools)\n",
    "toolkit = UCFunctionToolkit(function_names=uc_tools)\n",
    "tools = toolkit.tools\n",
    "search_policy_doc_tool, search_claim_details_tool = tools[:2]"
   ]
  },
  {
   "cell_type": "code",
   "execution_count": 0,
   "metadata": {
    "application/vnd.databricks.v1+cell": {
     "cellMetadata": {
      "byteLimit": 2048000,
      "rowLimit": 10000
     },
     "inputWidgets": {},
     "nuid": "9333bab9-38cc-444b-8db0-9a24c8802a71",
     "showTitle": false,
     "tableResultSettingsMap": {},
     "title": ""
    }
   },
   "outputs": [],
   "source": [
    "from crewai import Agent, Task, Crew\n",
    "from crewai import LLM\n",
    "from crewai.tools import BaseTool\n",
    "\n",
    "llm = LLM(model=\"databricks/databricks-meta-llama-3-3-70b-instruct\")\n",
    "#llm = LLM(model=\"databricks/qyu_gtp_4o\")\n",
    "llm = LLM(model=\"databricks/databricks-claude-3-7-sonnet\")"
   ]
  },
  {
   "cell_type": "markdown",
   "metadata": {
    "application/vnd.databricks.v1+cell": {
     "cellMetadata": {},
     "inputWidgets": {},
     "nuid": "27e96093-1ad5-4b2f-9784-98da12c5964f",
     "showTitle": false,
     "tableResultSettingsMap": {},
     "title": ""
    }
   },
   "source": [
    "# Create a flow"
   ]
  },
  {
   "cell_type": "markdown",
   "metadata": {
    "application/vnd.databricks.v1+cell": {
     "cellMetadata": {},
     "inputWidgets": {},
     "nuid": "4cc20486-a2c1-4ca3-b4c7-175d39a2ba12",
     "showTitle": false,
     "tableResultSettingsMap": {},
     "title": ""
    }
   },
   "source": [
    "## Add a human input tool"
   ]
  },
  {
   "cell_type": "code",
   "execution_count": 0,
   "metadata": {
    "application/vnd.databricks.v1+cell": {
     "cellMetadata": {
      "byteLimit": 2048000,
      "rowLimit": 10000
     },
     "inputWidgets": {},
     "nuid": "1560f524-db79-460d-80cc-653c7a3067a3",
     "showTitle": false,
     "tableResultSettingsMap": {},
     "title": ""
    }
   },
   "outputs": [],
   "source": [
    "class HumanInputTool(BaseTool):\n",
    "    name: str = \"Human interact\"\n",
    "    description: str = (\n",
    "        \"As user questions and gather user response\"\n",
    "    )\n",
    "\n",
    "    def _run(self, argument: str) -> str:\n",
    "        print(argument)\n",
    "        res = input(f\"{argument} \\n\")\n",
    "        return res\n",
    "\n",
    "\n",
    "human_input = HumanInputTool()"
   ]
  },
  {
   "cell_type": "markdown",
   "metadata": {
    "application/vnd.databricks.v1+cell": {
     "cellMetadata": {},
     "inputWidgets": {},
     "nuid": "98f7fd55-45ed-4020-9965-bad642a50bc5",
     "showTitle": false,
     "tableResultSettingsMap": {},
     "title": ""
    }
   },
   "source": [
    "## Create Crews"
   ]
  },
  {
   "cell_type": "code",
   "execution_count": 0,
   "metadata": {
    "application/vnd.databricks.v1+cell": {
     "cellMetadata": {
      "byteLimit": 2048000,
      "rowLimit": 10000
     },
     "inputWidgets": {},
     "nuid": "c8c7cf0d-796b-44d0-8fd2-2ce2107e7c29",
     "showTitle": false,
     "tableResultSettingsMap": {},
     "title": ""
    }
   },
   "outputs": [],
   "source": [
    "class TriageCrew:\n",
    "    def triage_agent(self) -> Agent:\n",
    "        return Agent(\n",
    "            role=\"triage agent\",\n",
    "            goal=\"analysis customer query and delegate to appropriate specialist, if you cannot \"\n",
    "                    \"identify the goal of query, ask user for clarification\",\n",
    "            backstory=\"The triage agent is responsible for analyzing the customer query and \"\n",
    "                        \"delegate the task to the appropriate agent. If the goal query cannot be \"\n",
    "                        \"identified, ask the user for clarification\",\n",
    "            verbose=True,\n",
    "            tools=[human_input],\n",
    "            llm=llm\n",
    "        )\n",
    "\n",
    "    def triage_task(self) -> Task:\n",
    "        return Task(\n",
    "            description=\"Analyze the customer query: {query} route to appropriate \"\n",
    "                        \"specialist, if the customer is asking general insurance policy question return 'policy'\"\n",
    "                        \"if the customer is asking claim related question or their own policy questions, return 'claim'\",\n",
    "            expected_output=\"return the word claim, policy\",\n",
    "            agent=self.triage_agent(),\n",
    "        )\n",
    "\n",
    "    def crew(self) -> Crew:\n",
    "        return Crew(\n",
    "            agents=[self.triage_agent()],\n",
    "            tasks=[self.triage_task()],\n",
    "            memory=False,\n",
    "            verbose=True\n",
    "        )"
   ]
  },
  {
   "cell_type": "code",
   "execution_count": 0,
   "metadata": {
    "application/vnd.databricks.v1+cell": {
     "cellMetadata": {
      "byteLimit": 2048000,
      "rowLimit": 10000
     },
     "inputWidgets": {},
     "nuid": "7152ea24-c3c0-46aa-8567-960fc9422f3a",
     "showTitle": false,
     "tableResultSettingsMap": {},
     "title": ""
    }
   },
   "outputs": [],
   "source": [
    "class ClaimCrew:\n",
    "    def claim_agent(self) -> Agent:\n",
    "        return Agent(\n",
    "            role=\"claim agent\",\n",
    "            goal=\"Provide accurate and helpful information about customer policy and claims\",\n",
    "            backstory=\"\"\" You are an insurance claims specialist. \n",
    "                If you are speaking to a customer, you probably were transferred to you from the triage agent.\n",
    "                If the customer does not have a policy number, explain that you need it to access their claim information.\n",
    "\n",
    "                use the search_policy_details_by_policy_number tool to retrieve customer profile and their policy information.\n",
    "                use the search_claim_by_policy_number tool to retrieve claim status and details.\n",
    "                Your job is to:\n",
    "                1. Process customer inquiries related to claims\n",
    "                2. Look up customer profiles or retrieve claim information\n",
    "                3. Provide status updates on existing claims\n",
    "                4. Guide customers through the claims process\n",
    "                \"\"\",\n",
    "            verbose=True,\n",
    "            allow_delegation=False,\n",
    "            tools=[search_claim_details_tool, search_customer_policy_details_tool, human_input],\n",
    "            llm=llm\n",
    "        )\n",
    "\n",
    "    def claim_task(self) -> Task:\n",
    "        return Task(\n",
    "            description=(\n",
    "                \"\"\"Process this claim-related customer request based on: \n",
    "                query: {query}\n",
    "\n",
    "                If you have a policy number,\n",
    "                - use the search_policy_details_by_policy_number tool to retrieve customer profile \n",
    "                    and policy information.\n",
    "                - use the search_claim_by_policy_number tool to retrieve existing claim information.\n",
    "                \n",
    "                Provide a helpful, detailed response about their claim. If you don't have their\n",
    "                policy_number, explain that you need it to access their claim information.\"\"\"\n",
    "            ),\n",
    "            expected_output=\"A helpful response to the customer's claim query\",\n",
    "            agent=self.claim_agent(),\n",
    "        )\n",
    "\n",
    "    def crew(self) -> Crew:\n",
    "        return Crew(\n",
    "            agents=[self.claim_agent()],\n",
    "            tasks=[self.claim_task()],\n",
    "            memory=False,\n",
    "            verbose=True\n",
    "        )"
   ]
  },
  {
   "cell_type": "code",
   "execution_count": 0,
   "metadata": {
    "application/vnd.databricks.v1+cell": {
     "cellMetadata": {
      "byteLimit": 2048000,
      "rowLimit": 10000
     },
     "inputWidgets": {},
     "nuid": "ef455748-82a7-46a6-b35d-be86e51cd630",
     "showTitle": false,
     "tableResultSettingsMap": {},
     "title": ""
    }
   },
   "outputs": [],
   "source": [
    "class PolicyCrew:\n",
    "    def policy_agent(self) -> Agent:\n",
    "        return Agent(\n",
    "            role=\"policy agent\",\n",
    "            goal=\"asnwer general policy related queries\",\n",
    "            backstory=\"\"\"You are a general policy FAQ agent.\n",
    "\n",
    "                    Your job is to:\n",
    "                    1. Identify the last question asked by the customer. clarify if needed.\n",
    "                    2. Use the search_policy_doc_tool to answer the question. Do not rely on your own knowledge.\"\"\",\n",
    "            verbose=True,\n",
    "            allow_delegation=False,\n",
    "            tools=[search_policy_doc_tool, human_input],\n",
    "            llm=llm\n",
    "        )\n",
    "\n",
    "    def policy_task(self) -> Task:\n",
    "        return Task(\n",
    "            description=\"Answer the general policy related query: {query}\",\n",
    "            expected_output=\"answer the general policy queries by using search_policy_doc_tool for document context\",\n",
    "            agent=self.policy_agent()\n",
    "        )\n",
    "\n",
    "    def crew(self) -> Crew:\n",
    "        return Crew(\n",
    "            agents=[self.policy_agent()],\n",
    "            tasks=[self.policy_task()],\n",
    "            memory=False,\n",
    "            verbose=True\n",
    "        )"
   ]
  },
  {
   "cell_type": "markdown",
   "metadata": {
    "application/vnd.databricks.v1+cell": {
     "cellMetadata": {},
     "inputWidgets": {},
     "nuid": "4369c517-a591-4bea-83d9-2c1351ae2fd0",
     "showTitle": false,
     "tableResultSettingsMap": {},
     "title": ""
    }
   },
   "source": [
    "## Create a flow with unstructured state"
   ]
  },
  {
   "cell_type": "code",
   "execution_count": 0,
   "metadata": {
    "application/vnd.databricks.v1+cell": {
     "cellMetadata": {
      "byteLimit": 2048000,
      "rowLimit": 10000
     },
     "inputWidgets": {},
     "nuid": "07b7a941-821e-4169-95f3-a5d84b05c6d5",
     "showTitle": false,
     "tableResultSettingsMap": {},
     "title": ""
    }
   },
   "outputs": [],
   "source": [
    "from crewai.flow.flow import Flow, listen, router, start\n",
    "\n",
    "class InsuranceOperatorFlow(Flow):\n",
    "\n",
    "    @start()\n",
    "    def analyze_query(self):\n",
    "        if self.state['query']:\n",
    "            response = TriageCrew().crew().kickoff(inputs={'query': self.state['query']})\n",
    "            self.state['intent'] = response.raw\n",
    "\n",
    "    @router(analyze_query)\n",
    "    def triage_task(self):\n",
    "        if self.state['intent'] == 'policy' or self.state['intent'] == 'Policy':\n",
    "            return \"policy\"\n",
    "        elif self.state['intent'] == 'claim' or self.state['intent'] == 'Claim':\n",
    "            return \"claim\"\n",
    "        else:\n",
    "            return \"Cannot identify customer intent\"\n",
    "\n",
    "    @listen(\"claim\")\n",
    "    def claim_question(self):\n",
    "        ClaimCrew().crew().kickoff(inputs={'query': self.state['query']})\n",
    "\n",
    "    @listen(\"policy\")\n",
    "    def policy_question(self):\n",
    "        PolicyCrew().crew().kickoff(inputs={'query': self.state['query']})\n"
   ]
  },
  {
   "cell_type": "markdown",
   "metadata": {
    "application/vnd.databricks.v1+cell": {
     "cellMetadata": {},
     "inputWidgets": {},
     "nuid": "c992a3a3-a8df-4a26-a79a-9a6306fa2695",
     "showTitle": false,
     "tableResultSettingsMap": {},
     "title": ""
    }
   },
   "source": [
    "## Plot the flow"
   ]
  },
  {
   "cell_type": "code",
   "execution_count": 0,
   "metadata": {
    "application/vnd.databricks.v1+cell": {
     "cellMetadata": {
      "byteLimit": 2048000,
      "rowLimit": 10000
     },
     "inputWidgets": {},
     "nuid": "7ee87056-4302-4bc4-ae13-ca440a3b7fe7",
     "showTitle": false,
     "tableResultSettingsMap": {},
     "title": ""
    }
   },
   "outputs": [],
   "source": [
    "flow = InsuranceOperatorFlow()\n",
    "flow.plot()"
   ]
  },
  {
   "cell_type": "code",
   "execution_count": 0,
   "metadata": {
    "application/vnd.databricks.v1+cell": {
     "cellMetadata": {
      "byteLimit": 2048000,
      "rowLimit": 10000
     },
     "inputWidgets": {},
     "nuid": "e18baadb-0383-4218-8d91-2a3cdfce6657",
     "showTitle": false,
     "tableResultSettingsMap": {},
     "title": ""
    }
   },
   "outputs": [],
   "source": [
    "html_diagram = open('./crewai_flow.html', 'r').read()\n",
    "styled_html_content = f'<div style=\"height:800px;\">{html_diagram}</div>'\n",
    "displayHTML(styled_html_content)"
   ]
  },
  {
   "cell_type": "code",
   "execution_count": 0,
   "metadata": {
    "application/vnd.databricks.v1+cell": {
     "cellMetadata": {
      "byteLimit": 2048000,
      "rowLimit": 10000
     },
     "inputWidgets": {},
     "nuid": "0a844901-c66a-4a07-9cb1-31a23f2882d3",
     "showTitle": false,
     "tableResultSettingsMap": {},
     "title": ""
    }
   },
   "outputs": [],
   "source": [
    "import nest_asyncio\n",
    "nest_asyncio.apply()\n",
    "\n",
    "flow.kickoff({'query': \"What is the maximum the policy will pay for damages arising out of bodily injury to two or more persons in any one motor vehicle accident?\"})"
   ]
  },
  {
   "cell_type": "code",
   "execution_count": 0,
   "metadata": {
    "application/vnd.databricks.v1+cell": {
     "cellMetadata": {
      "byteLimit": 2048000,
      "rowLimit": 10000
     },
     "inputWidgets": {},
     "nuid": "88e7fb33-c014-4f17-8453-c0d0880493b0",
     "showTitle": false,
     "tableResultSettingsMap": {},
     "title": ""
    }
   },
   "outputs": [],
   "source": [
    "import nest_asyncio\n",
    "nest_asyncio.apply()\n",
    "\n",
    "with mlflow.start_span(name=\"insurance_agent\", span_type=\"AGENT\") as span:\n",
    "    print(\"[AGENT] Hello! How may I assist you?\")\n",
    "    while True:\n",
    "        user_input = input(\"[USER]: \")\n",
    "        if user_input.lower() == \"exit\":  # Break loop if user types 'exit'\n",
    "            print(\"[AGENT]: Bye!\")\n",
    "            break\n",
    "        if not user_input:\n",
    "            continue\n",
    "        try:\n",
    "            result = flow.kickoff({\"query\": user_input})\n",
    "            print(\"\\n[AGENT]:\", result.raw)\n",
    "        except Exception as e:\n",
    "            print(f\"\\nError occurred: {str(e)}\")"
   ]
  },
  {
   "cell_type": "markdown",
   "metadata": {
    "application/vnd.databricks.v1+cell": {
     "cellMetadata": {},
     "inputWidgets": {},
     "nuid": "4fc59754-49b8-475f-a6ca-74005a571c77",
     "showTitle": false,
     "tableResultSettingsMap": {},
     "title": ""
    }
   },
   "source": [
    "## Create a flow with structured state and converstaion history"
   ]
  },
  {
   "cell_type": "markdown",
   "metadata": {
    "application/vnd.databricks.v1+cell": {
     "cellMetadata": {},
     "inputWidgets": {},
     "nuid": "1799026d-89c8-430a-b5c8-2c8c44e5fabf",
     "showTitle": false,
     "tableResultSettingsMap": {},
     "title": ""
    }
   },
   "source": [
    "### Update crew to consider conversation history"
   ]
  },
  {
   "cell_type": "code",
   "execution_count": 0,
   "metadata": {
    "application/vnd.databricks.v1+cell": {
     "cellMetadata": {
      "byteLimit": 2048000,
      "rowLimit": 10000
     },
     "inputWidgets": {},
     "nuid": "179cdc2d-c66a-4a5c-b72f-20223a6b3cc3",
     "showTitle": false,
     "tableResultSettingsMap": {},
     "title": ""
    }
   },
   "outputs": [],
   "source": [
    "class TriageCrew:\n",
    "    def triage_agent(self) -> Agent:\n",
    "        return Agent(\n",
    "            role=\"triage agent\",\n",
    "            goal=\"analysis customer query and delegate to appropriate specialist, if you cannot \"\n",
    "                    \"identify the goal of query, ask user for clarification\",\n",
    "            backstory=\"The triage agent is responsible for analyzing the customer query and \"\n",
    "                        \"delegate the task to the appropriate agent. If the goal query cannot be \"\n",
    "                        \"identified, ask the user for clarification\",\n",
    "            verbose=False,\n",
    "            tools=[human_input],\n",
    "            llm=llm\n",
    "        )\n",
    "\n",
    "    def triage_task(self) -> Task:\n",
    "        return Task(\n",
    "            description=\"Analyze the customer query: {query} and converstaion history: {conversation_history}\"\n",
    "                        \"route to appropriate specialist:\" \n",
    "                        \"if the customer is asking general insurance policy question return 'policy'\"\n",
    "                        \"if the customer is asking claim related question or their own policy questions, return 'claim'\",\n",
    "            expected_output=\"return the word claim, policy\",\n",
    "            agent=self.triage_agent(),\n",
    "        )\n",
    "\n",
    "    def crew(self) -> Crew:\n",
    "        return Crew(\n",
    "            agents=[self.triage_agent()],\n",
    "            tasks=[self.triage_task()],\n",
    "            memory=False,\n",
    "            verbose=False\n",
    "        )\n",
    "\n",
    "class ClaimCrew:\n",
    "    def claim_agent(self) -> Agent:\n",
    "        return Agent(\n",
    "            role=\"claim agent\",\n",
    "            goal=\"Provide accurate and helpful information about customer policy and claims\",\n",
    "            backstory=\"\"\" You are an insurance claims specialist. \n",
    "                If you are speaking to a customer, you probably were transferred to you from the triage agent.\n",
    "                If the customer does not have a policy number, explain that you need it to access their claim information.\n",
    "\n",
    "                use the search_policy_details_by_policy_number tool to retrieve customer profile and their policy information.\n",
    "                use the search_claim_by_policy_number tool to retrieve claim status and details.\n",
    "                Your job is to:\n",
    "                1. Process customer inquiries related to claims\n",
    "                2. Look up customer profiles or retrieve claim information\n",
    "                3. Provide status updates on existing claims\n",
    "                4. Guide customers through the claims process\n",
    "                \"\"\",\n",
    "            verbose=False,\n",
    "            allow_delegation=False,\n",
    "            tools=[search_claim_details_tool, search_customer_policy_details_tool, human_input],\n",
    "            llm=llm\n",
    "        )\n",
    "\n",
    "    def claim_task(self) -> Task:\n",
    "        return Task(\n",
    "            description=(\n",
    "                \"\"\"Process this claim-related customer request based on: \n",
    "                query: {query} and conversation_history: {conversation_history}\n",
    "\n",
    "                If the customer provided a policy number,\n",
    "                - use the search_policy_details_by_policy_number tool to retrieve customer profile \n",
    "                    and policy information.\n",
    "                - use the search_claim_by_policy_number tool to retrieve existing claim information.\n",
    "                \n",
    "                Provide a helpful, detailed response about their claim. \n",
    "                If the customer did not provide a policy_number, \n",
    "                explain that you need it to access their claim information.\"\"\"\n",
    "            ),\n",
    "            expected_output=\"A helpful response to the customer's claim query\",\n",
    "            agent=self.claim_agent(),\n",
    "        )\n",
    "\n",
    "    def crew(self) -> Crew:\n",
    "        return Crew(\n",
    "            agents=[self.claim_agent()],\n",
    "            tasks=[self.claim_task()],\n",
    "            memory=False,\n",
    "            verbose=False\n",
    "        )\n",
    "\n",
    "class PolicyCrew:\n",
    "    def policy_agent(self) -> Agent:\n",
    "        return Agent(\n",
    "            role=\"policy agent\",\n",
    "            goal=\"asnwer general policy related queries\",\n",
    "            backstory=\"\"\"You are a general policy FAQ agent.\n",
    "\n",
    "                    Your job is to:\n",
    "                    1. Identify the last question asked by the customer. clarify if needed.\n",
    "                    2. Use the search_policy_doc_tool to answer the question. Do not rely on your own knowledge.\"\"\",\n",
    "            verbose=False,\n",
    "            allow_delegation=False,\n",
    "            tools=[search_policy_doc_tool, human_input],\n",
    "            llm=llm\n",
    "        )\n",
    "\n",
    "    def policy_task(self) -> Task:\n",
    "        return Task(\n",
    "            description=\"Answer the general policy related query: {query} and conversation_history: {conversation_history}\",\n",
    "            expected_output=\"answer the general policy queries by using search_policy_doc_tool for document context\",\n",
    "            agent=self.policy_agent()\n",
    "        )\n",
    "\n",
    "    def crew(self) -> Crew:\n",
    "        return Crew(\n",
    "            agents=[self.policy_agent()],\n",
    "            tasks=[self.policy_task()],\n",
    "            memory=False,\n",
    "            verbose=False\n",
    "        )"
   ]
  },
  {
   "cell_type": "code",
   "execution_count": 0,
   "metadata": {
    "application/vnd.databricks.v1+cell": {
     "cellMetadata": {
      "byteLimit": 2048000,
      "rowLimit": 10000
     },
     "inputWidgets": {},
     "nuid": "657c6c55-de72-4ac5-9eb2-7120f21cc00d",
     "showTitle": false,
     "tableResultSettingsMap": {},
     "title": ""
    }
   },
   "outputs": [],
   "source": [
    "from crewai.flow.flow import Flow, listen, router, start\n",
    "from typing import List, Optional\n",
    "from pydantic import BaseModel, Field\n",
    "\n",
    "class ChatMessage(BaseModel):\n",
    "    role: str\n",
    "    content: str\n",
    "\n",
    "\n",
    "class InsuranceOperatorState(BaseModel):\n",
    "    \"\"\"Structured state for the insurance chatbot flow\"\"\"\n",
    "    query: str = \"\"\n",
    "    intent: str = \"\"\n",
    "    conversation_history: List[ChatMessage] = Field(default_factory=list)\n",
    "\n",
    "\n",
    "class InsuranceOperatorFlowStructured(Flow[InsuranceOperatorState]):\n",
    "\n",
    "    @start()\n",
    "    def analyze_query(self):\n",
    "        if self.state.query:\n",
    "            response = TriageCrew().crew().kickoff(inputs={'query': self.state.query, \n",
    "                                                           'conversation_history': self._format_conversation_history()})\n",
    "            self.state.intent = response.raw\n",
    "\n",
    "    @router(analyze_query)\n",
    "    def triage_task(self):\n",
    "        if self.state.intent == 'policy' or self.state.intent == 'Policy':\n",
    "            return \"policy\"\n",
    "        elif self.state.intent == 'claim' or self.state.intent == 'Claim':\n",
    "            return \"claim\"\n",
    "        else:\n",
    "            return \"Cannot identify customer intent\"\n",
    "\n",
    "    @listen(\"claim\")\n",
    "    def claim_question(self):\n",
    "        ClaimCrew().crew().kickoff(inputs={'query': self.state.query,\n",
    "                                           'conversation_history': self._format_conversation_history()})\n",
    "\n",
    "    @listen(\"policy\")\n",
    "    def policy_question(self):\n",
    "        PolicyCrew().crew().kickoff(inputs={'query': self.state.query,\n",
    "                                            'conversation_history': self._format_conversation_history()})\n",
    "\n",
    "\n",
    "    def _format_conversation_history(self):\n",
    "        \"\"\"Format the conversation history for agent context\"\"\"\n",
    "        if not self.state.conversation_history:\n",
    "            return \"No previous conversation.\"\n",
    "\n",
    "        formatted = \"\"\n",
    "        for message in self.state.conversation_history:\n",
    "            formatted += f\"{message.role.capitalize()}: {message.content}\\n\\n\"\n",
    "\n",
    "        return formatted.strip()"
   ]
  },
  {
   "cell_type": "code",
   "execution_count": 0,
   "metadata": {
    "application/vnd.databricks.v1+cell": {
     "cellMetadata": {
      "byteLimit": 2048000,
      "rowLimit": 10000
     },
     "inputWidgets": {},
     "nuid": "9f115553-6d33-4fe2-a9d1-4e56e4c556e4",
     "showTitle": false,
     "tableResultSettingsMap": {},
     "title": ""
    }
   },
   "outputs": [],
   "source": [
    "import nest_asyncio\n",
    "nest_asyncio.apply()\n",
    "\n",
    "flow = InsuranceOperatorFlowStructured()\n",
    "\n",
    "with mlflow.start_span(name=\"insurance_agent\", span_type=\"AGENT\") as span:\n",
    "    print(\"[AGENT] Hello! How may I assist you?\")\n",
    "    while True:\n",
    "        user_input = input(\"[USER]: \")\n",
    "        if user_input.lower() == \"exit\":  # Break loop if user types 'exit'\n",
    "            print(\"[AGENT]: Bye!\")\n",
    "            break\n",
    "        if not user_input:\n",
    "            continue\n",
    "        try:\n",
    "            result = flow.kickoff({\"query\": user_input, \"conversation_history\": []})\n",
    "            print(\"\\n[AGENT]:\", result.raw)\n",
    "        except Exception as e:\n",
    "            print(f\"\\nError occurred: {str(e)}\")"
   ]
  }
 ],
 "metadata": {
  "application/vnd.databricks.v1+notebook": {
   "computePreferences": null,
   "dashboards": [],
   "environmentMetadata": null,
   "inputWidgetPreferences": null,
   "language": "python",
   "notebookMetadata": {
    "pythonIndentUnit": 4
   },
   "notebookName": "06-create-crewAI-multi-agents-flow",
   "widgets": {}
  },
  "kernelspec": {
   "display_name": "Python 3",
   "language": "python",
   "name": "python3"
  },
  "language_info": {
   "name": "python"
  }
 },
 "nbformat": 4,
 "nbformat_minor": 0
}
