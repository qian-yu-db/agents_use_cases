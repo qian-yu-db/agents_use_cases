{
 "cells": [
  {
   "cell_type": "code",
   "execution_count": 0,
   "metadata": {
    "application/vnd.databricks.v1+cell": {
     "cellMetadata": {},
     "inputWidgets": {},
     "nuid": "18d9d38f-0efd-4f6d-b405-b089c09f9c67",
     "showTitle": false,
     "tableResultSettingsMap": {},
     "title": ""
    }
   },
   "outputs": [],
   "source": [
    "%pip install openai -q -U\n",
    "%pip install Faker -q\n",
    "dbutils.library.restartPython()"
   ]
  },
  {
   "cell_type": "code",
   "execution_count": 0,
   "metadata": {
    "application/vnd.databricks.v1+cell": {
     "cellMetadata": {},
     "inputWidgets": {},
     "nuid": "4a5bb768-27c5-4383-927f-02278aae4dce",
     "showTitle": false,
     "tableResultSettingsMap": {},
     "title": ""
    }
   },
   "outputs": [],
   "source": [
    "%run ./00-config"
   ]
  },
  {
   "cell_type": "code",
   "execution_count": 0,
   "metadata": {
    "application/vnd.databricks.v1+cell": {
     "cellMetadata": {},
     "inputWidgets": {},
     "nuid": "1a5b1cad-5af4-4797-ab3e-57cb2ef8b7ca",
     "showTitle": false,
     "tableResultSettingsMap": {},
     "title": ""
    }
   },
   "outputs": [],
   "source": [
    "from openai import OpenAI\n",
    "import os\n",
    "\n",
    "DATABRICKS_TOKEN = dbutils.notebook.entry_point.getDbutils().notebook().getContext().apiToken().get()\n",
    "\n",
    "client = OpenAI(\n",
    "  api_key=DATABRICKS_TOKEN,\n",
    "  base_url=\"https://e2-demo-field-eng.cloud.databricks.com/serving-endpoints\"\n",
    ")"
   ]
  },
  {
   "cell_type": "markdown",
   "metadata": {
    "application/vnd.databricks.v1+cell": {
     "cellMetadata": {},
     "inputWidgets": {},
     "nuid": "9e97449c-2ee3-4e27-8aed-a78ef26ce568",
     "showTitle": false,
     "tableResultSettingsMap": {},
     "title": ""
    }
   },
   "source": [
    "# Add Income Level and Age Range to Demographic Table"
   ]
  },
  {
   "cell_type": "code",
   "execution_count": 0,
   "metadata": {
    "application/vnd.databricks.v1+cell": {
     "cellMetadata": {},
     "inputWidgets": {},
     "nuid": "01a92cb0-5af5-49c3-800d-92264ee3cc17",
     "showTitle": false,
     "tableResultSettingsMap": {},
     "title": ""
    }
   },
   "outputs": [],
   "source": [
    "df_demo = spark.table(\"customer_demographics\")\n",
    "display(df_demo)"
   ]
  },
  {
   "cell_type": "code",
   "execution_count": 0,
   "metadata": {
    "application/vnd.databricks.v1+cell": {
     "cellMetadata": {},
     "inputWidgets": {},
     "nuid": "ce0a33c7-21d9-45b2-b109-1629925ea183",
     "showTitle": false,
     "tableResultSettingsMap": {},
     "title": ""
    }
   },
   "outputs": [],
   "source": [
    "df_demo_pd = df_demo.toPandas()\n",
    "df_demo_pd.head()"
   ]
  },
  {
   "cell_type": "code",
   "execution_count": 0,
   "metadata": {
    "application/vnd.databricks.v1+cell": {
     "cellMetadata": {},
     "inputWidgets": {},
     "nuid": "8dab835e-0cac-4d39-ab4b-e00a60bba1b3",
     "showTitle": false,
     "tableResultSettingsMap": {},
     "title": ""
    }
   },
   "outputs": [],
   "source": [
    "df_demo_pd['Education'].value_counts()"
   ]
  },
  {
   "cell_type": "code",
   "execution_count": 0,
   "metadata": {
    "application/vnd.databricks.v1+cell": {
     "cellMetadata": {},
     "inputWidgets": {},
     "nuid": "9f601f8f-4b74-4714-a421-d4896494208f",
     "showTitle": false,
     "tableResultSettingsMap": {},
     "title": ""
    }
   },
   "outputs": [],
   "source": [
    "import random\n",
    "\n",
    "def add_income(edu):\n",
    "    if edu == 'Bachelors':\n",
    "        return random.choice(['low', 'mid', 'high'])\n",
    "    elif edu == 'Masters':\n",
    "        return random.choice(['high', 'mid'])\n",
    "    elif edu == 'High School':\n",
    "        return random.choice(['low', 'mid'])\n",
    "    else:\n",
    "        return random.choice(['mid', 'high'])\n",
    "\n",
    "df_demo_pd['Income'] = df_demo_pd['Education'].apply(add_income)\n",
    "df_demo_pd.head()"
   ]
  },
  {
   "cell_type": "code",
   "execution_count": 0,
   "metadata": {
    "application/vnd.databricks.v1+cell": {
     "cellMetadata": {},
     "inputWidgets": {},
     "nuid": "b56fb3ec-e4eb-486f-b8d6-92f2decf2395",
     "showTitle": false,
     "tableResultSettingsMap": {},
     "title": ""
    }
   },
   "outputs": [],
   "source": [
    "df_new = spark.sql(\n",
    "    \"\"\"\n",
    "    select\n",
    "    *,\n",
    "    case when age < 30 then '18 to 30' \n",
    "         when age < 45 then '30 to 45' \n",
    "         when age < 60 then '45 to 60'\n",
    "         else '60 to 90'\n",
    "     end as age_range\n",
    "    from customer_demographics\n",
    "    \"\"\"\n",
    ")\n",
    "print(df_new.count())\n",
    "display(df_new)"
   ]
  },
  {
   "cell_type": "code",
   "execution_count": 0,
   "metadata": {
    "application/vnd.databricks.v1+cell": {
     "cellMetadata": {},
     "inputWidgets": {},
     "nuid": "f12f3714-9a81-4cbf-b7e1-000c3ee36630",
     "showTitle": false,
     "tableResultSettingsMap": {},
     "title": ""
    }
   },
   "outputs": [],
   "source": [
    "df_new.write \\\n",
    "    .mode('overwrite') \\\n",
    "    .option(\"overwriteSchema\", \"true\") \\\n",
    "    .saveAsTable('customer_demographics')"
   ]
  },
  {
   "cell_type": "markdown",
   "metadata": {
    "application/vnd.databricks.v1+cell": {
     "cellMetadata": {},
     "inputWidgets": {},
     "nuid": "fcee536f-ec67-461b-80f0-6974a729c293",
     "showTitle": false,
     "tableResultSettingsMap": {},
     "title": ""
    }
   },
   "source": [
    "\n",
    "# Define Customer Segments\n",
    "\n",
    "* Gender\n",
    "* Income\n",
    "* Education Level"
   ]
  },
  {
   "cell_type": "code",
   "execution_count": 0,
   "metadata": {
    "application/vnd.databricks.v1+cell": {
     "cellMetadata": {},
     "inputWidgets": {},
     "nuid": "b8c30982-1078-4a2d-8d71-877a14244d68",
     "showTitle": false,
     "tableResultSettingsMap": {},
     "title": ""
    }
   },
   "outputs": [],
   "source": [
    "def generate_prompt_tempates(gender, \n",
    "                             income,\n",
    "                             age_range, \n",
    "                             education,\n",
    "                             model=\"databricks-meta-llama-3-1-70b-instruct\"):\n",
    "    \n",
    "    prompt_template = f\"\"\"\n",
    "    Generate a LLM prompt to be used in a RAG application for customer service based on the demographic of a {age_range} year old, {education} educated, {income} income {gender} gender.\n",
    "\n",
    "    the prompte should enable LLM to give hyper personalized response with the given demographics.\n",
    "    \n",
    "    only return the prompt, do not explain\n",
    "    \"\"\"\n",
    "\n",
    "    messages = [\n",
    "        {'role': 'system', 'content': \"You are a helpful assistant.\"},\n",
    "        {'role': 'user', 'content': prompt_template} \n",
    "        ]\n",
    "\n",
    "    response = client.chat.completions.create(\n",
    "        model=model,\n",
    "        messages=messages\n",
    "    )\n",
    "    return response.choices[0].message.content"
   ]
  },
  {
   "cell_type": "code",
   "execution_count": 0,
   "metadata": {
    "application/vnd.databricks.v1+cell": {
     "cellMetadata": {},
     "inputWidgets": {},
     "nuid": "9b479970-7b99-4e1f-8bac-2c0eafd94c83",
     "showTitle": false,
     "tableResultSettingsMap": {},
     "title": ""
    }
   },
   "outputs": [],
   "source": [
    "df_segments = spark.sql(\n",
    "    \"\"\"\n",
    "    select\n",
    "    distinct \n",
    "    gender,\n",
    "    case when age < 30 then '18 to 30' \n",
    "         when age < 45 then '30 to 45' \n",
    "         when age < 60 then '45 to 60'\n",
    "         else '60 to 90'\n",
    "     end as age_range,\n",
    "    income,\n",
    "    education\n",
    "    from customer_demographics\n",
    "    \"\"\"\n",
    ")\n",
    "print(df_segments.count())\n",
    "display(df_segments)"
   ]
  },
  {
   "cell_type": "code",
   "execution_count": 0,
   "metadata": {
    "application/vnd.databricks.v1+cell": {
     "cellMetadata": {},
     "inputWidgets": {},
     "nuid": "a293caac-00ba-4070-b29b-d0727e9e28e4",
     "showTitle": false,
     "tableResultSettingsMap": {},
     "title": ""
    }
   },
   "outputs": [],
   "source": [
    "df_segments_pd = df_segments.toPandas()\n",
    "for index, row in df_segments_pd.iterrows():\n",
    "    df_segments_pd.at[index, 'prompt_template'] = generate_prompt_tempates(row['gender'], \n",
    "                                                                           row['age_range'],\n",
    "                                                                           row['income'], \n",
    "                                                                           row['education'])"
   ]
  },
  {
   "cell_type": "code",
   "execution_count": 0,
   "metadata": {
    "application/vnd.databricks.v1+cell": {
     "cellMetadata": {},
     "inputWidgets": {},
     "nuid": "7bf582b7-09c9-46c0-b949-4245de57564f",
     "showTitle": false,
     "tableResultSettingsMap": {},
     "title": ""
    }
   },
   "outputs": [],
   "source": [
    "display(df_segments_pd)"
   ]
  },
  {
   "cell_type": "code",
   "execution_count": 0,
   "metadata": {
    "application/vnd.databricks.v1+cell": {
     "cellMetadata": {},
     "inputWidgets": {},
     "nuid": "b82b02ba-55ac-4181-9d68-b1060d1c7480",
     "showTitle": false,
     "tableResultSettingsMap": {},
     "title": ""
    }
   },
   "outputs": [],
   "source": [
    "from pyspark.sql.functions import regexp_replace, trim\n",
    "\n",
    "#df = spark.createDataFrame(df_segments_pd)\n",
    "df_new = df.withColumn(\"prompt_template\", trim(regexp_replace(\"prompt_template\", \"Here is.*prompt:|Here is a potential prompt.*:\", \"\")))\n",
    "display(df_new)"
   ]
  },
  {
   "cell_type": "code",
   "execution_count": 0,
   "metadata": {
    "application/vnd.databricks.v1+cell": {
     "cellMetadata": {},
     "inputWidgets": {},
     "nuid": "1c27a060-c61a-4c4d-b9a6-46ae69b80905",
     "showTitle": false,
     "tableResultSettingsMap": {},
     "title": ""
    }
   },
   "outputs": [],
   "source": [
    "df_new.write \\\n",
    "    .mode(\"overwrite\") \\\n",
    "    .option(\"overwriteSchema\", \"true\") \\\n",
    "    .saveAsTable(\"prompt_personas\")"
   ]
  },
  {
   "cell_type": "markdown",
   "metadata": {
    "application/vnd.databricks.v1+cell": {
     "cellMetadata": {},
     "inputWidgets": {},
     "nuid": "27f4bde2-ae13-40df-8ba6-1d97f3a067ce",
     "showTitle": false,
     "tableResultSettingsMap": {},
     "title": ""
    }
   },
   "source": [
    "# Test UC function of create prompt tempates"
   ]
  },
  {
   "cell_type": "code",
   "execution_count": 0,
   "metadata": {
    "application/vnd.databricks.v1+cell": {
     "cellMetadata": {},
     "inputWidgets": {},
     "nuid": "d9afd590-2b55-4d48-87b8-55766da6cecf",
     "showTitle": false,
     "tableResultSettingsMap": {},
     "title": ""
    }
   },
   "outputs": [],
   "source": [
    "%sql\n",
    "CREATE OR REPLACE FUNCTION qyu_test.experian.get_personalized_product_description(gender STRING, age_range STRING, income STRING, education STRING, occupation STRING)\n",
    "RETURNS STRING\n",
    "LANGUAGE SQL\n",
    "COMMENT 'This functions generate a persona description based on a customer gendar, age_range, income, education, and occupation.'\n",
    "RETURN SELECT ai_query('databricks-meta-llama-3-1-70b-instruct',\n",
    "  CONCAT(\"You are an specialist in personal finance and credit. Your goal is to write a description of product or service needs of a customer demographic persona in 2 to 3 sentences. The customer is \", age_range, \" year old \", education, \" educated \", gender, \" who works as \", occupation, \" and earns \", income, \" income in a household.\") \n",
    "  ) as persona_description;\n",
    "\n",
    "select get_personalized_product_description('Female', '30 to 45', 'low', 'Bachelor', 'music teacher')"
   ]
  },
  {
   "cell_type": "code",
   "execution_count": 0,
   "metadata": {
    "application/vnd.databricks.v1+cell": {
     "cellMetadata": {},
     "inputWidgets": {},
     "nuid": "84ccc239-5b7e-45ca-86e1-7fee84039416",
     "showTitle": false,
     "tableResultSettingsMap": {},
     "title": ""
    }
   },
   "outputs": [],
   "source": [
    "%sql\n",
    "select\n",
    "*\n",
    "from products"
   ]
  },
  {
   "cell_type": "code",
   "execution_count": 0,
   "metadata": {
    "application/vnd.databricks.v1+cell": {
     "cellMetadata": {},
     "inputWidgets": {},
     "nuid": "46bd44b9-5b15-4b43-a349-d5f42fba7970",
     "showTitle": false,
     "tableResultSettingsMap": {},
     "title": ""
    }
   },
   "outputs": [],
   "source": []
  }
 ],
 "metadata": {
  "application/vnd.databricks.v1+notebook": {
   "computePreferences": null,
   "dashboards": [],
   "environmentMetadata": null,
   "inputWidgetPreferences": null,
   "language": "python",
   "notebookMetadata": {
    "pythonIndentUnit": 4
   },
   "notebookName": "01-create-prompt-template-by-demographic",
   "widgets": {}
  },
  "language_info": {
   "name": "python"
  }
 },
 "nbformat": 4,
 "nbformat_minor": 0
}
