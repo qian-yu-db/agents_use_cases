{
 "cells": [
  {
   "metadata": {},
   "cell_type": "code",
   "outputs": [],
   "execution_count": null,
   "source": [
    "import mlflow\n",
    "from bs4.diagnose import profile\n",
    "from dotenv import load_dotenv\n",
    "from databricks.connect import DatabricksSession\n",
    "\n",
    "spark = DatabricksSession.builder.getOrCreate()\n",
    "load_dotenv('../.env')\n",
    "\n",
    "local = True\n",
    "if local:\n",
    "    # local mlflow setup\n",
    "    mlflow.set_tracking_uri(\"http://localhost:5000\")\n",
    "    mlflow.set_registry_uri(\"http://localhost:5000\")\n",
    "else:\n",
    "    mlflow.set_tracking_uri(\"databricks\")\n",
    "    mlflow.set_registry_uri(\"databricks-uc\")\n",
    "\n",
    "mlflow.set_experiment(\"langgraph_workflow_local_dev\")\n",
    "mlflow.langchain.autolog()"
   ],
   "id": "2e283c8ee1087ed3"
  },
  {
   "metadata": {},
   "cell_type": "code",
   "outputs": [],
   "execution_count": null,
   "source": [
    "from unitycatalog.ai.core.base import set_uc_function_client\n",
    "from unitycatalog.ai.core.databricks import DatabricksFunctionClient\n",
    "\n",
    "client = DatabricksFunctionClient()\n",
    "set_uc_function_client(client)\n",
    "\n",
    "CATALOG = 'fins_genai'\n",
    "SCHEMA = 'agents'"
   ],
   "id": "5a5feaf7bbc7924d"
  },
  {
   "metadata": {},
   "cell_type": "markdown",
   "source": "# Create Sequence of Steps",
   "id": "7a49856b970b1fac"
  },
  {
   "metadata": {},
   "cell_type": "code",
   "outputs": [],
   "execution_count": null,
   "source": [
    "from typing import Any, Generator, Optional, Sequence, Union, Annotated\n",
    "from typing_extensions import TypedDict\n",
    "from langchain_core.language_models import LanguageModelLike\n",
    "from langchain_core.runnables import RunnableConfig, RunnableLambda\n",
    "from langchain_core.tools import BaseTool\n",
    "from langgraph.graph import START, END, StateGraph\n",
    "from langgraph.graph.graph import CompiledGraph\n",
    "from langgraph.graph.state import CompiledStateGraph\n",
    "from langgraph.prebuilt.tool_node import ToolNode\n",
    "from mlflow.langchain.chat_agent_langgraph import ChatAgentState, ChatAgentToolNode\n",
    "from mlflow.pyfunc import ChatAgent\n",
    "from mlflow.types.agent import (\n",
    "    ChatAgentChunk,\n",
    "    ChatAgentMessage,\n",
    "    ChatAgentResponse,\n",
    "    ChatContext,\n",
    ")"
   ],
   "id": "d1fd3270cf49cc74"
  },
  {
   "metadata": {},
   "cell_type": "code",
   "outputs": [],
   "execution_count": null,
   "source": [
    "class State(TypedDict):\n",
    "    model: Annotated[str, \"model name\"]\n",
    "    plan: Annotated[str, \"document outline\"]\n",
    "    draft: Annotated[str, \"document draft\"]\n",
    "    final_doc: Annotated[str, \"final document\"]\n",
    "\n",
    "\n"
   ],
   "id": "cf2e8bfd74d9d67c"
  }
 ],
 "metadata": {},
 "nbformat": 4,
 "nbformat_minor": 5
}
