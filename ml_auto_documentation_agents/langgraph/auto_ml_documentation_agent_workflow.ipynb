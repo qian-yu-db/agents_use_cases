{
 "cells": [
  {
   "cell_type": "markdown",
   "metadata": {
    "application/vnd.databricks.v1+cell": {
     "cellMetadata": {},
     "inputWidgets": {},
     "nuid": "58635464-8094-4a92-b7b4-0618fb8e92fb",
     "showTitle": false,
     "tableResultSettingsMap": {},
     "title": ""
    }
   },
   "source": [
    "# This Notebook is to Experiment LangGraph Agents\n",
    "\n",
    "The Sequential Tasks are:\n",
    "- Collect Model information from MLFlow run\n",
    "- Collect the notebook information\n",
    "- Write a ML document draft\n",
    "- Review the draft and create a final version"
   ]
  },
  {
   "cell_type": "code",
   "execution_count": 0,
   "metadata": {
    "application/vnd.databricks.v1+cell": {
     "cellMetadata": {
      "byteLimit": 2048000,
      "rowLimit": 10000
     },
     "inputWidgets": {},
     "nuid": "2c6a034e-4784-46d6-96c6-ac0bd3c8e5d8",
     "showTitle": false,
     "tableResultSettingsMap": {},
     "title": ""
    }
   },
   "outputs": [],
   "source": [
    "%pip install -r ../../requirements.txt --quiet\n",
    "%restart_python"
   ]
  },
  {
   "cell_type": "code",
   "metadata": {
    "application/vnd.databricks.v1+cell": {
     "cellMetadata": {
      "byteLimit": 2048000,
      "rowLimit": 10000
     },
     "inputWidgets": {},
     "nuid": "6b8de65b-bee0-4390-b392-06051717c3c0",
     "showTitle": false,
     "tableResultSettingsMap": {},
     "title": ""
    },
    "ExecuteTime": {
     "end_time": "2025-05-13T05:44:00.571453Z",
     "start_time": "2025-05-13T05:44:00.468935Z"
    }
   },
   "source": [
    "%load_ext autoreload\n",
    "%autoreload 2"
   ],
   "outputs": [],
   "execution_count": 1
  },
  {
   "cell_type": "code",
   "metadata": {
    "application/vnd.databricks.v1+cell": {
     "cellMetadata": {
      "byteLimit": 2048000,
      "rowLimit": 10000
     },
     "inputWidgets": {},
     "nuid": "c2aa171e-2df5-4412-9e42-2ca2d765dae8",
     "showTitle": false,
     "tableResultSettingsMap": {},
     "title": ""
    },
    "ExecuteTime": {
     "end_time": "2025-05-13T05:44:07.338659Z",
     "start_time": "2025-05-13T05:44:04.215450Z"
    }
   },
   "source": [
    "from databricks.connect import DatabricksSession\n",
    "from dotenv import load_dotenv\n",
    "import os\n",
    "import mlflow\n",
    "import warnings\n",
    "\n",
    "# import from shared helper which s 2 level above\n",
    "import importlib\n",
    "\n",
    "shared = importlib.import_module(\"shared\")\n",
    "from shared.helper import *\n",
    "\n",
    "in_workspace = is_running_in_databricks()\n",
    "global_config = get_global_config(\"../../global_config/databricks_config.yaml\")\n",
    "\n",
    "if not in_workspace:\n",
    "    print(\"running locally ...\")\n",
    "    from databricks.connect import DatabricksSession\n",
    "    from dotenv import load_dotenv\n",
    "\n",
    "    spark = DatabricksSession.builder.getOrCreate()\n",
    "    load_dotenv(\"../../.env\")\n",
    "\n",
    "    DATABRICKS_HOST = os.getenv(\"host\")\n",
    "    DATABRICKS_TOKEN = os.getenv(\"token\")\n",
    "    OPENAI_API_KEY = os.getenv(\"OPENAI_API_KEY\")\n",
    "\n",
    "    # local mlflow setup\n",
    "    mlflow.set_tracking_uri(\"http://localhost:5000\")\n",
    "    mlflow.set_registry_uri(\"http://localhost:5000\")\n",
    "    mlflow.set_experiment(\"langgraph_agent_experiments\")\n",
    "else:\n",
    "    print(\"running in workspace ...\")\n",
    "    DATABRICKS_HOST = (\n",
    "        dbutils.notebook.entry_point.getDbutils().notebook().getContext().apiUrl().get()\n",
    "    )\n",
    "    DATABRICKS_TOKEN = (\n",
    "        dbutils.notebook.entry_point.getDbutils()\n",
    "        .notebook()\n",
    "        .getContext()\n",
    "        .apiToken()\n",
    "        .getOrElse(None)\n",
    "    )\n",
    "    os.environ[\"OPENAI_API_KEY\"] = dbutils.secrets.get(\n",
    "        scope=\"databricks_token_qyu\", key=\"OpenAi\"\n",
    "    )\n",
    "    mlflow.set_tracking_uri(\"databricks\")\n",
    "    mlflow.set_registry_uri(\"databricks-uc\")\n",
    "    mlflow.set_experiment(\n",
    "        \"/Users/q.yu@databricks.com/ML_experiments/auto_ml_document_agents\"\n",
    "    )\n",
    "\n",
    "\n",
    "print(f\"host: {DATABRICKS_HOST}\")"
   ],
   "outputs": [
    {
     "name": "stderr",
     "output_type": "stream",
     "text": [
      "INFO:helper:{'catalog': 'fins_genai', 'schema_agents': 'agents', 'schema_insurance_agents': 'insurance_agent', 'llm_endpoint_llama3p3_70B': 'databricks/databricks-meta-llama-3-3-70b-instruct', 'llm_endpoint_llama4_maverick': 'databricks/databricks-llama-4-maverick', 'llm_endpoint_sonnet_3p7': 'databricks/databricks-claude-3-7-sonnet'}\n",
      "INFO:databricks.sdk:loading DEFAULT profile from ~/.databrickscfg: host, serverless_compute_id, connection_timeout_seconds, token\n"
     ]
    },
    {
     "name": "stdout",
     "output_type": "stream",
     "text": [
      "running locally ...\n",
      "host: adb-984752964297111.11.azuredatabricks.net\n"
     ]
    }
   ],
   "execution_count": 2
  },
  {
   "cell_type": "markdown",
   "metadata": {
    "application/vnd.databricks.v1+cell": {
     "cellMetadata": {},
     "inputWidgets": {},
     "nuid": "d0c3593b-7a01-455d-805a-2d351924446c",
     "showTitle": false,
     "tableResultSettingsMap": {},
     "title": ""
    }
   },
   "source": [
    "## Set the ML Model"
   ]
  },
  {
   "cell_type": "code",
   "metadata": {
    "application/vnd.databricks.v1+cell": {
     "cellMetadata": {
      "byteLimit": 2048000,
      "rowLimit": 10000
     },
     "inputWidgets": {},
     "nuid": "0bc44860-fe69-4e87-ac9b-7ebc16474491",
     "showTitle": false,
     "tableResultSettingsMap": {},
     "title": ""
    },
    "ExecuteTime": {
     "end_time": "2025-05-13T05:44:09.273061Z",
     "start_time": "2025-05-13T05:44:09.126431Z"
    }
   },
   "source": [
    "from unitycatalog.ai.core.base import set_uc_function_client\n",
    "from unitycatalog.ai.core.databricks import DatabricksFunctionClient\n",
    "\n",
    "client = DatabricksFunctionClient()\n",
    "set_uc_function_client(client)\n",
    "\n",
    "CATALOG = \"qyu\"\n",
    "SCHEMA = \"dbdemos_fs_travel\"\n",
    "model = \"dbdemos_fs_travel_model\""
   ],
   "outputs": [
    {
     "name": "stderr",
     "output_type": "stream",
     "text": [
      "INFO:databricks.sdk:loading DEFAULT profile from ~/.databrickscfg: host, serverless_compute_id, connection_timeout_seconds, token\n"
     ]
    }
   ],
   "execution_count": 3
  },
  {
   "cell_type": "markdown",
   "metadata": {
    "application/vnd.databricks.v1+cell": {
     "cellMetadata": {},
     "inputWidgets": {},
     "nuid": "b318d7c8-f2e4-4c62-9500-1b61564233fb",
     "showTitle": false,
     "tableResultSettingsMap": {},
     "title": ""
    }
   },
   "source": [
    "## Create LangGraph Agents"
   ]
  },
  {
   "cell_type": "code",
   "metadata": {
    "application/vnd.databricks.v1+cell": {
     "cellMetadata": {
      "byteLimit": 2048000,
      "rowLimit": 10000
     },
     "inputWidgets": {},
     "nuid": "f2ed0608-d8ca-4b91-b775-8344e6af9a86",
     "showTitle": false,
     "tableResultSettingsMap": {},
     "title": ""
    },
    "ExecuteTime": {
     "end_time": "2025-05-13T05:44:16.756409Z",
     "start_time": "2025-05-13T05:44:14.425643Z"
    }
   },
   "source": [
    "from typing import Any, Generator, Optional, Sequence, Union, TypedDict, Dict, List\n",
    "\n",
    "import mlflow\n",
    "from databricks_langchain import ChatDatabricks, VectorSearchRetrieverTool\n",
    "from databricks_langchain.uc_ai import (\n",
    "    DatabricksFunctionClient,\n",
    "    UCFunctionToolkit,\n",
    "    set_uc_function_client,\n",
    ")\n",
    "from langchain_core.language_models import LanguageModelLike\n",
    "from langchain_core.runnables import RunnableConfig, RunnableLambda\n",
    "from langchain_core.messages import HumanMessage, AIMessage, BaseMessage, SystemMessage\n",
    "from langchain_core.tools import BaseTool\n",
    "from langchain_core.documents import Document\n",
    "from langgraph.graph import END, StateGraph, START\n",
    "from langgraph.graph.graph import CompiledGraph\n",
    "from langgraph.graph.state import CompiledStateGraph\n",
    "from mlflow.langchain.chat_agent_langgraph import ChatAgentState, ChatAgentToolNode\n",
    "from mlflow.pyfunc import ChatAgent\n",
    "from mlflow.types.agent import (\n",
    "    ChatAgentChunk,\n",
    "    ChatAgentMessage,\n",
    "    ChatAgentResponse,\n",
    "    ChatContext,\n",
    ")\n",
    "\n",
    "mlflow.langchain.autolog()"
   ],
   "outputs": [],
   "execution_count": 4
  },
  {
   "cell_type": "code",
   "metadata": {
    "application/vnd.databricks.v1+cell": {
     "cellMetadata": {
      "byteLimit": 2048000,
      "rowLimit": 10000
     },
     "inputWidgets": {},
     "nuid": "4b24cc37-2e9d-4368-beba-58c2f3dfbb2c",
     "showTitle": false,
     "tableResultSettingsMap": {},
     "title": ""
    },
    "ExecuteTime": {
     "end_time": "2025-05-13T05:44:16.786310Z",
     "start_time": "2025-05-13T05:44:16.763185Z"
    }
   },
   "source": [
    "############################################\n",
    "# Define your LLM endpoint and system prompt\n",
    "############################################\n",
    "LLM_ENDPOINT_NAME = \"databricks-meta-llama-3-3-70b-instruct\"\n",
    "LLM = ChatDatabricks(endpoint=LLM_ENDPOINT_NAME)\n",
    "\n",
    "# Prompts\n",
    "WRITTER_PROMPT = \"\"\"\n",
    "      You are a technical document writer with experience in creating detailed technical document\n",
    "       for machine learning models. You are skilled in organizing complex information and\n",
    "      presenting it in a clear and concise manner. You use content from machine learning\n",
    "      notebooks, model experiment run information, model explainability plots, model artifacts\n",
    "      files to craft the detailed machine learning technical document. Always remember:\n",
    "      1. Make sure section titles and subtitles are properly named\n",
    "      2. Have a hign-level description for each section before the technical details\n",
    "      3. Use markdown format for writting the document\n",
    "\"\"\"\n",
    "\n",
    "REVIEWER_PROMPT = \"\"\"\n",
    "      You are a technical document editor with experience in editing machine learning technical\n",
    "      documents. You are skilled in reviewing and refining content to ensure accuracy, clarity,\n",
    "      and consistency. You write the edited technical document and produce a final version of the document.\n",
    "      always remember:\n",
    "      1. check for grammar, style and accuracy\n",
    "      2. Ensure that the document is well-structured and easy to follow\n",
    "      3. Use markdown format for writing the document\n",
    "\"\"\""
   ],
   "outputs": [
    {
     "name": "stderr",
     "output_type": "stream",
     "text": [
      "/var/folders/b3/rdsklr3d0s1f_fzq3pg5try40000gp/T/ipykernel_3579/2887279029.py:5: DeprecationWarning: Currently, temperature defaults to 0.0 if not specified. In the next release, temperature will need to be explicitly set. Please update your code to specify a temperature value. Note: If you are using an o1 or o3 model, you need to set temperature=None.\n",
      "  LLM = ChatDatabricks(endpoint=LLM_ENDPOINT_NAME)\n"
     ]
    }
   ],
   "execution_count": 5
  },
  {
   "cell_type": "markdown",
   "metadata": {
    "application/vnd.databricks.v1+cell": {
     "cellMetadata": {},
     "inputWidgets": {},
     "nuid": "f3890204-f19e-4969-96be-bccaa9dd7066",
     "showTitle": false,
     "tableResultSettingsMap": {},
     "title": ""
    }
   },
   "source": [
    "### Create Sequential Workflow"
   ]
  },
  {
   "cell_type": "code",
   "metadata": {
    "application/vnd.databricks.v1+cell": {
     "cellMetadata": {
      "byteLimit": 2048000,
      "rowLimit": 10000
     },
     "inputWidgets": {},
     "nuid": "b3162123-a022-4e64-ae02-b420c93f304c",
     "showTitle": false,
     "tableResultSettingsMap": {},
     "title": ""
    },
    "ExecuteTime": {
     "end_time": "2025-05-13T05:44:19.794014Z",
     "start_time": "2025-05-13T05:44:19.464688Z"
    }
   },
   "source": [
    "from model_artifacts_organizer import ModelArtifactOrganizer\n",
    "from file_management_utils import recursive_file_loader\n",
    "\n",
    "\n",
    "# Step 1\n",
    "def collect_ml_document_content(state: ChatAgentState) -> dict:\n",
    "    \"\"\"Process the content organization.\"\"\"\n",
    "    model_artifacts_organizer = ModelArtifactOrganizer(\n",
    "        catalog=state[\"custom_inputs\"][\"catalog\"],\n",
    "        schema=state[\"custom_inputs\"][\"schema\"],\n",
    "        model=state[\"custom_inputs\"][\"model\"],\n",
    "    )\n",
    "    # Collect ML model assets\n",
    "    artifact_volume_path = model_artifacts_organizer.collect_mlflow_artifacts()\n",
    "\n",
    "    # Create model attributes table, notebook, and image markdown\n",
    "    model_artifacts_organizer.create_model_attributes_md()\n",
    "    model_artifacts_organizer.notebook_to_md()\n",
    "    model_artifacts_organizer.image_file_to_md()\n",
    "\n",
    "    # Collect content source files\n",
    "    doc_contents = recursive_file_loader(artifact_volume_path)\n",
    "    messages = [\n",
    "        {\"role\": \"system\", \"content\": \"You are a MLops experts\"},\n",
    "        {\n",
    "            \"role\": \"user\",\n",
    "            \"content\": \"Collected ML model assets, generated model \"\n",
    "            \"attributes table, notebook, and image markdown.\",\n",
    "        },\n",
    "    ]\n",
    "\n",
    "    # Create a summary of all files\n",
    "    files_content = \"\\n\\n\".join(\n",
    "        [\n",
    "            f\"File: {doc.metadata['relative_path']}\\nType: {doc.metadata['file_type']}\\nContent: {doc.page_content}\"\n",
    "            for doc in doc_contents\n",
    "        ]\n",
    "    )\n",
    "    custom_outputs = state.get(\"custom_outputs\", {}).copy()\n",
    "    custom_outputs[\"source_contents\"] = files_content\n",
    "    state[\"custom_outputs\"] = {}\n",
    "    state[\"custom_outputs\"][\"source_contents\"] = files_content\n",
    "    messages.append({\"role\": \"assistant\", \"content\": files_content})\n",
    "\n",
    "    return {\"messages\": messages, \"custom_outputs\": custom_outputs}\n",
    "\n",
    "\n",
    "# Step 2\n",
    "def write_doc_draft(state: ChatAgentState) -> dict:\n",
    "    \"\"\"write the ml document draft\"\"\"\n",
    "\n",
    "    files_content = state.get(\"custom_outputs\", {}).get(\n",
    "        \"source_contents\", \"No content found\"\n",
    "    )\n",
    "    content_message = {\n",
    "        \"role\": \"user\",\n",
    "        \"content\": f\"Here is the content of the files: {files_content}\",\n",
    "    }\n",
    "\n",
    "    # Generate the outline\n",
    "    messages = [{\"role\": \"system\", \"content\": WRITTER_PROMPT}] + [content_message]\n",
    "    response = LLM.invoke(messages)\n",
    "\n",
    "    custom_outputs = state.get(\"custom_outputs\", {}).copy()\n",
    "    custom_outputs[\"document_draft\"] = response.content\n",
    "    state[\"custom_outputs\"][\"document_draft\"] = response.content\n",
    "\n",
    "    return {\n",
    "        \"messages\": [{\"role\": \"assistant\", \"content\": response.content}],\n",
    "        \"custom_outputs\": custom_outputs,\n",
    "    }\n",
    "\n",
    "\n",
    "# Step 3\n",
    "def review_doc_draft(state: ChatAgentState, config: RunnableConfig) -> dict:\n",
    "    \"\"\"review the ml document draft and write the final version\"\"\"\n",
    "\n",
    "    doc_draft = state.get(\"custom_outputs\", {}).get(\n",
    "        \"document_draft\", \"No draft available\"\n",
    "    )\n",
    "    draft_message = {\n",
    "        \"role\": \"user\",\n",
    "        \"content\": f\"Here is the draft of the ml document: {doc_draft}\",\n",
    "    }\n",
    "    # Generate the outline\n",
    "    messages = [{\"role\": \"system\", \"content\": REVIEWER_PROMPT}] + [draft_message]\n",
    "    response = LLM.invoke(messages)\n",
    "\n",
    "    custom_outputs = state.get(\"custom_outputs\", {}).copy()\n",
    "    custom_outputs[\"final_document\"] = response.content\n",
    "    state[\"custom_outputs\"][\"final_document\"] = response.content\n",
    "\n",
    "    return {\n",
    "        \"messages\": [{\"role\": \"assistant\", \"content\": response.content}],\n",
    "        \"custom_outputs\": custom_outputs,\n",
    "    }"
   ],
   "outputs": [],
   "execution_count": 6
  },
  {
   "cell_type": "code",
   "metadata": {
    "application/vnd.databricks.v1+cell": {
     "cellMetadata": {
      "byteLimit": 2048000,
      "rowLimit": 10000
     },
     "inputWidgets": {},
     "nuid": "257a5686-cdaa-4d6d-b463-38658a1141c0",
     "showTitle": false,
     "tableResultSettingsMap": {},
     "title": ""
    },
    "ExecuteTime": {
     "end_time": "2025-05-13T05:44:23.686944Z",
     "start_time": "2025-05-13T05:44:23.648066Z"
    }
   },
   "source": [
    "workflow = StateGraph(ChatAgentState)\n",
    "\n",
    "# Create nodes\n",
    "workflow.add_node(\"collect_ml_document_content\", collect_ml_document_content)\n",
    "workflow.add_node(\"write_doc_draft\", RunnableLambda(write_doc_draft))\n",
    "workflow.add_node(\"review_doc_draft\", RunnableLambda(review_doc_draft))\n",
    "\n",
    "# Create edges\n",
    "workflow.set_entry_point(\"collect_ml_document_content\")\n",
    "workflow.add_edge(\"collect_ml_document_content\", \"write_doc_draft\")\n",
    "workflow.add_edge(\"write_doc_draft\", \"review_doc_draft\")\n",
    "workflow.add_edge(\"review_doc_draft\", END)\n",
    "\n",
    "auto_ml_doc_flow = workflow.compile()"
   ],
   "outputs": [],
   "execution_count": 7
  },
  {
   "cell_type": "code",
   "metadata": {
    "application/vnd.databricks.v1+cell": {
     "cellMetadata": {
      "byteLimit": 2048000,
      "rowLimit": 10000
     },
     "inputWidgets": {},
     "nuid": "86fbb53c-62a6-4a7d-a7c7-2ad6f98d70e0",
     "showTitle": false,
     "tableResultSettingsMap": {},
     "title": ""
    },
    "ExecuteTime": {
     "end_time": "2025-05-13T05:44:25.454082Z",
     "start_time": "2025-05-13T05:44:25.294675Z"
    }
   },
   "source": [
    "from IPython.display import Image, display\n",
    "\n",
    "display(Image(auto_ml_doc_flow.get_graph().draw_mermaid_png()))"
   ],
   "outputs": [
    {
     "data": {
      "image/png": "[encoded data removed]",
      "text/plain": [
       "<IPython.core.display.Image object>"
      ]
     },
     "metadata": {},
     "output_type": "display_data"
    }
   ],
   "execution_count": 8
  },
  {
   "cell_type": "code",
   "metadata": {
    "application/vnd.databricks.v1+cell": {
     "cellMetadata": {
      "byteLimit": 2048000,
      "rowLimit": 10000
     },
     "inputWidgets": {},
     "nuid": "473b68fd-54c1-4808-9ec2-e6d6988b5f6c",
     "showTitle": false,
     "tableResultSettingsMap": {},
     "title": ""
    },
    "ExecuteTime": {
     "end_time": "2025-05-13T05:44:27.597576Z",
     "start_time": "2025-05-13T05:44:27.559466Z"
    }
   },
   "source": [
    "class LangGraphChatAgent(ChatAgent):\n",
    "    def __init__(self, agent: CompiledStateGraph):\n",
    "        self.agent = agent\n",
    "\n",
    "    def predict(\n",
    "        self,\n",
    "        messages: list[ChatAgentMessage],\n",
    "        context: Optional[ChatContext] = None,\n",
    "        custom_inputs: Optional[dict[str, Any]] = None,\n",
    "    ) -> ChatAgentResponse:\n",
    "        request = {\"messages\": self._convert_messages_to_dict(messages)}\n",
    "\n",
    "        if context:\n",
    "            request[\"context\"] = context\n",
    "\n",
    "        if custom_inputs:\n",
    "            request[\"custom_inputs\"] = custom_inputs\n",
    "\n",
    "        messages = []\n",
    "        custom_outputs = {}\n",
    "        for event in self.agent.stream(request, stream_mode=\"updates\"):\n",
    "            for node_data in event.values():\n",
    "                messages.extend(\n",
    "                    ChatAgentMessage(**msg) for msg in node_data.get(\"messages\", [])\n",
    "                )\n",
    "                if \"custom_outputs\" in node_data:\n",
    "                    custom_outputs.update(node_data[\"custom_outputs\"])\n",
    "\n",
    "        return ChatAgentResponse(messages=messages, custom_outputs=custom_outputs)\n",
    "\n",
    "    def predict_stream(\n",
    "        self,\n",
    "        messages: list[ChatAgentMessage],\n",
    "        context: Optional[ChatContext] = None,\n",
    "        custom_inputs: Optional[dict[str, Any]] = None,\n",
    "    ) -> Generator[ChatAgentChunk, None, None]:\n",
    "        request = {\"messages\": self._convert_messages_to_dict(messages)}\n",
    "\n",
    "        if context:\n",
    "            request[\"context\"] = context\n",
    "\n",
    "        if custom_inputs:\n",
    "            request[\"custom_inputs\"] = custom_inputs\n",
    "\n",
    "        for event in self.agent.stream(request, stream_mode=\"updates\"):\n",
    "            for node_data in event.values():\n",
    "                yield from (\n",
    "                    ChatAgentChunk(**{\"delta\": msg}) for msg in node_data[\"messages\"]\n",
    "                )"
   ],
   "outputs": [],
   "execution_count": 9
  },
  {
   "cell_type": "code",
   "metadata": {
    "application/vnd.databricks.v1+cell": {
     "cellMetadata": {
      "byteLimit": 2048000,
      "rowLimit": 10000
     },
     "inputWidgets": {},
     "nuid": "8dfa1850-d3e4-48d9-b352-d8c1ae6ce10a",
     "showTitle": false,
     "tableResultSettingsMap": {},
     "title": ""
    },
    "ExecuteTime": {
     "end_time": "2025-05-13T05:44:31.130975Z",
     "start_time": "2025-05-13T05:44:31.098672Z"
    }
   },
   "source": [
    "AGENT = LangGraphChatAgent(auto_ml_doc_flow)\n",
    "mlflow.models.set_model(AGENT)"
   ],
   "outputs": [],
   "execution_count": 10
  },
  {
   "cell_type": "code",
   "metadata": {
    "application/vnd.databricks.v1+cell": {
     "cellMetadata": {
      "byteLimit": 2048000,
      "rowLimit": 10000
     },
     "inputWidgets": {},
     "nuid": "925fd627-825e-42a6-bda7-2ba000b7aa3d",
     "showTitle": false,
     "tableResultSettingsMap": {},
     "title": ""
    },
    "ExecuteTime": {
     "end_time": "2025-05-13T05:44:35.191662Z",
     "start_time": "2025-05-13T05:44:32.543167Z"
    }
   },
   "source": [
    "result = AGENT.predict(\n",
    "    {\n",
    "        \"messages\": [{\"role\": \"user\", \"content\": \"Create a comprehensive ML document\"}],\n",
    "        \"custom_inputs\": {\"catalog\": CATALOG, \"schema\": SCHEMA, \"model\": model},\n",
    "    }\n",
    ")"
   ],
   "outputs": [
    {
     "ename": "RestException",
     "evalue": "RESOURCE_DOES_NOT_EXIST: Registered Model with name=qyu.dbdemos_fs_travel.dbdemos_fs_travel_model not found",
     "output_type": "error",
     "traceback": [
      "\u001B[31m---------------------------------------------------------------------------\u001B[39m",
      "\u001B[31mRestException\u001B[39m                             Traceback (most recent call last)",
      "\u001B[36mCell\u001B[39m\u001B[36m \u001B[39m\u001B[32mIn[11]\u001B[39m\u001B[32m, line 1\u001B[39m\n\u001B[32m----> \u001B[39m\u001B[32m1\u001B[39m result = \u001B[43mAGENT\u001B[49m\u001B[43m.\u001B[49m\u001B[43mpredict\u001B[49m\u001B[43m(\u001B[49m\n\u001B[32m      2\u001B[39m \u001B[43m    \u001B[49m\u001B[43m{\u001B[49m\n\u001B[32m      3\u001B[39m \u001B[43m        \u001B[49m\u001B[33;43m\"\u001B[39;49m\u001B[33;43mmessages\u001B[39;49m\u001B[33;43m\"\u001B[39;49m\u001B[43m:\u001B[49m\u001B[43m \u001B[49m\u001B[43m[\u001B[49m\u001B[43m{\u001B[49m\u001B[33;43m\"\u001B[39;49m\u001B[33;43mrole\u001B[39;49m\u001B[33;43m\"\u001B[39;49m\u001B[43m:\u001B[49m\u001B[43m \u001B[49m\u001B[33;43m\"\u001B[39;49m\u001B[33;43muser\u001B[39;49m\u001B[33;43m\"\u001B[39;49m\u001B[43m,\u001B[49m\u001B[43m \u001B[49m\u001B[33;43m\"\u001B[39;49m\u001B[33;43mcontent\u001B[39;49m\u001B[33;43m\"\u001B[39;49m\u001B[43m:\u001B[49m\u001B[43m \u001B[49m\u001B[33;43m\"\u001B[39;49m\u001B[33;43mCreate a comprehensive ML document\u001B[39;49m\u001B[33;43m\"\u001B[39;49m\u001B[43m}\u001B[49m\u001B[43m]\u001B[49m\u001B[43m,\u001B[49m\n\u001B[32m      4\u001B[39m \u001B[43m        \u001B[49m\u001B[33;43m\"\u001B[39;49m\u001B[33;43mcustom_inputs\u001B[39;49m\u001B[33;43m\"\u001B[39;49m\u001B[43m:\u001B[49m\u001B[43m \u001B[49m\u001B[43m{\u001B[49m\u001B[33;43m\"\u001B[39;49m\u001B[33;43mcatalog\u001B[39;49m\u001B[33;43m\"\u001B[39;49m\u001B[43m:\u001B[49m\u001B[43m \u001B[49m\u001B[43mCATALOG\u001B[49m\u001B[43m,\u001B[49m\u001B[43m \u001B[49m\u001B[33;43m\"\u001B[39;49m\u001B[33;43mschema\u001B[39;49m\u001B[33;43m\"\u001B[39;49m\u001B[43m:\u001B[49m\u001B[43m \u001B[49m\u001B[43mSCHEMA\u001B[49m\u001B[43m,\u001B[49m\u001B[43m \u001B[49m\u001B[33;43m\"\u001B[39;49m\u001B[33;43mmodel\u001B[39;49m\u001B[33;43m\"\u001B[39;49m\u001B[43m:\u001B[49m\u001B[43m \u001B[49m\u001B[43mmodel\u001B[49m\u001B[43m}\u001B[49m\u001B[43m,\u001B[49m\n\u001B[32m      5\u001B[39m \u001B[43m    \u001B[49m\u001B[43m}\u001B[49m\n\u001B[32m      6\u001B[39m \u001B[43m)\u001B[49m\n",
      "\u001B[36mFile \u001B[39m\u001B[32m~/workspace/agents_use_cases/.venv/lib/python3.11/site-packages/mlflow/pyfunc/utils/data_validation.py:119\u001B[39m, in \u001B[36mwrap_non_list_predict_pydantic.<locals>.wrapper\u001B[39m\u001B[34m(self, *args, **kwargs)\u001B[39m\n\u001B[32m    117\u001B[39m     param_names = inspect.signature(func).parameters.keys() - {\u001B[33m\"\u001B[39m\u001B[33mself\u001B[39m\u001B[33m\"\u001B[39m}\n\u001B[32m    118\u001B[39m     kwargs = {k: \u001B[38;5;28mgetattr\u001B[39m(pydantic_obj, k) \u001B[38;5;28;01mfor\u001B[39;00m k \u001B[38;5;129;01min\u001B[39;00m param_names}\n\u001B[32m--> \u001B[39m\u001B[32m119\u001B[39m     \u001B[38;5;28;01mreturn\u001B[39;00m \u001B[43mfunc\u001B[49m\u001B[43m(\u001B[49m\u001B[38;5;28;43mself\u001B[39;49m\u001B[43m,\u001B[49m\u001B[43m \u001B[49m\u001B[43m*\u001B[49m\u001B[43m*\u001B[49m\u001B[43mkwargs\u001B[49m\u001B[43m)\u001B[49m\n\u001B[32m    120\u001B[39m \u001B[38;5;28;01melse\u001B[39;00m:\n\u001B[32m    121\u001B[39m     \u001B[38;5;28;01mreturn\u001B[39;00m func(\u001B[38;5;28mself\u001B[39m, pydantic_obj)\n",
      "\u001B[36mCell\u001B[39m\u001B[36m \u001B[39m\u001B[32mIn[9]\u001B[39m\u001B[32m, line 21\u001B[39m, in \u001B[36mLangGraphChatAgent.predict\u001B[39m\u001B[34m(self, messages, context, custom_inputs)\u001B[39m\n\u001B[32m     19\u001B[39m messages = []\n\u001B[32m     20\u001B[39m custom_outputs = {}\n\u001B[32m---> \u001B[39m\u001B[32m21\u001B[39m \u001B[43m\u001B[49m\u001B[38;5;28;43;01mfor\u001B[39;49;00m\u001B[43m \u001B[49m\u001B[43mevent\u001B[49m\u001B[43m \u001B[49m\u001B[38;5;129;43;01min\u001B[39;49;00m\u001B[43m \u001B[49m\u001B[38;5;28;43mself\u001B[39;49m\u001B[43m.\u001B[49m\u001B[43magent\u001B[49m\u001B[43m.\u001B[49m\u001B[43mstream\u001B[49m\u001B[43m(\u001B[49m\u001B[43mrequest\u001B[49m\u001B[43m,\u001B[49m\u001B[43m \u001B[49m\u001B[43mstream_mode\u001B[49m\u001B[43m=\u001B[49m\u001B[33;43m\"\u001B[39;49m\u001B[33;43mupdates\u001B[39;49m\u001B[33;43m\"\u001B[39;49m\u001B[43m)\u001B[49m\u001B[43m:\u001B[49m\n\u001B[32m     22\u001B[39m \u001B[43m    \u001B[49m\u001B[38;5;28;43;01mfor\u001B[39;49;00m\u001B[43m \u001B[49m\u001B[43mnode_data\u001B[49m\u001B[43m \u001B[49m\u001B[38;5;129;43;01min\u001B[39;49;00m\u001B[43m \u001B[49m\u001B[43mevent\u001B[49m\u001B[43m.\u001B[49m\u001B[43mvalues\u001B[49m\u001B[43m(\u001B[49m\u001B[43m)\u001B[49m\u001B[43m:\u001B[49m\n\u001B[32m     23\u001B[39m \u001B[43m        \u001B[49m\u001B[43mmessages\u001B[49m\u001B[43m.\u001B[49m\u001B[43mextend\u001B[49m\u001B[43m(\u001B[49m\n\u001B[32m     24\u001B[39m \u001B[43m            \u001B[49m\u001B[43mChatAgentMessage\u001B[49m\u001B[43m(\u001B[49m\u001B[43m*\u001B[49m\u001B[43m*\u001B[49m\u001B[43mmsg\u001B[49m\u001B[43m)\u001B[49m\u001B[43m \u001B[49m\u001B[38;5;28;43;01mfor\u001B[39;49;00m\u001B[43m \u001B[49m\u001B[43mmsg\u001B[49m\u001B[43m \u001B[49m\u001B[38;5;129;43;01min\u001B[39;49;00m\u001B[43m \u001B[49m\u001B[43mnode_data\u001B[49m\u001B[43m.\u001B[49m\u001B[43mget\u001B[49m\u001B[43m(\u001B[49m\u001B[33;43m\"\u001B[39;49m\u001B[33;43mmessages\u001B[39;49m\u001B[33;43m\"\u001B[39;49m\u001B[43m,\u001B[49m\u001B[43m \u001B[49m\u001B[43m[\u001B[49m\u001B[43m]\u001B[49m\u001B[43m)\u001B[49m\n\u001B[32m     25\u001B[39m \u001B[43m        \u001B[49m\u001B[43m)\u001B[49m\n",
      "\u001B[36mFile \u001B[39m\u001B[32m~/workspace/agents_use_cases/.venv/lib/python3.11/site-packages/langgraph/pregel/__init__.py:2024\u001B[39m, in \u001B[36mPregel.stream\u001B[39m\u001B[34m(self, input, config, stream_mode, output_keys, interrupt_before, interrupt_after, debug, subgraphs)\u001B[39m\n\u001B[32m   2018\u001B[39m     \u001B[38;5;66;03m# Similarly to Bulk Synchronous Parallel / Pregel model\u001B[39;00m\n\u001B[32m   2019\u001B[39m     \u001B[38;5;66;03m# computation proceeds in steps, while there are channel updates.\u001B[39;00m\n\u001B[32m   2020\u001B[39m     \u001B[38;5;66;03m# Channel updates from step N are only visible in step N+1\u001B[39;00m\n\u001B[32m   2021\u001B[39m     \u001B[38;5;66;03m# channels are guaranteed to be immutable for the duration of the step,\u001B[39;00m\n\u001B[32m   2022\u001B[39m     \u001B[38;5;66;03m# with channel updates applied only at the transition between steps.\u001B[39;00m\n\u001B[32m   2023\u001B[39m     \u001B[38;5;28;01mwhile\u001B[39;00m loop.tick(input_keys=\u001B[38;5;28mself\u001B[39m.input_channels):\n\u001B[32m-> \u001B[39m\u001B[32m2024\u001B[39m \u001B[43m        \u001B[49m\u001B[38;5;28;43;01mfor\u001B[39;49;00m\u001B[43m \u001B[49m\u001B[43m_\u001B[49m\u001B[43m \u001B[49m\u001B[38;5;129;43;01min\u001B[39;49;00m\u001B[43m \u001B[49m\u001B[43mrunner\u001B[49m\u001B[43m.\u001B[49m\u001B[43mtick\u001B[49m\u001B[43m(\u001B[49m\n\u001B[32m   2025\u001B[39m \u001B[43m            \u001B[49m\u001B[43mloop\u001B[49m\u001B[43m.\u001B[49m\u001B[43mtasks\u001B[49m\u001B[43m.\u001B[49m\u001B[43mvalues\u001B[49m\u001B[43m(\u001B[49m\u001B[43m)\u001B[49m\u001B[43m,\u001B[49m\n\u001B[32m   2026\u001B[39m \u001B[43m            \u001B[49m\u001B[43mtimeout\u001B[49m\u001B[43m=\u001B[49m\u001B[38;5;28;43mself\u001B[39;49m\u001B[43m.\u001B[49m\u001B[43mstep_timeout\u001B[49m\u001B[43m,\u001B[49m\n\u001B[32m   2027\u001B[39m \u001B[43m            \u001B[49m\u001B[43mretry_policy\u001B[49m\u001B[43m=\u001B[49m\u001B[38;5;28;43mself\u001B[39;49m\u001B[43m.\u001B[49m\u001B[43mretry_policy\u001B[49m\u001B[43m,\u001B[49m\n\u001B[32m   2028\u001B[39m \u001B[43m            \u001B[49m\u001B[43mget_waiter\u001B[49m\u001B[43m=\u001B[49m\u001B[43mget_waiter\u001B[49m\u001B[43m,\u001B[49m\n\u001B[32m   2029\u001B[39m \u001B[43m        \u001B[49m\u001B[43m)\u001B[49m\u001B[43m:\u001B[49m\n\u001B[32m   2030\u001B[39m \u001B[43m            \u001B[49m\u001B[38;5;66;43;03m# emit output\u001B[39;49;00m\n\u001B[32m   2031\u001B[39m \u001B[43m            \u001B[49m\u001B[38;5;28;43;01myield from\u001B[39;49;00m\u001B[43m \u001B[49m\u001B[43moutput\u001B[49m\u001B[43m(\u001B[49m\u001B[43m)\u001B[49m\n\u001B[32m   2032\u001B[39m \u001B[38;5;66;03m# emit output\u001B[39;00m\n",
      "\u001B[36mFile \u001B[39m\u001B[32m~/workspace/agents_use_cases/.venv/lib/python3.11/site-packages/langgraph/pregel/runner.py:230\u001B[39m, in \u001B[36mPregelRunner.tick\u001B[39m\u001B[34m(self, tasks, reraise, timeout, retry_policy, get_waiter)\u001B[39m\n\u001B[32m    228\u001B[39m t = tasks[\u001B[32m0\u001B[39m]\n\u001B[32m    229\u001B[39m \u001B[38;5;28;01mtry\u001B[39;00m:\n\u001B[32m--> \u001B[39m\u001B[32m230\u001B[39m     \u001B[43mrun_with_retry\u001B[49m\u001B[43m(\u001B[49m\n\u001B[32m    231\u001B[39m \u001B[43m        \u001B[49m\u001B[43mt\u001B[49m\u001B[43m,\u001B[49m\n\u001B[32m    232\u001B[39m \u001B[43m        \u001B[49m\u001B[43mretry_policy\u001B[49m\u001B[43m,\u001B[49m\n\u001B[32m    233\u001B[39m \u001B[43m        \u001B[49m\u001B[43mconfigurable\u001B[49m\u001B[43m=\u001B[49m\u001B[43m{\u001B[49m\n\u001B[32m    234\u001B[39m \u001B[43m            \u001B[49m\u001B[43mCONFIG_KEY_SEND\u001B[49m\u001B[43m:\u001B[49m\u001B[43m \u001B[49m\u001B[43mpartial\u001B[49m\u001B[43m(\u001B[49m\u001B[43mwriter\u001B[49m\u001B[43m,\u001B[49m\u001B[43m \u001B[49m\u001B[43mt\u001B[49m\u001B[43m)\u001B[49m\u001B[43m,\u001B[49m\n\u001B[32m    235\u001B[39m \u001B[43m            \u001B[49m\u001B[43mCONFIG_KEY_CALL\u001B[49m\u001B[43m:\u001B[49m\u001B[43m \u001B[49m\u001B[43mpartial\u001B[49m\u001B[43m(\u001B[49m\u001B[43mcall\u001B[49m\u001B[43m,\u001B[49m\u001B[43m \u001B[49m\u001B[43mt\u001B[49m\u001B[43m)\u001B[49m\u001B[43m,\u001B[49m\n\u001B[32m    236\u001B[39m \u001B[43m        \u001B[49m\u001B[43m}\u001B[49m\u001B[43m,\u001B[49m\n\u001B[32m    237\u001B[39m \u001B[43m    \u001B[49m\u001B[43m)\u001B[49m\n\u001B[32m    238\u001B[39m     \u001B[38;5;28mself\u001B[39m.commit(t, \u001B[38;5;28;01mNone\u001B[39;00m)\n\u001B[32m    239\u001B[39m \u001B[38;5;28;01mexcept\u001B[39;00m \u001B[38;5;167;01mException\u001B[39;00m \u001B[38;5;28;01mas\u001B[39;00m exc:\n",
      "\u001B[36mFile \u001B[39m\u001B[32m~/workspace/agents_use_cases/.venv/lib/python3.11/site-packages/langgraph/pregel/retry.py:40\u001B[39m, in \u001B[36mrun_with_retry\u001B[39m\u001B[34m(task, retry_policy, configurable)\u001B[39m\n\u001B[32m     38\u001B[39m     task.writes.clear()\n\u001B[32m     39\u001B[39m     \u001B[38;5;66;03m# run the task\u001B[39;00m\n\u001B[32m---> \u001B[39m\u001B[32m40\u001B[39m     \u001B[38;5;28;01mreturn\u001B[39;00m \u001B[43mtask\u001B[49m\u001B[43m.\u001B[49m\u001B[43mproc\u001B[49m\u001B[43m.\u001B[49m\u001B[43minvoke\u001B[49m\u001B[43m(\u001B[49m\u001B[43mtask\u001B[49m\u001B[43m.\u001B[49m\u001B[43minput\u001B[49m\u001B[43m,\u001B[49m\u001B[43m \u001B[49m\u001B[43mconfig\u001B[49m\u001B[43m)\u001B[49m\n\u001B[32m     41\u001B[39m \u001B[38;5;28;01mexcept\u001B[39;00m ParentCommand \u001B[38;5;28;01mas\u001B[39;00m exc:\n\u001B[32m     42\u001B[39m     ns: \u001B[38;5;28mstr\u001B[39m = config[CONF][CONFIG_KEY_CHECKPOINT_NS]\n",
      "\u001B[36mFile \u001B[39m\u001B[32m~/workspace/agents_use_cases/.venv/lib/python3.11/site-packages/mlflow/utils/autologging_utils/safety.py:483\u001B[39m, in \u001B[36msafe_patch.<locals>.safe_patch_function\u001B[39m\u001B[34m(*args, **kwargs)\u001B[39m\n\u001B[32m    479\u001B[39m call_original = update_wrapper_extended(call_original, original)\n\u001B[32m    481\u001B[39m event_logger.log_patch_function_start(args, kwargs)\n\u001B[32m--> \u001B[39m\u001B[32m483\u001B[39m \u001B[43mpatch_function\u001B[49m\u001B[43m(\u001B[49m\u001B[43mcall_original\u001B[49m\u001B[43m,\u001B[49m\u001B[43m \u001B[49m\u001B[43m*\u001B[49m\u001B[43margs\u001B[49m\u001B[43m,\u001B[49m\u001B[43m \u001B[49m\u001B[43m*\u001B[49m\u001B[43m*\u001B[49m\u001B[43mkwargs\u001B[49m\u001B[43m)\u001B[49m\n\u001B[32m    485\u001B[39m session.state = \u001B[33m\"\u001B[39m\u001B[33msucceeded\u001B[39m\u001B[33m\"\u001B[39m\n\u001B[32m    486\u001B[39m event_logger.log_patch_function_success(args, kwargs)\n",
      "\u001B[36mFile \u001B[39m\u001B[32m~/workspace/agents_use_cases/.venv/lib/python3.11/site-packages/mlflow/langchain/_langchain_autolog.py:74\u001B[39m, in \u001B[36mpatched_inference\u001B[39m\u001B[34m(func_name, original, self, *args, **kwargs)\u001B[39m\n\u001B[32m     72\u001B[39m         _log_optional_artifacts(config, run_id, result, \u001B[38;5;28mself\u001B[39m, func_name, *args, **kwargs)\n\u001B[32m     73\u001B[39m \u001B[38;5;28;01melse\u001B[39;00m:\n\u001B[32m---> \u001B[39m\u001B[32m74\u001B[39m     result = \u001B[43m_invoke\u001B[49m\u001B[43m(\u001B[49m\u001B[38;5;28;43mself\u001B[39;49m\u001B[43m,\u001B[49m\u001B[43m \u001B[49m\u001B[43m*\u001B[49m\u001B[43margs\u001B[49m\u001B[43m,\u001B[49m\u001B[43m \u001B[49m\u001B[43m*\u001B[49m\u001B[43m*\u001B[49m\u001B[43mkwargs\u001B[49m\u001B[43m)\u001B[49m\n\u001B[32m     75\u001B[39m \u001B[38;5;28;01mreturn\u001B[39;00m result\n",
      "\u001B[36mFile \u001B[39m\u001B[32m~/workspace/agents_use_cases/.venv/lib/python3.11/site-packages/mlflow/langchain/_langchain_autolog.py:66\u001B[39m, in \u001B[36mpatched_inference.<locals>._invoke\u001B[39m\u001B[34m(self, *args, **kwargs)\u001B[39m\n\u001B[32m     64\u001B[39m \u001B[38;5;28;01mdef\u001B[39;00m\u001B[38;5;250m \u001B[39m\u001B[34m_invoke\u001B[39m(\u001B[38;5;28mself\u001B[39m, *args, **kwargs):\n\u001B[32m     65\u001B[39m     \u001B[38;5;28;01mwith\u001B[39;00m disable_patching():\n\u001B[32m---> \u001B[39m\u001B[32m66\u001B[39m         \u001B[38;5;28;01mreturn\u001B[39;00m \u001B[43moriginal\u001B[49m\u001B[43m(\u001B[49m\u001B[38;5;28;43mself\u001B[39;49m\u001B[43m,\u001B[49m\u001B[43m \u001B[49m\u001B[43m*\u001B[49m\u001B[43margs\u001B[49m\u001B[43m,\u001B[49m\u001B[43m \u001B[49m\u001B[43m*\u001B[49m\u001B[43m*\u001B[49m\u001B[43mkwargs\u001B[49m\u001B[43m)\u001B[49m\n",
      "\u001B[36mFile \u001B[39m\u001B[32m~/workspace/agents_use_cases/.venv/lib/python3.11/site-packages/mlflow/utils/autologging_utils/safety.py:474\u001B[39m, in \u001B[36msafe_patch.<locals>.safe_patch_function.<locals>.call_original\u001B[39m\u001B[34m(*og_args, **og_kwargs)\u001B[39m\n\u001B[32m    471\u001B[39m         original_result = original(*_og_args, **_og_kwargs)\n\u001B[32m    472\u001B[39m         \u001B[38;5;28;01mreturn\u001B[39;00m original_result\n\u001B[32m--> \u001B[39m\u001B[32m474\u001B[39m \u001B[38;5;28;01mreturn\u001B[39;00m \u001B[43mcall_original_fn_with_event_logging\u001B[49m\u001B[43m(\u001B[49m\u001B[43m_original_fn\u001B[49m\u001B[43m,\u001B[49m\u001B[43m \u001B[49m\u001B[43mog_args\u001B[49m\u001B[43m,\u001B[49m\u001B[43m \u001B[49m\u001B[43mog_kwargs\u001B[49m\u001B[43m)\u001B[49m\n",
      "\u001B[36mFile \u001B[39m\u001B[32m~/workspace/agents_use_cases/.venv/lib/python3.11/site-packages/mlflow/utils/autologging_utils/safety.py:425\u001B[39m, in \u001B[36msafe_patch.<locals>.safe_patch_function.<locals>.call_original_fn_with_event_logging\u001B[39m\u001B[34m(original_fn, og_args, og_kwargs)\u001B[39m\n\u001B[32m    422\u001B[39m \u001B[38;5;28;01mtry\u001B[39;00m:\n\u001B[32m    423\u001B[39m     event_logger.log_original_function_start(og_args, og_kwargs)\n\u001B[32m--> \u001B[39m\u001B[32m425\u001B[39m     original_fn_result = \u001B[43moriginal_fn\u001B[49m\u001B[43m(\u001B[49m\u001B[43m*\u001B[49m\u001B[43mog_args\u001B[49m\u001B[43m,\u001B[49m\u001B[43m \u001B[49m\u001B[43m*\u001B[49m\u001B[43m*\u001B[49m\u001B[43mog_kwargs\u001B[49m\u001B[43m)\u001B[49m\n\u001B[32m    427\u001B[39m     event_logger.log_original_function_success(og_args, og_kwargs)\n\u001B[32m    428\u001B[39m     \u001B[38;5;28;01mreturn\u001B[39;00m original_fn_result\n",
      "\u001B[36mFile \u001B[39m\u001B[32m~/workspace/agents_use_cases/.venv/lib/python3.11/site-packages/mlflow/utils/autologging_utils/safety.py:471\u001B[39m, in \u001B[36msafe_patch.<locals>.safe_patch_function.<locals>.call_original.<locals>._original_fn\u001B[39m\u001B[34m(*_og_args, **_og_kwargs)\u001B[39m\n\u001B[32m    463\u001B[39m \u001B[38;5;66;03m# Show all non-MLflow warnings as normal (i.e. not as event logs)\u001B[39;00m\n\u001B[32m    464\u001B[39m \u001B[38;5;66;03m# during original function execution, even if silent mode is enabled\u001B[39;00m\n\u001B[32m    465\u001B[39m \u001B[38;5;66;03m# (`silent=True`), since these warnings originate from the ML framework\u001B[39;00m\n\u001B[32m    466\u001B[39m \u001B[38;5;66;03m# or one of its dependencies and are likely relevant to the caller\u001B[39;00m\n\u001B[32m    467\u001B[39m \u001B[38;5;28;01mwith\u001B[39;00m NonMlflowWarningsBehaviorForCurrentThread(\n\u001B[32m    468\u001B[39m     disable_warnings=\u001B[38;5;28;01mFalse\u001B[39;00m,\n\u001B[32m    469\u001B[39m     reroute_warnings=\u001B[38;5;28;01mFalse\u001B[39;00m,\n\u001B[32m    470\u001B[39m ):\n\u001B[32m--> \u001B[39m\u001B[32m471\u001B[39m     original_result = \u001B[43moriginal\u001B[49m\u001B[43m(\u001B[49m\u001B[43m*\u001B[49m\u001B[43m_og_args\u001B[49m\u001B[43m,\u001B[49m\u001B[43m \u001B[49m\u001B[43m*\u001B[49m\u001B[43m*\u001B[49m\u001B[43m_og_kwargs\u001B[49m\u001B[43m)\u001B[49m\n\u001B[32m    472\u001B[39m     \u001B[38;5;28;01mreturn\u001B[39;00m original_result\n",
      "\u001B[36mFile \u001B[39m\u001B[32m~/workspace/agents_use_cases/.venv/lib/python3.11/site-packages/langgraph/utils/runnable.py:546\u001B[39m, in \u001B[36mRunnableSeq.invoke\u001B[39m\u001B[34m(self, input, config, **kwargs)\u001B[39m\n\u001B[32m    542\u001B[39m config = patch_config(\n\u001B[32m    543\u001B[39m     config, callbacks=run_manager.get_child(\u001B[33mf\u001B[39m\u001B[33m\"\u001B[39m\u001B[33mseq:step:\u001B[39m\u001B[38;5;132;01m{\u001B[39;00mi\u001B[38;5;250m \u001B[39m+\u001B[38;5;250m \u001B[39m\u001B[32m1\u001B[39m\u001B[38;5;132;01m}\u001B[39;00m\u001B[33m\"\u001B[39m)\n\u001B[32m    544\u001B[39m )\n\u001B[32m    545\u001B[39m \u001B[38;5;28;01mif\u001B[39;00m i == \u001B[32m0\u001B[39m:\n\u001B[32m--> \u001B[39m\u001B[32m546\u001B[39m     \u001B[38;5;28minput\u001B[39m = \u001B[43mstep\u001B[49m\u001B[43m.\u001B[49m\u001B[43minvoke\u001B[49m\u001B[43m(\u001B[49m\u001B[38;5;28;43minput\u001B[39;49m\u001B[43m,\u001B[49m\u001B[43m \u001B[49m\u001B[43mconfig\u001B[49m\u001B[43m,\u001B[49m\u001B[43m \u001B[49m\u001B[43m*\u001B[49m\u001B[43m*\u001B[49m\u001B[43mkwargs\u001B[49m\u001B[43m)\u001B[49m\n\u001B[32m    547\u001B[39m \u001B[38;5;28;01melse\u001B[39;00m:\n\u001B[32m    548\u001B[39m     \u001B[38;5;28minput\u001B[39m = step.invoke(\u001B[38;5;28minput\u001B[39m, config)\n",
      "\u001B[36mFile \u001B[39m\u001B[32m~/workspace/agents_use_cases/.venv/lib/python3.11/site-packages/mlflow/utils/autologging_utils/safety.py:483\u001B[39m, in \u001B[36msafe_patch.<locals>.safe_patch_function\u001B[39m\u001B[34m(*args, **kwargs)\u001B[39m\n\u001B[32m    479\u001B[39m call_original = update_wrapper_extended(call_original, original)\n\u001B[32m    481\u001B[39m event_logger.log_patch_function_start(args, kwargs)\n\u001B[32m--> \u001B[39m\u001B[32m483\u001B[39m \u001B[43mpatch_function\u001B[49m\u001B[43m(\u001B[49m\u001B[43mcall_original\u001B[49m\u001B[43m,\u001B[49m\u001B[43m \u001B[49m\u001B[43m*\u001B[49m\u001B[43margs\u001B[49m\u001B[43m,\u001B[49m\u001B[43m \u001B[49m\u001B[43m*\u001B[49m\u001B[43m*\u001B[49m\u001B[43mkwargs\u001B[49m\u001B[43m)\u001B[49m\n\u001B[32m    485\u001B[39m session.state = \u001B[33m\"\u001B[39m\u001B[33msucceeded\u001B[39m\u001B[33m\"\u001B[39m\n\u001B[32m    486\u001B[39m event_logger.log_patch_function_success(args, kwargs)\n",
      "\u001B[36mFile \u001B[39m\u001B[32m~/workspace/agents_use_cases/.venv/lib/python3.11/site-packages/mlflow/langchain/_langchain_autolog.py:74\u001B[39m, in \u001B[36mpatched_inference\u001B[39m\u001B[34m(func_name, original, self, *args, **kwargs)\u001B[39m\n\u001B[32m     72\u001B[39m         _log_optional_artifacts(config, run_id, result, \u001B[38;5;28mself\u001B[39m, func_name, *args, **kwargs)\n\u001B[32m     73\u001B[39m \u001B[38;5;28;01melse\u001B[39;00m:\n\u001B[32m---> \u001B[39m\u001B[32m74\u001B[39m     result = \u001B[43m_invoke\u001B[49m\u001B[43m(\u001B[49m\u001B[38;5;28;43mself\u001B[39;49m\u001B[43m,\u001B[49m\u001B[43m \u001B[49m\u001B[43m*\u001B[49m\u001B[43margs\u001B[49m\u001B[43m,\u001B[49m\u001B[43m \u001B[49m\u001B[43m*\u001B[49m\u001B[43m*\u001B[49m\u001B[43mkwargs\u001B[49m\u001B[43m)\u001B[49m\n\u001B[32m     75\u001B[39m \u001B[38;5;28;01mreturn\u001B[39;00m result\n",
      "\u001B[36mFile \u001B[39m\u001B[32m~/workspace/agents_use_cases/.venv/lib/python3.11/site-packages/mlflow/langchain/_langchain_autolog.py:66\u001B[39m, in \u001B[36mpatched_inference.<locals>._invoke\u001B[39m\u001B[34m(self, *args, **kwargs)\u001B[39m\n\u001B[32m     64\u001B[39m \u001B[38;5;28;01mdef\u001B[39;00m\u001B[38;5;250m \u001B[39m\u001B[34m_invoke\u001B[39m(\u001B[38;5;28mself\u001B[39m, *args, **kwargs):\n\u001B[32m     65\u001B[39m     \u001B[38;5;28;01mwith\u001B[39;00m disable_patching():\n\u001B[32m---> \u001B[39m\u001B[32m66\u001B[39m         \u001B[38;5;28;01mreturn\u001B[39;00m \u001B[43moriginal\u001B[49m\u001B[43m(\u001B[49m\u001B[38;5;28;43mself\u001B[39;49m\u001B[43m,\u001B[49m\u001B[43m \u001B[49m\u001B[43m*\u001B[49m\u001B[43margs\u001B[49m\u001B[43m,\u001B[49m\u001B[43m \u001B[49m\u001B[43m*\u001B[49m\u001B[43m*\u001B[49m\u001B[43mkwargs\u001B[49m\u001B[43m)\u001B[49m\n",
      "\u001B[36mFile \u001B[39m\u001B[32m~/workspace/agents_use_cases/.venv/lib/python3.11/site-packages/mlflow/utils/autologging_utils/safety.py:474\u001B[39m, in \u001B[36msafe_patch.<locals>.safe_patch_function.<locals>.call_original\u001B[39m\u001B[34m(*og_args, **og_kwargs)\u001B[39m\n\u001B[32m    471\u001B[39m         original_result = original(*_og_args, **_og_kwargs)\n\u001B[32m    472\u001B[39m         \u001B[38;5;28;01mreturn\u001B[39;00m original_result\n\u001B[32m--> \u001B[39m\u001B[32m474\u001B[39m \u001B[38;5;28;01mreturn\u001B[39;00m \u001B[43mcall_original_fn_with_event_logging\u001B[49m\u001B[43m(\u001B[49m\u001B[43m_original_fn\u001B[49m\u001B[43m,\u001B[49m\u001B[43m \u001B[49m\u001B[43mog_args\u001B[49m\u001B[43m,\u001B[49m\u001B[43m \u001B[49m\u001B[43mog_kwargs\u001B[49m\u001B[43m)\u001B[49m\n",
      "\u001B[36mFile \u001B[39m\u001B[32m~/workspace/agents_use_cases/.venv/lib/python3.11/site-packages/mlflow/utils/autologging_utils/safety.py:425\u001B[39m, in \u001B[36msafe_patch.<locals>.safe_patch_function.<locals>.call_original_fn_with_event_logging\u001B[39m\u001B[34m(original_fn, og_args, og_kwargs)\u001B[39m\n\u001B[32m    422\u001B[39m \u001B[38;5;28;01mtry\u001B[39;00m:\n\u001B[32m    423\u001B[39m     event_logger.log_original_function_start(og_args, og_kwargs)\n\u001B[32m--> \u001B[39m\u001B[32m425\u001B[39m     original_fn_result = \u001B[43moriginal_fn\u001B[49m\u001B[43m(\u001B[49m\u001B[43m*\u001B[49m\u001B[43mog_args\u001B[49m\u001B[43m,\u001B[49m\u001B[43m \u001B[49m\u001B[43m*\u001B[49m\u001B[43m*\u001B[49m\u001B[43mog_kwargs\u001B[49m\u001B[43m)\u001B[49m\n\u001B[32m    427\u001B[39m     event_logger.log_original_function_success(og_args, og_kwargs)\n\u001B[32m    428\u001B[39m     \u001B[38;5;28;01mreturn\u001B[39;00m original_fn_result\n",
      "\u001B[36mFile \u001B[39m\u001B[32m~/workspace/agents_use_cases/.venv/lib/python3.11/site-packages/mlflow/utils/autologging_utils/safety.py:471\u001B[39m, in \u001B[36msafe_patch.<locals>.safe_patch_function.<locals>.call_original.<locals>._original_fn\u001B[39m\u001B[34m(*_og_args, **_og_kwargs)\u001B[39m\n\u001B[32m    463\u001B[39m \u001B[38;5;66;03m# Show all non-MLflow warnings as normal (i.e. not as event logs)\u001B[39;00m\n\u001B[32m    464\u001B[39m \u001B[38;5;66;03m# during original function execution, even if silent mode is enabled\u001B[39;00m\n\u001B[32m    465\u001B[39m \u001B[38;5;66;03m# (`silent=True`), since these warnings originate from the ML framework\u001B[39;00m\n\u001B[32m    466\u001B[39m \u001B[38;5;66;03m# or one of its dependencies and are likely relevant to the caller\u001B[39;00m\n\u001B[32m    467\u001B[39m \u001B[38;5;28;01mwith\u001B[39;00m NonMlflowWarningsBehaviorForCurrentThread(\n\u001B[32m    468\u001B[39m     disable_warnings=\u001B[38;5;28;01mFalse\u001B[39;00m,\n\u001B[32m    469\u001B[39m     reroute_warnings=\u001B[38;5;28;01mFalse\u001B[39;00m,\n\u001B[32m    470\u001B[39m ):\n\u001B[32m--> \u001B[39m\u001B[32m471\u001B[39m     original_result = \u001B[43moriginal\u001B[49m\u001B[43m(\u001B[49m\u001B[43m*\u001B[49m\u001B[43m_og_args\u001B[49m\u001B[43m,\u001B[49m\u001B[43m \u001B[49m\u001B[43m*\u001B[49m\u001B[43m*\u001B[49m\u001B[43m_og_kwargs\u001B[49m\u001B[43m)\u001B[49m\n\u001B[32m    472\u001B[39m     \u001B[38;5;28;01mreturn\u001B[39;00m original_result\n",
      "\u001B[36mFile \u001B[39m\u001B[32m~/workspace/agents_use_cases/.venv/lib/python3.11/site-packages/langgraph/utils/runnable.py:310\u001B[39m, in \u001B[36mRunnableCallable.invoke\u001B[39m\u001B[34m(self, input, config, **kwargs)\u001B[39m\n\u001B[32m    308\u001B[39m \u001B[38;5;28;01melse\u001B[39;00m:\n\u001B[32m    309\u001B[39m     context.run(_set_config_context, config)\n\u001B[32m--> \u001B[39m\u001B[32m310\u001B[39m     ret = \u001B[43mcontext\u001B[49m\u001B[43m.\u001B[49m\u001B[43mrun\u001B[49m\u001B[43m(\u001B[49m\u001B[38;5;28;43mself\u001B[39;49m\u001B[43m.\u001B[49m\u001B[43mfunc\u001B[49m\u001B[43m,\u001B[49m\u001B[43m \u001B[49m\u001B[43m*\u001B[49m\u001B[43margs\u001B[49m\u001B[43m,\u001B[49m\u001B[43m \u001B[49m\u001B[43m*\u001B[49m\u001B[43m*\u001B[49m\u001B[43mkwargs\u001B[49m\u001B[43m)\u001B[49m\n\u001B[32m    311\u001B[39m \u001B[38;5;28;01mif\u001B[39;00m \u001B[38;5;28misinstance\u001B[39m(ret, Runnable) \u001B[38;5;129;01mand\u001B[39;00m \u001B[38;5;28mself\u001B[39m.recurse:\n\u001B[32m    312\u001B[39m     \u001B[38;5;28;01mreturn\u001B[39;00m ret.invoke(\u001B[38;5;28minput\u001B[39m, config)\n",
      "\u001B[36mCell\u001B[39m\u001B[36m \u001B[39m\u001B[32mIn[6]\u001B[39m\u001B[32m, line 14\u001B[39m, in \u001B[36mcollect_ml_document_content\u001B[39m\u001B[34m(state)\u001B[39m\n\u001B[32m      8\u001B[39m model_artifacts_organizer = ModelArtifactOrganizer(\n\u001B[32m      9\u001B[39m     catalog=state[\u001B[33m\"\u001B[39m\u001B[33mcustom_inputs\u001B[39m\u001B[33m\"\u001B[39m][\u001B[33m\"\u001B[39m\u001B[33mcatalog\u001B[39m\u001B[33m\"\u001B[39m],\n\u001B[32m     10\u001B[39m     schema=state[\u001B[33m\"\u001B[39m\u001B[33mcustom_inputs\u001B[39m\u001B[33m\"\u001B[39m][\u001B[33m\"\u001B[39m\u001B[33mschema\u001B[39m\u001B[33m\"\u001B[39m],\n\u001B[32m     11\u001B[39m     model=state[\u001B[33m\"\u001B[39m\u001B[33mcustom_inputs\u001B[39m\u001B[33m\"\u001B[39m][\u001B[33m\"\u001B[39m\u001B[33mmodel\u001B[39m\u001B[33m\"\u001B[39m],\n\u001B[32m     12\u001B[39m )\n\u001B[32m     13\u001B[39m \u001B[38;5;66;03m# Collect ML model assets\u001B[39;00m\n\u001B[32m---> \u001B[39m\u001B[32m14\u001B[39m artifact_volume_path = \u001B[43mmodel_artifacts_organizer\u001B[49m\u001B[43m.\u001B[49m\u001B[43mcollect_mlflow_artifacts\u001B[49m\u001B[43m(\u001B[49m\u001B[43m)\u001B[49m\n\u001B[32m     16\u001B[39m \u001B[38;5;66;03m# Create model attributes table, notebook, and image markdown\u001B[39;00m\n\u001B[32m     17\u001B[39m model_artifacts_organizer.create_model_attributes_md()\n",
      "\u001B[36mFile \u001B[39m\u001B[32m~/workspace/agents_use_cases/ml_auto_documentation_agents/langgraph/model_artifacts_organizer.py:25\u001B[39m, in \u001B[36mModelArtifactOrganizer.collect_mlflow_artifacts\u001B[39m\u001B[34m(self)\u001B[39m\n\u001B[32m     24\u001B[39m \u001B[38;5;28;01mdef\u001B[39;00m\u001B[38;5;250m \u001B[39m\u001B[34mcollect_mlflow_artifacts\u001B[39m(\u001B[38;5;28mself\u001B[39m) -> \u001B[38;5;28mstr\u001B[39m | \u001B[38;5;28mbytes\u001B[39m:\n\u001B[32m---> \u001B[39m\u001B[32m25\u001B[39m     model_version = \u001B[38;5;28;43mself\u001B[39;49m\u001B[43m.\u001B[49m\u001B[43mclient\u001B[49m\u001B[43m.\u001B[49m\u001B[43mget_model_version_by_alias\u001B[49m\u001B[43m(\u001B[49m\n\u001B[32m     26\u001B[39m \u001B[43m        \u001B[49m\u001B[43mname\u001B[49m\u001B[43m=\u001B[49m\u001B[38;5;28;43mself\u001B[39;49m\u001B[43m.\u001B[49m\u001B[43mmodel_full_name\u001B[49m\u001B[43m,\u001B[49m\u001B[43m \u001B[49m\u001B[43malias\u001B[49m\u001B[43m=\u001B[49m\u001B[33;43m\"\u001B[39;49m\u001B[33;43mproduction\u001B[39;49m\u001B[33;43m\"\u001B[39;49m\n\u001B[32m     27\u001B[39m \u001B[43m    \u001B[49m\u001B[43m)\u001B[49m\n\u001B[32m     28\u001B[39m     run_id = model_version.run_id\n\u001B[32m     29\u001B[39m     destination_path = \u001B[38;5;28mself\u001B[39m.create_uc_artifact_folder(\n\u001B[32m     30\u001B[39m         volume_path=\u001B[38;5;28mself\u001B[39m.volume_path, folder_name=\u001B[38;5;28mself\u001B[39m.model\n\u001B[32m     31\u001B[39m     )\n",
      "\u001B[36mFile \u001B[39m\u001B[32m~/workspace/agents_use_cases/.venv/lib/python3.11/site-packages/mlflow/tracking/client.py:5240\u001B[39m, in \u001B[36mMlflowClient.get_model_version_by_alias\u001B[39m\u001B[34m(self, name, alias)\u001B[39m\n\u001B[32m   5156\u001B[39m \u001B[38;5;250m\u001B[39m\u001B[33;03m\"\"\"Get the model version instance by name and alias.\u001B[39;00m\n\u001B[32m   5157\u001B[39m \n\u001B[32m   5158\u001B[39m \u001B[33;03mArgs:\u001B[39;00m\n\u001B[32m   (...)\u001B[39m\u001B[32m   5237\u001B[39m \u001B[33;03m    Aliases: [\"test-alias\"]\u001B[39;00m\n\u001B[32m   5238\u001B[39m \u001B[33;03m\"\"\"\u001B[39;00m\n\u001B[32m   5239\u001B[39m _validate_model_name(name)\n\u001B[32m-> \u001B[39m\u001B[32m5240\u001B[39m mv = \u001B[38;5;28;43mself\u001B[39;49m\u001B[43m.\u001B[49m\u001B[43m_get_registry_client\u001B[49m\u001B[43m(\u001B[49m\u001B[43m)\u001B[49m\u001B[43m.\u001B[49m\u001B[43mget_model_version_by_alias\u001B[49m\u001B[43m(\u001B[49m\u001B[43mname\u001B[49m\u001B[43m,\u001B[49m\u001B[43m \u001B[49m\u001B[43malias\u001B[49m\u001B[43m)\u001B[49m\n\u001B[32m   5242\u001B[39m \u001B[38;5;28;01mif\u001B[39;00m has_prompt_tag(mv._tags):\n\u001B[32m   5243\u001B[39m     \u001B[38;5;28;01mraise\u001B[39;00m _model_not_found(name)\n",
      "\u001B[36mFile \u001B[39m\u001B[32m~/workspace/agents_use_cases/.venv/lib/python3.11/site-packages/mlflow/tracking/_model_registry/client.py:433\u001B[39m, in \u001B[36mModelRegistryClient.get_model_version_by_alias\u001B[39m\u001B[34m(self, name, alias)\u001B[39m\n\u001B[32m    422\u001B[39m \u001B[38;5;28;01mdef\u001B[39;00m\u001B[38;5;250m \u001B[39m\u001B[34mget_model_version_by_alias\u001B[39m(\u001B[38;5;28mself\u001B[39m, name, alias):\n\u001B[32m    423\u001B[39m \u001B[38;5;250m    \u001B[39m\u001B[33;03m\"\"\"Get the model version instance by name and alias.\u001B[39;00m\n\u001B[32m    424\u001B[39m \n\u001B[32m    425\u001B[39m \u001B[33;03m    Args:\u001B[39;00m\n\u001B[32m   (...)\u001B[39m\u001B[32m    431\u001B[39m \n\u001B[32m    432\u001B[39m \u001B[33;03m    \"\"\"\u001B[39;00m\n\u001B[32m--> \u001B[39m\u001B[32m433\u001B[39m     \u001B[38;5;28;01mreturn\u001B[39;00m \u001B[38;5;28;43mself\u001B[39;49m\u001B[43m.\u001B[49m\u001B[43mstore\u001B[49m\u001B[43m.\u001B[49m\u001B[43mget_model_version_by_alias\u001B[49m\u001B[43m(\u001B[49m\u001B[43mname\u001B[49m\u001B[43m,\u001B[49m\u001B[43m \u001B[49m\u001B[43malias\u001B[49m\u001B[43m)\u001B[49m\n",
      "\u001B[36mFile \u001B[39m\u001B[32m~/workspace/agents_use_cases/.venv/lib/python3.11/site-packages/mlflow/store/model_registry/rest_store.py:473\u001B[39m, in \u001B[36mRestStore.get_model_version_by_alias\u001B[39m\u001B[34m(self, name, alias)\u001B[39m\n\u001B[32m    462\u001B[39m \u001B[38;5;250m\u001B[39m\u001B[33;03m\"\"\"\u001B[39;00m\n\u001B[32m    463\u001B[39m \u001B[33;03mGet the model version instance by name and alias.\u001B[39;00m\n\u001B[32m    464\u001B[39m \n\u001B[32m   (...)\u001B[39m\u001B[32m    470\u001B[39m \u001B[33;03m    A single :py:class:`mlflow.entities.model_registry.ModelVersion` object.\u001B[39;00m\n\u001B[32m    471\u001B[39m \u001B[33;03m\"\"\"\u001B[39;00m\n\u001B[32m    472\u001B[39m req_body = message_to_json(GetModelVersionByAlias(name=name, alias=alias))\n\u001B[32m--> \u001B[39m\u001B[32m473\u001B[39m response_proto = \u001B[38;5;28;43mself\u001B[39;49m\u001B[43m.\u001B[49m\u001B[43m_call_endpoint\u001B[49m\u001B[43m(\u001B[49m\u001B[43mGetModelVersionByAlias\u001B[49m\u001B[43m,\u001B[49m\u001B[43m \u001B[49m\u001B[43mreq_body\u001B[49m\u001B[43m)\u001B[49m\n\u001B[32m    474\u001B[39m \u001B[38;5;28;01mreturn\u001B[39;00m ModelVersion.from_proto(response_proto.model_version)\n",
      "\u001B[36mFile \u001B[39m\u001B[32m~/workspace/agents_use_cases/.venv/lib/python3.11/site-packages/mlflow/store/model_registry/base_rest_store.py:44\u001B[39m, in \u001B[36mBaseRestStore._call_endpoint\u001B[39m\u001B[34m(self, api, json_body, call_all_endpoints, extra_headers)\u001B[39m\n\u001B[32m     42\u001B[39m \u001B[38;5;28;01melse\u001B[39;00m:\n\u001B[32m     43\u001B[39m     endpoint, method = \u001B[38;5;28mself\u001B[39m._get_endpoint_from_method(api)\n\u001B[32m---> \u001B[39m\u001B[32m44\u001B[39m     \u001B[38;5;28;01mreturn\u001B[39;00m \u001B[43mcall_endpoint\u001B[49m\u001B[43m(\u001B[49m\n\u001B[32m     45\u001B[39m \u001B[43m        \u001B[49m\u001B[38;5;28;43mself\u001B[39;49m\u001B[43m.\u001B[49m\u001B[43mget_host_creds\u001B[49m\u001B[43m(\u001B[49m\u001B[43m)\u001B[49m\u001B[43m,\u001B[49m\u001B[43m \u001B[49m\u001B[43mendpoint\u001B[49m\u001B[43m,\u001B[49m\u001B[43m \u001B[49m\u001B[43mmethod\u001B[49m\u001B[43m,\u001B[49m\u001B[43m \u001B[49m\u001B[43mjson_body\u001B[49m\u001B[43m,\u001B[49m\u001B[43m \u001B[49m\u001B[43mresponse_proto\u001B[49m\u001B[43m,\u001B[49m\u001B[43m \u001B[49m\u001B[43mextra_headers\u001B[49m\n\u001B[32m     46\u001B[39m \u001B[43m    \u001B[49m\u001B[43m)\u001B[49m\n",
      "\u001B[36mFile \u001B[39m\u001B[32m~/workspace/agents_use_cases/.venv/lib/python3.11/site-packages/mlflow/utils/rest_utils.py:402\u001B[39m, in \u001B[36mcall_endpoint\u001B[39m\u001B[34m(host_creds, endpoint, method, json_body, response_proto, extra_headers)\u001B[39m\n\u001B[32m    399\u001B[39m     call_kwargs[\u001B[33m\"\u001B[39m\u001B[33mjson\u001B[39m\u001B[33m\"\u001B[39m] = json_body\n\u001B[32m    400\u001B[39m     response = http_request(**call_kwargs)\n\u001B[32m--> \u001B[39m\u001B[32m402\u001B[39m response = \u001B[43mverify_rest_response\u001B[49m\u001B[43m(\u001B[49m\u001B[43mresponse\u001B[49m\u001B[43m,\u001B[49m\u001B[43m \u001B[49m\u001B[43mendpoint\u001B[49m\u001B[43m)\u001B[49m\n\u001B[32m    403\u001B[39m response_to_parse = response.text\n\u001B[32m    404\u001B[39m js_dict = json.loads(response_to_parse)\n",
      "\u001B[36mFile \u001B[39m\u001B[32m~/workspace/agents_use_cases/.venv/lib/python3.11/site-packages/mlflow/utils/rest_utils.py:259\u001B[39m, in \u001B[36mverify_rest_response\u001B[39m\u001B[34m(response, endpoint)\u001B[39m\n\u001B[32m    257\u001B[39m \u001B[38;5;28;01mif\u001B[39;00m response.status_code != \u001B[32m200\u001B[39m:\n\u001B[32m    258\u001B[39m     \u001B[38;5;28;01mif\u001B[39;00m _can_parse_as_json_object(response.text):\n\u001B[32m--> \u001B[39m\u001B[32m259\u001B[39m         \u001B[38;5;28;01mraise\u001B[39;00m RestException(json.loads(response.text))\n\u001B[32m    260\u001B[39m     \u001B[38;5;28;01melse\u001B[39;00m:\n\u001B[32m    261\u001B[39m         base_msg = (\n\u001B[32m    262\u001B[39m             \u001B[33mf\u001B[39m\u001B[33m\"\u001B[39m\u001B[33mAPI request to endpoint \u001B[39m\u001B[38;5;132;01m{\u001B[39;00mendpoint\u001B[38;5;132;01m}\u001B[39;00m\u001B[33m \u001B[39m\u001B[33m\"\u001B[39m\n\u001B[32m    263\u001B[39m             \u001B[33mf\u001B[39m\u001B[33m\"\u001B[39m\u001B[33mfailed with error code \u001B[39m\u001B[38;5;132;01m{\u001B[39;00mresponse.status_code\u001B[38;5;132;01m}\u001B[39;00m\u001B[33m != 200\u001B[39m\u001B[33m\"\u001B[39m\n\u001B[32m    264\u001B[39m         )\n",
      "\u001B[31mRestException\u001B[39m: RESOURCE_DOES_NOT_EXIST: Registered Model with name=qyu.dbdemos_fs_travel.dbdemos_fs_travel_model not found",
      "During task with name 'collect_ml_document_content' and id '994490b5-0b7b-6428-8bdb-1198a9f1b1be'"
     ]
    },
    {
     "data": {
      "text/plain": [
       "Trace(request_id=11e9fe4faac545c9b11ead9093475ecf)"
      ],
      "text/html": [
       "\n",
       "<div>\n",
       "  <style scoped>\n",
       "  button {\n",
       "    border: none;\n",
       "    border-radius: 4px;\n",
       "    background-color: rgb(34, 114, 180);\n",
       "    font-family: -apple-system, \"system-ui\", \"Segoe UI\", Roboto, \"Helvetica Neue\", Arial;\n",
       "    font-size: 13px;\n",
       "    color: white;\n",
       "    margin-top: 8px;\n",
       "    margin-bottom: 8px;\n",
       "    padding: 8px 16px;\n",
       "    cursor: pointer;\n",
       "  }\n",
       "  button:hover {\n",
       "    background-color: rgb(66, 153, 224);\n",
       "  }\n",
       "  </style>\n",
       "  <button\n",
       "    onclick=\"\n",
       "        const display = this.nextElementSibling.style.display;\n",
       "        const isCollapsed = display === 'none';\n",
       "        this.nextElementSibling.style.display = isCollapsed ? null : 'none';\n",
       "\n",
       "        const verb = isCollapsed ? 'Collapse' : 'Expand';\n",
       "        this.innerText = `${verb} MLflow Trace`;\n",
       "    \"\n",
       "  >Collapse MLflow Trace</button>\n",
       "  <iframe\n",
       "    id=\"trace-renderer\"\n",
       "    style=\"width: 100%; height: 500px; border: none; resize: vertical;\"\n",
       "    src=\"http://localhost:5000/static-files/lib/notebook-trace-renderer/index.html?trace_id=11e9fe4faac545c9b11ead9093475ecf&amp;experiment_id=968572397919127213&amp;version=2.22.0\"\n",
       "  />\n",
       "</div>\n"
      ]
     },
     "metadata": {},
     "output_type": "display_data"
    }
   ],
   "execution_count": 11
  },
  {
   "cell_type": "code",
   "execution_count": 0,
   "metadata": {
    "ExecuteTime": {
     "end_time": "2025-03-03T01:42:35.551887Z",
     "start_time": "2025-03-03T01:42:24.844308Z"
    },
    "application/vnd.databricks.v1+cell": {
     "cellMetadata": {},
     "inputWidgets": {},
     "nuid": "2e7960d1-ba90-4b55-ae2b-2fd1bdc8a616",
     "showTitle": false,
     "tableResultSettingsMap": {},
     "title": ""
    }
   },
   "outputs": [],
   "source": [
    "import mlflow\n",
    "from databricks_langchain import VectorSearchRetrieverTool\n",
    "from mlflow.models.resources import DatabricksFunction, DatabricksServingEndpoint\n",
    "from unitycatalog.ai.langchain.toolkit import UnityCatalogTool\n",
    "\n",
    "\n",
    "resources = [DatabricksServingEndpoint(endpoint_name=LLM_ENDPOINT_NAME)]\n",
    "for tool in tools:\n",
    "    if isinstance(tool, VectorSearchRetrieverTool):\n",
    "        resources.extend(tool.resources)\n",
    "    elif isinstance(tool, UnityCatalogTool):\n",
    "        resources.append(DatabricksFunction(function_name=tool.uc_function_name))\n",
    "\n",
    "\n",
    "with mlflow.start_run():\n",
    "    logged_agent_info = mlflow.pyfunc.log_model(\n",
    "        artifact_path=\"agent\",\n",
    "        python_model=\"../src/agent.py\",\n",
    "        pip_requirements=[\n",
    "            \"mlflow\",\n",
    "            \"langchain\",\n",
    "            \"langgraph<0.3.0\",\n",
    "            \"databricks-langchain\",\n",
    "            \"unitycatalog-langchain[databricks]\",\n",
    "            \"pydantic\",\n",
    "        ],\n",
    "        resources=resources,\n",
    "    )"
   ]
  }
 ],
 "metadata": {
  "application/vnd.databricks.v1+notebook": {
   "computePreferences": null,
   "dashboards": [],
   "environmentMetadata": null,
   "inputWidgetPreferences": null,
   "language": "python",
   "notebookMetadata": {
    "pythonIndentUnit": 4
   },
   "notebookName": "auto_ml_documentation_agent_workflow",
   "widgets": {}
  },
  "kernelspec": {
   "display_name": ".venv",
   "language": "python",
   "name": "python3"
  },
  "language_info": {
   "name": "python"
  }
 },
 "nbformat": 4,
 "nbformat_minor": 0
}
