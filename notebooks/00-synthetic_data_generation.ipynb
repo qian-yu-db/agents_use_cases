{
 "cells": [
  {
   "cell_type": "markdown",
   "metadata": {
    "application/vnd.databricks.v1+cell": {
     "cellMetadata": {},
     "inputWidgets": {},
     "nuid": "9f78a01c-9a83-4b82-accd-bd7037305e29",
     "showTitle": false,
     "tableResultSettingsMap": {},
     "title": ""
    }
   },
   "source": [
    "# Notebook Purpose\n",
    "\n",
    "We will generate synthetic data for our Investment Advisor Multi-Agent Use Cases\n",
    "\n",
    "- Customer Demographic Data\n",
    "- Investment Services and Products"
   ]
  },
  {
   "cell_type": "code",
   "execution_count": 0,
   "metadata": {
    "application/vnd.databricks.v1+cell": {
     "cellMetadata": {
      "byteLimit": 2048000,
      "rowLimit": 10000
     },
     "inputWidgets": {},
     "nuid": "674c77f9-60ee-404a-92c0-2254a13acd12",
     "showTitle": false,
     "tableResultSettingsMap": {},
     "title": ""
    }
   },
   "outputs": [],
   "source": [
    "%pip install openai -q -U\n",
    "%pip install Faker -q\n",
    "dbutils.library.restartPython()"
   ]
  },
  {
   "cell_type": "code",
   "execution_count": 0,
   "metadata": {
    "application/vnd.databricks.v1+cell": {
     "cellMetadata": {
      "byteLimit": 2048000,
      "rowLimit": 10000
     },
     "inputWidgets": {},
     "nuid": "3ffcab13-2667-4394-af21-a7269197d8c3",
     "showTitle": false,
     "tableResultSettingsMap": {},
     "title": ""
    }
   },
   "outputs": [],
   "source": [
    "dbutils.widgets.text(name=\"catalog\", label=\"Catalog\", defaultValue=\"fins_genai\")\n",
    "dbutils.widgets.text(name=\"schema\", label=\"Schema\", defaultValue=\"agents\")"
   ]
  },
  {
   "cell_type": "code",
   "execution_count": 0,
   "metadata": {
    "application/vnd.databricks.v1+cell": {
     "cellMetadata": {
      "byteLimit": 2048000,
      "rowLimit": 10000
     },
     "inputWidgets": {},
     "nuid": "2cacb2f2-bca1-44b4-8bd4-d1fae326a60a",
     "showTitle": false,
     "tableResultSettingsMap": {},
     "title": ""
    }
   },
   "outputs": [],
   "source": [
    "catalog = dbutils.widgets.get(\"catalog\")\n",
    "schema = dbutils.widgets.get(\"schema\")"
   ]
  },
  {
   "cell_type": "code",
   "execution_count": 0,
   "metadata": {
    "application/vnd.databricks.v1+cell": {
     "cellMetadata": {
      "byteLimit": 2048000,
      "rowLimit": 10000
     },
     "inputWidgets": {},
     "nuid": "e12dc05c-2511-4208-a1ad-73c5acfc1289",
     "showTitle": false,
     "tableResultSettingsMap": {},
     "title": ""
    }
   },
   "outputs": [],
   "source": [
    "%load_ext autoreload\n",
    "%autoreload 2"
   ]
  },
  {
   "cell_type": "code",
   "execution_count": 0,
   "metadata": {
    "application/vnd.databricks.v1+cell": {
     "cellMetadata": {
      "byteLimit": 2048000,
      "rowLimit": 10000
     },
     "inputWidgets": {},
     "nuid": "8c416cdd-b376-4e24-92d1-82639a2003be",
     "showTitle": false,
     "tableResultSettingsMap": {},
     "title": ""
    }
   },
   "outputs": [],
   "source": [
    "import sys\n",
    "import os\n",
    "sys.path.append(os.path.abspath('.'))\n",
    "\n",
    "spark.sql(f\"USE CATALOG {catalog};\")\n",
    "spark.sql(f\"USE SCHEMA {schema};\")"
   ]
  },
  {
   "cell_type": "markdown",
   "metadata": {
    "application/vnd.databricks.v1+cell": {
     "cellMetadata": {},
     "inputWidgets": {},
     "nuid": "df130ce7-99e3-483b-9957-6e6d65e0a586",
     "showTitle": false,
     "tableResultSettingsMap": {},
     "title": ""
    }
   },
   "source": [
    "# Create Demographic Data"
   ]
  },
  {
   "cell_type": "code",
   "execution_count": 0,
   "metadata": {
    "application/vnd.databricks.v1+cell": {
     "cellMetadata": {
      "byteLimit": 2048000,
      "rowLimit": 10000
     },
     "inputWidgets": {},
     "nuid": "dc6b45dd-5228-4673-a917-08b614771058",
     "showTitle": false,
     "tableResultSettingsMap": {},
     "title": ""
    }
   },
   "outputs": [],
   "source": [
    "from faker_utils import FakeDemographicDataGenerator\n",
    "\n",
    "config = {\n",
    "    \"name\": None,\n",
    "    \"age\": {\"min\": 18, \"max\": 90},\n",
    "    \"gender\": [\"Male\", \"Female\", \"Non-binary\"],\n",
    "    \"email\": None,\n",
    "    \"phone\": None,\n",
    "    \"address\": None,\n",
    "    \"city\": None,\n",
    "    \"country\": None,\n",
    "    \"income_level\": [\"Low\", \"Middle\", \"High\"],\n",
    "    \"investment_experience\": [\"Beginner\", \"Intermediate\", \"Expert\"],\n",
    "    \"risk_aversion\": [\"Low\", \"Medium\", \"High\"],\n",
    "    \"investment_preference\": [\"Stocks\", \"Bonds\", \"Real Estate\", \"Cryptocurrency\", \"Mutual Funds\"]\n",
    "}\n",
    "\n",
    "demographic_gen = FakeDemographicDataGenerator(config=config, num_records=100)\n",
    "df_demographic = demographic_gen.generate()\n",
    "df_demographic.head()"
   ]
  },
  {
   "cell_type": "code",
   "execution_count": 0,
   "metadata": {
    "application/vnd.databricks.v1+cell": {
     "cellMetadata": {
      "byteLimit": 2048000,
      "rowLimit": 10000
     },
     "inputWidgets": {},
     "nuid": "4a431036-4260-4ab3-b8b9-890749d78d38",
     "showTitle": false,
     "tableResultSettingsMap": {},
     "title": ""
    }
   },
   "outputs": [],
   "source": [
    "spark.createDataFrame(df_demographic).write \\\n",
    "    .mode(\"overwrite\") \\\n",
    "    .saveAsTable(\"investment_customer_demographics\")"
   ]
  },
  {
   "cell_type": "markdown",
   "metadata": {
    "application/vnd.databricks.v1+cell": {
     "cellMetadata": {},
     "inputWidgets": {},
     "nuid": "8d08105b-73ae-42d2-b43f-fafeb15ce553",
     "showTitle": false,
     "tableResultSettingsMap": {},
     "title": ""
    }
   },
   "source": [
    "\n",
    "# Create Investment Products"
   ]
  },
  {
   "cell_type": "markdown",
   "metadata": {
    "application/vnd.databricks.v1+cell": {
     "cellMetadata": {},
     "inputWidgets": {},
     "nuid": "af1ac5de-70e6-4397-b257-dbe21521a413",
     "showTitle": false,
     "tableResultSettingsMap": {},
     "title": ""
    }
   },
   "source": [
    "# Create Investment Product Offering"
   ]
  },
  {
   "cell_type": "code",
   "execution_count": 0,
   "metadata": {
    "application/vnd.databricks.v1+cell": {
     "cellMetadata": {
      "byteLimit": 2048000,
      "rowLimit": 10000
     },
     "inputWidgets": {},
     "nuid": "8fbe8988-f1a1-4b45-acdf-eaa02b30ef61",
     "showTitle": false,
     "tableResultSettingsMap": {},
     "title": ""
    }
   },
   "outputs": [],
   "source": [
    "from openai import OpenAI\n",
    "import os\n",
    "\n",
    "DATABRICKS_TOKEN = dbutils.notebook.entry_point.getDbutils().notebook().getContext().apiToken().get()\n",
    "\n",
    "CLIENT = OpenAI(\n",
    "  api_key=DATABRICKS_TOKEN,\n",
    "  base_url=\"https://adb-984752964297111.11.azuredatabricks.net/serving-endpoints\"\n",
    ")"
   ]
  },
  {
   "cell_type": "code",
   "execution_count": 0,
   "metadata": {
    "application/vnd.databricks.v1+cell": {
     "cellMetadata": {
      "byteLimit": 2048000,
      "rowLimit": 10000
     },
     "inputWidgets": {},
     "nuid": "45d83b0b-511b-4ce7-ae82-97f114c133ec",
     "showTitle": false,
     "tableResultSettingsMap": {},
     "title": ""
    }
   },
   "outputs": [],
   "source": [
    "import re\n",
    "import json\n",
    "\n",
    "def oneshot_prompt(prompt, model=\"databricks-meta-llama-3-3-70b-instruct\"):\n",
    "    response = CLIENT.chat.completions.create(\n",
    "      model=model,\n",
    "      max_tokens=2000,\n",
    "      messages=[\n",
    "        {\"role\": \"system\", \"content\": \"You are a helpful assistant.\"},\n",
    "        {\"role\": \"user\", \"content\": prompt},\n",
    "      ]\n",
    "    )\n",
    "    return response.choices[0].message.content \n",
    "\n",
    "\n",
    "def create_product(model=\"databricks-meta-llama-3-3-70b-instruct\", k=10):\n",
    "    product_prompt = \\\n",
    "    f\"\"\"\n",
    "    Generate a list {k} finacial products or services a investment management company would offer to customer of different risk aversion and income levels. Return JSON key value pairs where key is the service name and value is the service description.\n",
    "    \"\"\"\n",
    "    result = oneshot_prompt(product_prompt, model)\n",
    "    match = re.search(r'```json(.*?)```', result, re.DOTALL)\n",
    "    if match:\n",
    "        result = match.group(1).strip()\n",
    "        try:\n",
    "            result = json.loads(result)\n",
    "        except json.JSONDecodeError:\n",
    "            result = {}\n",
    "    else:\n",
    "        return result\n",
    "    return result"
   ]
  },
  {
   "cell_type": "code",
   "execution_count": 0,
   "metadata": {
    "application/vnd.databricks.v1+cell": {
     "cellMetadata": {
      "byteLimit": 2048000,
      "rowLimit": 10000
     },
     "inputWidgets": {},
     "nuid": "32b76390-cbdb-44ce-8f70-d61a6dac8ebf",
     "showTitle": false,
     "tableResultSettingsMap": {},
     "title": ""
    }
   },
   "outputs": [],
   "source": [
    "products = create_product()\n",
    "products"
   ]
  },
  {
   "cell_type": "code",
   "execution_count": 0,
   "metadata": {
    "application/vnd.databricks.v1+cell": {
     "cellMetadata": {
      "byteLimit": 2048000,
      "rowLimit": 10000
     },
     "inputWidgets": {},
     "nuid": "576e0cf7-2ca3-4ee7-a5d9-67e0be74abf7",
     "showTitle": false,
     "tableResultSettingsMap": {},
     "title": ""
    }
   },
   "outputs": [],
   "source": [
    "from faker_utils import generate_product_data\n",
    "\n",
    "products_tiers = ['self_managed', 'digital_advisor', 'personal_advisor']\n",
    "\n",
    "df_products = generate_product_data(products, products_tiers)\n",
    "df_products"
   ]
  },
  {
   "cell_type": "code",
   "execution_count": 0,
   "metadata": {
    "application/vnd.databricks.v1+cell": {
     "cellMetadata": {
      "byteLimit": 2048000,
      "rowLimit": 10000
     },
     "inputWidgets": {},
     "nuid": "f8eed58b-d1ec-43fe-ac07-76d5485e1958",
     "showTitle": false,
     "tableResultSettingsMap": {},
     "title": ""
    }
   },
   "outputs": [],
   "source": [
    "spark.createDataFrame(df_products).write.mode('overwrite').saveAsTable('investment_products')"
   ]
  },
  {
   "cell_type": "markdown",
   "metadata": {
    "application/vnd.databricks.v1+cell": {
     "cellMetadata": {},
     "inputWidgets": {},
     "nuid": "020d9766-b004-42d2-a352-abdccd768296",
     "showTitle": false,
     "tableResultSettingsMap": {},
     "title": ""
    }
   },
   "source": [
    "# Marketing Condition\n",
    "\n",
    "LLM based report generator (not following general template)\n",
    "\n",
    "* Look at customer returns\n",
    "* Write an email to customer about recommendation based on the current market condition\n",
    "  * summary of top movers\n",
    "  * Snapshot of their proflio performance (less important)\n",
    "\n",
    "\n",
    "scenario: \n",
    "* Tech stocks\n",
    "* customer [stocks ...] [%gain ....]\n",
    "* Get headline from internet search\n",
    "  * stock symbol, news chunks, changes in price of stocks, detect the reason why the stock price changes\n"
   ]
  }
 ],
 "metadata": {
  "application/vnd.databricks.v1+notebook": {
   "computePreferences": null,
   "dashboards": [],
   "environmentMetadata": null,
   "language": "python",
   "notebookMetadata": {
    "pythonIndentUnit": 4
   },
   "notebookName": "00-synthetic_data_generation",
   "widgets": {
    "catalog": {
     "currentValue": "fins_genai",
     "nuid": "1e2af563-cd8b-4549-93d7-a567953d53f6",
     "typedWidgetInfo": {
      "autoCreated": false,
      "defaultValue": "fins_genai",
      "label": "Catalog",
      "name": "catalog",
      "options": {
       "widgetDisplayType": "Text",
       "validationRegex": null
      },
      "parameterDataType": "String"
     },
     "widgetInfo": {
      "widgetType": "text",
      "defaultValue": "fins_genai",
      "label": "Catalog",
      "name": "catalog",
      "options": {
       "widgetType": "text",
       "autoCreated": null,
       "validationRegex": null
      }
     }
    },
    "schema": {
     "currentValue": "agents",
     "nuid": "a8432426-284d-4f39-82c4-08a027fecc89",
     "typedWidgetInfo": {
      "autoCreated": false,
      "defaultValue": "agents",
      "label": "Schema",
      "name": "schema",
      "options": {
       "widgetDisplayType": "Text",
       "validationRegex": null
      },
      "parameterDataType": "String"
     },
     "widgetInfo": {
      "widgetType": "text",
      "defaultValue": "agents",
      "label": "Schema",
      "name": "schema",
      "options": {
       "widgetType": "text",
       "autoCreated": null,
       "validationRegex": null
      }
     }
    }
   }
  },
  "language_info": {
   "name": "python"
  }
 },
 "nbformat": 4,
 "nbformat_minor": 0
}
