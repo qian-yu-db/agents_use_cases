{
 "cells": [
  {
   "cell_type": "code",
   "execution_count": 0,
   "metadata": {
    "application/vnd.databricks.v1+cell": {
     "cellMetadata": {
      "byteLimit": 2048000,
      "rowLimit": 10000
     },
     "inputWidgets": {},
     "nuid": "eda7eb96-103a-42f1-8b2e-8e40ba0523d9",
     "showTitle": false,
     "tableResultSettingsMap": {},
     "title": ""
    }
   },
   "outputs": [],
   "source": [
    "%pip install crewai==0.85.0 crewai_tools==0.14.0 langchain_community==0.3.8\n",
    "%pip install mlflow -U -q\n",
    "dbutils.library.restartPython()"
   ]
  },
  {
   "cell_type": "code",
   "execution_count": 0,
   "metadata": {
    "application/vnd.databricks.v1+cell": {
     "cellMetadata": {
      "byteLimit": 2048000,
      "rowLimit": 10000
     },
     "inputWidgets": {},
     "nuid": "a80f0c21-ea1b-4bf1-844e-8da7b7f0c915",
     "showTitle": false,
     "tableResultSettingsMap": {},
     "title": ""
    }
   },
   "outputs": [],
   "source": [
    "import os\n",
    "import yaml\n",
    "import sys\n",
    "from crewai import Agent, Task, Crew\n",
    "\n",
    "\n",
    "catalog = \"fins_genai\"\n",
    "schema = \"agents\"\n",
    "\n",
    "os.environ[\"DATABRICKS_API_KEY\"] = dbutils.secrets.get(\"databricks_token_qyu\", \"qyu_rag_sp_token\")\n",
    "os.environ[\"DATABRICKS_API_BASE\"] = (\n",
    "    f\"{dbutils.notebook.entry_point.getDbutils().notebook().getContext().apiUrl().get()}/serving-endpoints\"\n",
    ")\n",
    "\n",
    "# Set your Serper.dev API key for Google Search\n",
    "os.environ[\"SERPER_API_KEY\"] = dbutils.secrets.get(\"databricks_token_qyu\", 'SerpApi')"
   ]
  },
  {
   "cell_type": "markdown",
   "metadata": {
    "application/vnd.databricks.v1+cell": {
     "cellMetadata": {
      "byteLimit": 2048000,
      "rowLimit": 10000
     },
     "inputWidgets": {},
     "nuid": "1db8bd2b-b186-422b-ac37-e567fd7c876a",
     "showTitle": false,
     "tableResultSettingsMap": {},
     "title": ""
    }
   },
   "source": [
    "# Define a Web Search Crew for Stock Symbols"
   ]
  },
  {
   "cell_type": "code",
   "execution_count": 0,
   "metadata": {
    "application/vnd.databricks.v1+cell": {
     "cellMetadata": {
      "byteLimit": 2048000,
      "rowLimit": 10000
     },
     "inputWidgets": {},
     "nuid": "4725c5af-ad2b-4ccd-8832-2e9837318643",
     "showTitle": false,
     "tableResultSettingsMap": {},
     "title": ""
    }
   },
   "outputs": [],
   "source": [
    "from crewai_tools import SerperDevTool\n",
    "\n",
    "# Initialize the search tool\n",
    "search_tool = SerperDevTool()"
   ]
  },
  {
   "cell_type": "code",
   "execution_count": 0,
   "metadata": {
    "application/vnd.databricks.v1+cell": {
     "cellMetadata": {
      "byteLimit": 2048000,
      "rowLimit": 10000
     },
     "inputWidgets": {},
     "nuid": "5120d864-fdbd-4960-8389-0451d7f0fe13",
     "showTitle": false,
     "tableResultSettingsMap": {},
     "title": ""
    }
   },
   "outputs": [],
   "source": [
    "from crewai import Agent\n",
    "from langchain.chat_models import ChatOpenAI\n",
    "from crewai import LLM\n",
    "\n",
    "# Initialize the language model\n",
    "llm = LLM(model=\"databricks/QYU_gpt4o_mini\")\n",
    "\n",
    "# Define the News Search Agent\n",
    "news_search_agent = Agent(\n",
    "    role=\"News Search Agent\",\n",
    "    goal=\"Find recent news articles related to the given stock ticker symbols {tickers} between {date1} and {date2}\",\n",
    "    backstory=\"An expert in financial news retrieval.\",\n",
    "    tools=[search_tool],\n",
    "    verbose=True,\n",
    "    llm=llm\n",
    ")\n",
    "\n",
    "# Define the Content Summarizer Agent\n",
    "content_summarizer_agent = Agent(\n",
    "    role=\"Content Summarizer Agent\",\n",
    "    goal=\"Summarize the content of the retrieved news articles. Highlight the positives, negatives, neutral points for each stock tickers\",\n",
    "    backstory=\"An expert in summarizing financial news.\",\n",
    "    verbose=True,\n",
    "    llm=llm\n",
    ")\n"
   ]
  },
  {
   "cell_type": "code",
   "execution_count": 0,
   "metadata": {
    "application/vnd.databricks.v1+cell": {
     "cellMetadata": {
      "byteLimit": 2048000,
      "rowLimit": 10000
     },
     "inputWidgets": {},
     "nuid": "89bf5ecc-b6bc-47a3-a55b-f01710aceb6c",
     "showTitle": false,
     "tableResultSettingsMap": {},
     "title": ""
    }
   },
   "outputs": [],
   "source": [
    "from crewai import Task\n",
    "\n",
    "# Task for searching news\n",
    "search_news_task = Task(\n",
    "    description=\"Search for news articles about the stock tickers {tickers} between {date1} and {date2}.\",\n",
    "    expected_output=\"news articles titles and content for each stock tickers\", \n",
    "    agent=news_search_agent\n",
    ")\n",
    "\n",
    "# Task for summarizing news\n",
    "summarize_news_task = Task(\n",
    "    description=\"Review the news articles you found for each stock tickers, summarize the content of the news articles retrieved. highlights the positives, negatives, and neutral points for each stock tickers\",\n",
    "    expected_output=\"summarized news articles and highlights for each stock tickers\",\n",
    "    agent=content_summarizer_agent,\n",
    "    context=[search_news_task]\n",
    ")\n"
   ]
  },
  {
   "cell_type": "markdown",
   "metadata": {
    "application/vnd.databricks.v1+cell": {
     "cellMetadata": {
      "byteLimit": 2048000,
      "rowLimit": 10000
     },
     "inputWidgets": {},
     "nuid": "f382f43b-8e70-4f51-b10c-45c8158939a5",
     "showTitle": false,
     "tableResultSettingsMap": {},
     "title": ""
    }
   },
   "source": [
    "## Assemble the crew"
   ]
  },
  {
   "cell_type": "code",
   "execution_count": 0,
   "metadata": {
    "application/vnd.databricks.v1+cell": {
     "cellMetadata": {
      "byteLimit": 2048000,
      "rowLimit": 10000
     },
     "inputWidgets": {},
     "nuid": "36367d06-40ad-4c3b-a3cd-0c22eda13dd0",
     "showTitle": false,
     "tableResultSettingsMap": {},
     "title": ""
    }
   },
   "outputs": [],
   "source": [
    "from crewai import Crew\n",
    "\n",
    "# Create the crew\n",
    "stock_news_crew = Crew(\n",
    "    agents=[news_search_agent, content_summarizer_agent],\n",
    "    tasks=[search_news_task, summarize_news_task],\n",
    "    verbose=True\n",
    ")\n"
   ]
  },
  {
   "cell_type": "code",
   "execution_count": 0,
   "metadata": {
    "application/vnd.databricks.v1+cell": {
     "cellMetadata": {
      "byteLimit": 2048000,
      "rowLimit": 10000
     },
     "inputWidgets": {},
     "nuid": "70eb3278-914b-4788-b780-f0a21e7d82f9",
     "showTitle": false,
     "tableResultSettingsMap": {},
     "title": ""
    }
   },
   "outputs": [],
   "source": [
    "import mlflow\n",
    "\n",
    "mlflow.crewai.autolog()\n",
    "\n",
    "# Define the stock ticker symbol\n",
    "ticker_symbol = \"NVDA AAPL TSLA\"\n",
    "date1 = \"Jan 24th, 2025\"\n",
    "date2 = \"Feb 10th, 2025\"\n",
    "\n",
    "# Execute the crew\n",
    "with mlflow.start_run() as run:\n",
    "    stock_news_crew.kickoff(inputs={\"tickers\": ticker_symbol, \"date1\": date1, \"date2\": date2})\n"
   ]
  },
  {
   "cell_type": "code",
   "execution_count": 0,
   "metadata": {
    "application/vnd.databricks.v1+cell": {
     "cellMetadata": {
      "byteLimit": 2048000,
      "rowLimit": 10000
     },
     "inputWidgets": {},
     "nuid": "2c600d09-b629-403b-965a-77711713d887",
     "showTitle": false,
     "tableResultSettingsMap": {},
     "title": ""
    }
   },
   "outputs": [],
   "source": []
  }
 ],
 "metadata": {
  "application/vnd.databricks.v1+notebook": {
   "computePreferences": null,
   "dashboards": [],
   "environmentMetadata": {
    "base_environment": "",
    "environment_version": "2"
   },
   "language": "python",
   "notebookMetadata": {
    "pythonIndentUnit": 4
   },
   "notebookName": "web_search_tool",
   "widgets": {}
  },
  "language_info": {
   "name": "python"
  }
 },
 "nbformat": 4,
 "nbformat_minor": 0
}
